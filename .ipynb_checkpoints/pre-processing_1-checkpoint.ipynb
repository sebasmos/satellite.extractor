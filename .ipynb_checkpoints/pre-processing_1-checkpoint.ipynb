{
 "cells": [
  {
   "cell_type": "code",
   "execution_count": 29,
   "metadata": {},
   "outputs": [],
   "source": [
    "import datetime\n",
    "import numpy as np\n",
    "import os"
   ]
  },
  {
   "cell_type": "code",
   "execution_count": 73,
   "metadata": {},
   "outputs": [],
   "source": [
    "#2016\n",
    "start = datetime.datetime(2016,1,1) #2020-06-01', '2020-06-3\n",
    "end = datetime.datetime(2016,12,31)\n",
    "n_chunks = 52 # num semanas/año\n",
    "tdelta = (end - start) / n_chunks\n",
    "edges = [(start + i*tdelta).date().isoformat() for i in range(n_chunks)]\n",
    "# Obtain intervals\n",
    "slots_2016 = [(edges[i], edges[i+1]) for i in range(len(edges)-1)]\n",
    "slots = np.array(slots_2016)\n",
    "name_cols_2016 = slots[:,1]\n",
    "#name_cols = str(name_cols)\n",
    "name_cols_2016[:10]"
   ]
  },
  {
   "cell_type": "code",
   "execution_count": 74,
   "metadata": {},
   "outputs": [
    {
     "data": {
      "text/plain": [
       "array(['2017-01-08', '2017-01-15', '2017-01-22', '2017-01-29',\n",
       "       '2017-02-05', '2017-02-12', '2017-02-19', '2017-02-26',\n",
       "       '2017-03-05', '2017-03-12'], dtype='<U10')"
      ]
     },
     "execution_count": 74,
     "metadata": {},
     "output_type": "execute_result"
    }
   ],
   "source": [
    "#2017\n",
    "start = datetime.datetime(2017,1,1) #2020-06-01', '2020-06-3\n",
    "end = datetime.datetime(2017,12,31)\n",
    "n_chunks = 52 # num semanas/año\n",
    "tdelta = (end - start) / n_chunks\n",
    "edges = [(start + i*tdelta).date().isoformat() for i in range(n_chunks)]\n",
    "# Obtain intervals\n",
    "slots_2017 = [(edges[i], edges[i+1]) for i in range(len(edges)-1)]\n",
    "slots = np.array(slots_2017)\n",
    "name_cols_2017 = slots[:,1]\n",
    "#name_cols = str(name_cols)\n",
    "name_cols_2017[:10]"
   ]
  },
  {
   "cell_type": "code",
   "execution_count": 76,
   "metadata": {},
   "outputs": [
    {
     "data": {
      "text/plain": [
       "array(['2018-01-08', '2018-01-15', '2018-01-22', '2018-01-29',\n",
       "       '2018-02-05', '2018-02-12', '2018-02-19', '2018-02-26',\n",
       "       '2018-03-05', '2018-03-12'], dtype='<U10')"
      ]
     },
     "execution_count": 76,
     "metadata": {},
     "output_type": "execute_result"
    }
   ],
   "source": [
    "#2018\n",
    "start = datetime.datetime(2018,1,1) #2020-06-01', '2020-06-3\n",
    "end = datetime.datetime(2018,12,31)\n",
    "n_chunks = 52 # num semanas/año\n",
    "tdelta = (end - start) / n_chunks\n",
    "edges = [(start + i*tdelta).date().isoformat() for i in range(n_chunks)]\n",
    "# Obtain intervals\n",
    "slots_2018 = [(edges[i], edges[i+1]) for i in range(len(edges)-1)]\n",
    "slots = np.array(slots_2018)\n",
    "name_cols_2018 = slots[:,1]\n",
    "#name_cols = str(name_cols)\n",
    "name_cols_2018[:10]"
   ]
  },
  {
   "cell_type": "code",
   "execution_count": 37,
   "metadata": {},
   "outputs": [
    {
     "name": "stdout",
     "output_type": "stream",
     "text": [
      "51\n"
     ]
    }
   ],
   "source": [
    "root_images = \"./data/data_medellin/\"\n",
    "aois_2016 = sorted([f for f in os.listdir(os.path.join(root_images,\"2016\"))\n",
    "               if os.path.isdir(os.path.join(root_images,\"2016\", f))])\n",
    "aois_2017 = sorted([f for f in os.listdir(os.path.join(root_images,\"2017\"))\n",
    "               if os.path.isdir(os.path.join(root_images,\"2017\", f))])\n",
    "aois_2018 = sorted([f for f in os.listdir(os.path.join(root_images,\"2018\"))\n",
    "               if os.path.isdir(os.path.join(root_images,\"2018\", f))])\n",
    "print(len(aois_2016))"
   ]
  },
  {
   "cell_type": "code",
   "execution_count": 72,
   "metadata": {},
   "outputs": [
    {
     "name": "stdout",
     "output_type": "stream",
     "text": [
      "./data/data_medellin/2016/00a89c3394823338087d55f151b31f60/2016-01-08.tiff\n",
      "./data/data_medellin/2016/0153af258a30612f2459fda4ec401859/2016-01-15.tiff\n",
      "./data/data_medellin/2016/0161b51c17e2cdfcb5436b7057906956/2016-01-22.tiff\n",
      "./data/data_medellin/2016/09bf2f6428b812ac38191b81ace0b006/2016-01-29.tiff\n",
      "./data/data_medellin/2016/13d00a4f7d12c5fb3d2838afcc8fd205/2016-02-05.tiff\n",
      "./data/data_medellin/2016/18dc63ae762f7ddadf8fac27310507f1/2016-02-12.tiff\n",
      "./data/data_medellin/2016/1ee56b84c572fde3707ea04d352022ce/2016-02-19.tiff\n",
      "./data/data_medellin/2016/2524afa7dada2e490e3741ed5d2d76c9/2016-02-26.tiff\n",
      "./data/data_medellin/2016/2726820e6e74b088bda140b14946ca7e/2016-03-04.tiff\n",
      "./data/data_medellin/2016/2d595444e8225fe918fed805798761bd/2016-03-11.tiff\n",
      "./data/data_medellin/2016/32d4777b98bdfe15fba4f2df62ba3ac3/2016-03-18.tiff\n",
      "./data/data_medellin/2016/343e4370c990a20ab969aabf389d2475/2016-03-25.tiff\n",
      "./data/data_medellin/2016/3c4106e687154604f4bc538d87348087/2016-04-01.tiff\n",
      "./data/data_medellin/2016/3ddd636811dac884a41121331dac382e/2016-04-08.tiff\n",
      "./data/data_medellin/2016/430412706d4debef6778dd51070440a7/2016-04-15.tiff\n",
      "./data/data_medellin/2016/498a15dd832b7f0852b4a0bbc70bf136/2016-04-22.tiff\n",
      "./data/data_medellin/2016/4d40ebe20d602159d479f380a59dd4a2/2016-04-29.tiff\n",
      "./data/data_medellin/2016/4f34fa20aa4801f64d378a0e89d2f4e7/2016-05-06.tiff\n",
      "./data/data_medellin/2016/4fab60ea608f5c25a93fe6b3cdbad1cf/2016-05-13.tiff\n",
      "./data/data_medellin/2016/576ec4805efacb5aa43729db4f73919c/2016-05-20.tiff\n",
      "./data/data_medellin/2016/57820bcf0afc1899da6a1d101c94c4a6/2016-05-27.tiff\n",
      "./data/data_medellin/2016/6386365c3b1c64e40bf487ba23feff90/2016-06-03.tiff\n",
      "./data/data_medellin/2016/6821a6c4466aa85ae57c2bcefde709a5/2016-06-10.tiff\n",
      "./data/data_medellin/2016/697943d3274501bb339d944dfd571d3d/2016-06-17.tiff\n",
      "./data/data_medellin/2016/6f117620b078448e64284d404efd1616/2016-06-24.tiff\n",
      "./data/data_medellin/2016/722967d21bbfd3f9e7cb1d548c0f5fb8/2016-07-01.tiff\n",
      "./data/data_medellin/2016/72af32bb05e5856e176e8f8cf928a9b4/2016-07-08.tiff\n",
      "./data/data_medellin/2016/8456106955d3f868829d35f7c9a7ae31/2016-07-15.tiff\n",
      "./data/data_medellin/2016/855c1283f7f791dcb878268407dfacea/2016-07-22.tiff\n",
      "./data/data_medellin/2016/8e7ef0b0ac5b8c7ff7d8cc555f65afb4/2016-07-29.tiff\n",
      "./data/data_medellin/2016/8eab295ce20795d864f49e9664b6d7fd/2016-08-05.tiff\n",
      "./data/data_medellin/2016/9228e40efbd03f75e1ce907e4aa6f707/2016-08-12.tiff\n",
      "./data/data_medellin/2016/93c606ef6b5209784c57a3e60ba5a63f/2016-08-19.tiff\n",
      "./data/data_medellin/2016/9c0ac87c6f3fd682ba1b31f4282d4e0b/2016-08-26.tiff\n",
      "./data/data_medellin/2016/a28eef352b7c60a1ad8d497192266316/2016-09-02.tiff\n",
      "./data/data_medellin/2016/a5bea0cc830a45e2a29e1614afa612fa/2016-09-09.tiff\n",
      "./data/data_medellin/2016/a949ddce393f553c1ec16cce6c32fe87/2016-09-16.tiff\n",
      "./data/data_medellin/2016/abc0a965bb61f29f2b338f41a37b4f81/2016-09-23.tiff\n",
      "./data/data_medellin/2016/b06e097410b9b6b577eccf9790db95cd/2016-09-30.tiff\n",
      "./data/data_medellin/2016/b483805b6a98316680ff493f8f1928b5/2016-10-07.tiff\n",
      "./data/data_medellin/2016/b48c159dd818c75e5ffedc3c7b17ea19/2016-10-14.tiff\n",
      "./data/data_medellin/2016/b7a32564845d80130bfc696ea0b64659/2016-10-21.tiff\n",
      "./data/data_medellin/2016/b85aaa1393140473a9e1c6e37df34260/2016-10-28.tiff\n",
      "./data/data_medellin/2016/c0da27cc1f96454a41738060ed12c68c/2016-11-04.tiff\n",
      "./data/data_medellin/2016/ce6a9f9e372b8f419382820560c29f18/2016-11-11.tiff\n",
      "./data/data_medellin/2016/cf26af70236233126d15087cde963236/2016-11-18.tiff\n",
      "./data/data_medellin/2016/d05bb227e247ecf5f38b5f5af0cd31e9/2016-11-25.tiff\n",
      "./data/data_medellin/2016/d2766a89e6f28f5182f37a310bfc7337/2016-12-02.tiff\n",
      "./data/data_medellin/2016/ec9cbf6ea9fae25f9fcfc2318d4ebd74/2016-12-09.tiff\n",
      "./data/data_medellin/2016/f278d3e06449e7be54d2cfc8f1b3cd14/2016-12-16.tiff\n",
      "./data/data_medellin/2016/f90c43a348b995f9ccd32849905ce90a/2016-12-23.tiff\n"
     ]
    }
   ],
   "source": [
    "#2016\n",
    "for i, aoi in enumerate(aois_2016):\n",
    "    #print(i, \"aoi:\", aoi)\n",
    "    im_dir = os.path.join(root_images, '2016', aoi, 'response.tiff')\n",
    "    image_path = os.path.join(im_dir).replace('response', name_cols_2016[i])\n",
    "    os.rename(im_dir, image_path)\n",
    "    print(image_path)\n",
    "    \n",
    "# 2017 \n",
    "for i, aoi in enumerate(aois_2017):\n",
    "    #print(i, \"aoi:\", aoi)\n",
    "    im_dir = os.path.join(root_images, '2017', aoi, 'response.tiff')\n",
    "    image_path = os.path.join(im_dir).replace('response', name_cols_2017[i])\n",
    "    os.rename(im_dir, image_path)\n",
    "    print(image_path)\n",
    "    \n",
    "# 2018 \n",
    "for i, aoi in enumerate(aois_2018):\n",
    "    #print(i, \"aoi:\", aoi)\n",
    "    im_dir = os.path.join(root_images, '2018', aoi, 'response.tiff')\n",
    "    image_path = os.path.join(im_dir).replace('response', name_cols_2018[i])\n",
    "    os.rename(im_dir, image_path)\n",
    "    print(image_path)"
   ]
  },
  {
   "cell_type": "code",
   "execution_count": null,
   "metadata": {},
   "outputs": [],
   "source": []
  }
 ],
 "metadata": {
  "kernelspec": {
   "display_name": "Cardiolux",
   "language": "python",
   "name": "cardiolux"
  },
  "language_info": {
   "codemirror_mode": {
    "name": "ipython",
    "version": 3
   },
   "file_extension": ".py",
   "mimetype": "text/x-python",
   "name": "python",
   "nbconvert_exporter": "python",
   "pygments_lexer": "ipython3",
   "version": "3.9.6"
  }
 },
 "nbformat": 4,
 "nbformat_minor": 4
}
