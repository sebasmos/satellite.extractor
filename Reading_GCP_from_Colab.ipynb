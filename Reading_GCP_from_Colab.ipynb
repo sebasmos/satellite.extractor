{
  "nbformat": 4,
  "nbformat_minor": 0,
  "metadata": {
    "colab": {
      "name": "Reading_GCP_from_Colab.ipynb",
      "provenance": [],
      "include_colab_link": true
    },
    "kernelspec": {
      "name": "python3",
      "display_name": "Python 3"
    },
    "language_info": {
      "name": "python"
    }
  },
  "cells": [
    {
      "cell_type": "markdown",
      "metadata": {
        "id": "view-in-github",
        "colab_type": "text"
      },
      "source": [
        "<a href=\"https://colab.research.google.com/github/sebasmos/satellite.extractor/blob/main/Reading_GCP_from_Colab.ipynb\" target=\"_parent\"><img src=\"https://colab.research.google.com/assets/colab-badge.svg\" alt=\"Open In Colab\"/></a>"
      ]
    },
    {
      "cell_type": "code",
      "execution_count": null,
      "metadata": {
        "colab": {
          "base_uri": "https://localhost:8080/"
        },
        "id": "EmdJgUdoTiuk",
        "outputId": "a2213cb1-ca8c-4a3c-9f84-8135a935df71"
      },
      "outputs": [
        {
          "output_type": "stream",
          "name": "stdout",
          "text": [
            "Collecting epiweeks\n",
            "  Downloading epiweeks-2.1.4-py3-none-any.whl (5.9 kB)\n",
            "Installing collected packages: epiweeks\n",
            "Successfully installed epiweeks-2.1.4\n"
          ]
        }
      ],
      "source": [
        "!pip install epiweeks"
      ]
    },
    {
      "cell_type": "code",
      "source": [
        "def readImg(img_path, resize_ratio=None):\n",
        "  img = io.imread(img_path)\n",
        "\n",
        "  if resize_ratio:\n",
        "    img_rescale = rescale(img, resize_ratio, anti_aliasing=True)\n",
        "\n",
        "  print(os.path.basename(img_path), '(origin shape:', img.shape, '-> rescale:', str(img_rescale.shape) + ')')\n",
        "  return img_rescale\n",
        "\n",
        "\n",
        "# Load data from one of the source\n",
        "def loadData(csv_folder, img_folder, option=None, resize_ratio=None):\n",
        "  if option is None:\n",
        "    # Get data by combining from csv and images\n",
        "    df = loadStructuredData(csv_folder)\n",
        "    info_dict = combineData(img_folder, df, resize_ratio)\n",
        "    \n",
        "    print(len(info_dict['LastDayWeek']), len(info_dict['Image']), len(info_dict['cases_medellin']))\n",
        "\n",
        "  else:\n",
        "    # Load data from previous pickle file\n",
        "    info_dict = 1#loadDataFromPickle(option)\n",
        "  return info_dict\n",
        "  \n",
        "\n",
        "def loadStructuredData(csv_path):\n",
        "  df = pd.DataFrame()\n",
        "  if os.path.isdir(csv_path):\n",
        "    for filename in os.listdir(csv_path):\n",
        "      file_path = os.path.join(csv_path, filename)\n",
        "      df = df.append(pd.read_csv(file_path))\n",
        "  elif os.path.isfile(csv_path):\n",
        "    df = pd.read_csv(csv_path)\n",
        "  else:\n",
        "    print('Error: Not folder or file')\n",
        "  return df\n",
        "  \n",
        "def getEpiWeek(origin_str):\n",
        "  \"\"\"Get epi week from string\n",
        "  \"\"\"\n",
        "  date_ls = origin_str.split('-')\n",
        "  return Week.fromdate(date(int(date_ls[0]), int(date_ls[1]), int(date_ls[2])))\n",
        "  \n",
        "def combineData(img_folder, df, resize_ratio=None):\n",
        "  info_dict = {'LastDayWeek':[], 'cases_medellin':[], 'Image':[], 'epi_week':[]}\n",
        "  img_list = os.listdir(img_folder)\n",
        "\n",
        "  for index, row in df.iterrows():\n",
        "    name = row['LastDayWeek']\n",
        "    week_df = str(getEpiWeek(name))\n",
        "    case = row['cases_medellin']\n",
        "    for img_name in img_list:\n",
        "      \n",
        "      # If image name is image_2017-12-24.tiff -> get 2017-12-24\n",
        "      # Reference Links: https://www.w3schools.com/python/ref_string_join.asp, \n",
        "      #                  https://stackoverflow.com/questions/13174468/how-do-you-join-all-items-in-a-list/13175535\n",
        "      new_img_name = ''.join(i for i in img_name if i.isdigit() or i == '-')      \n",
        "\n",
        "      week_img = str(getEpiWeek(new_img_name))\n",
        "      #print(f\"{week_df} = {week_img}\")\n",
        "      if week_df == week_img:\n",
        "        #print(\"ENTRO\")\n",
        "        img_path = os.path.join(img_folder, img_name)\n",
        "        img = readImg(img_path, resize_ratio)\n",
        "\n",
        "        info_dict['Image'].append(img)\n",
        "        info_dict['LastDayWeek'].append(name)\n",
        "        info_dict['cases_medellin'].append(case)\n",
        "        info_dict['epi_week'].append(week_df)\n",
        "        break\n",
        "\n",
        "  return info_dict\n",
        "\n",
        "def splitTrainTestSet(ratio):\n",
        "  # Split the data into training (ratio) and testing (1 - ratio)\n",
        "  train_val_ratio = ratio\n",
        "  train_num = int(len(info_dict['Image']) * train_val_ratio)\n",
        "\n",
        "  # Change list to array\n",
        "  origin_dimension_X = np.array(info_dict['Image'])\n",
        "  labels = np.array(info_dict['cases_medellin'])\n",
        "\n",
        "  print(''.center(60,'-'))\n",
        "\n",
        "  origin_X_train = origin_dimension_X[:train_num,:,:,:]\n",
        "  y_train = labels[:train_num]\n",
        "  origin_X_test = origin_dimension_X[train_num:,:,:,:]\n",
        "  y_test = labels[train_num:]\n",
        "\n",
        "  # print('Total number of weeks:'.ljust(30), len(origin_dimension_X), 'weeks')\n",
        "  # print('Training input:'.ljust(30), origin_X_train.shape)\n",
        "  # print('Training output:'.ljust(30), y_train.shape)\n",
        "  # print('Testing input:'.ljust(30), origin_X_test.shape)\n",
        "  # print('Testing output:'.ljust(30), y_test.shape) \n",
        "\n",
        "  # return origin_X_train, y_train, origin_X_test, y_test"
      ],
      "metadata": {
        "id": "vfQroQbldi2j"
      },
      "execution_count": null,
      "outputs": []
    },
    {
      "cell_type": "code",
      "source": [
        "import numpy as np \n",
        "import matplotlib.pyplot as plt\n",
        "import pandas as pd\n",
        "import seaborn as sns\n",
        "import math\n",
        "import os\n",
        "import time\n",
        "import sys\n",
        "sys.path.insert(0,'..')\n",
        "\n",
        "from sklearn.preprocessing import MinMaxScaler\n",
        "from sklearn.metrics import mean_squared_error\n",
        "from sklearn.metrics import mean_absolute_percentage_error\n",
        "from sklearn.metrics import  mean_absolute_error\n",
        "from matplotlib import pyplot as plt\n",
        "from sklearn.preprocessing import StandardScaler\n",
        "from sklearn.svm import SVR\n",
        "from sklearn.metrics import r2_score\n",
        "import seaborn as sns\n",
        "from scipy import signal\n",
        "import pickle\n",
        "\n",
        "from sklearn.decomposition import PCA\n",
        "\n",
        "from epiweeks import Week, Year\n",
        "from datetime import date\n",
        "\n",
        "from datetime import date\n",
        "\n",
        "from random import randint, randrange\n",
        "from skimage import io\n",
        "from skimage.transform import rescale, resize, downscale_local_mean\n",
        "\n",
        "import skimage\n",
        "import cv2\n",
        "import os\n",
        "import pandas as pd\n",
        "import numpy as np\n",
        "import pickle\n",
        "import plotly.express as px\n",
        "import matplotlib.pyplot as plt"
      ],
      "metadata": {
        "id": "91lGjT5peHLf"
      },
      "execution_count": null,
      "outputs": []
    },
    {
      "cell_type": "markdown",
      "source": [
        "# Download metadata:\n",
        "url = \"https://drive.google.com/u/0/uc?id=1RGrXHgvn60L4pHA40M0R0scszHLno5fD&export=download\"\n",
        "\n",
        "url = \"https://drive.google.com/file/d/1RGrXHgvn60L4pHA40M0R0scszHLno5fD/view?usp=sharing\""
      ],
      "metadata": {
        "id": "IYqtUujJuBcS"
      }
    },
    {
      "cell_type": "code",
      "source": [
        "!gdown --id 1RGrXHgvn60L4pHA40M0R0scszHLno5fD\n",
        "!unzip \"dengue.zip\" -d .\n",
        "!rm -f dengue.zip"
      ],
      "metadata": {
        "colab": {
          "base_uri": "https://localhost:8080/"
        },
        "id": "-mjWzOdNtEzE",
        "outputId": "3921ba18-18c5-4924-bd9e-6bc614d64352"
      },
      "execution_count": null,
      "outputs": [
        {
          "output_type": "stream",
          "name": "stdout",
          "text": [
            "Downloading...\n",
            "From: https://drive.google.com/uc?id=1RGrXHgvn60L4pHA40M0R0scszHLno5fD\n",
            "To: /content/dengue.zip\n",
            "\r  0% 0.00/28.7k [00:00<?, ?B/s]\r100% 28.7k/28.7k [00:00<00:00, 35.0MB/s]\n"
          ]
        }
      ]
    },
    {
      "cell_type": "markdown",
      "source": [
        "## Mount GCP bucket "
      ],
      "metadata": {
        "id": "QU0NOUHgxEpw"
      }
    },
    {
      "cell_type": "code",
      "source": [
        "# authenticate\n",
        "from google.colab import auth\n",
        "auth.authenticate_user()\n",
        "\n",
        "# set your gcp project\n",
        "!gcloud config set project mit-hst-dengue\n",
        "\n",
        "!gsutil -q -m cp -r gs://colombia_sebasmos/DATASET_5_best_cities .\n",
        "\n",
        "!ls DATASET_5_best_cities/"
      ],
      "metadata": {
        "id": "D78h8EZ2UFF-",
        "colab": {
          "base_uri": "https://localhost:8080/"
        },
        "outputId": "bafc0866-201f-4742-cd09-6197e4d6eca0"
      },
      "execution_count": null,
      "outputs": [
        {
          "output_type": "stream",
          "name": "stdout",
          "text": [
            "Updated property [core/project].\n"
          ]
        }
      ]
    },
    {
      "cell_type": "markdown",
      "source": [
        "## Load dataset "
      ],
      "metadata": {
        "id": "UXVpXCH2xPLc"
      }
    },
    {
      "cell_type": "code",
      "source": [
        "csv_folder = \"/content/dengue/merge_cases_temperature_WeeklyPrecipitation_timeseries.csv\"\n",
        "\n",
        "img_folder = \"/content/DATASET_5_best_cities/Medellín\"\n",
        "\n",
        "info_dict = loadData(csv_folder, img_folder, resize_ratio=(0.7, 0.7, 1))\n"
      ],
      "metadata": {
        "colab": {
          "base_uri": "https://localhost:8080/"
        },
        "id": "heWGi3bads5S",
        "outputId": "ecb226e9-63ba-4f7b-daaf-962543e0dac7"
      },
      "execution_count": null,
      "outputs": [
        {
          "output_type": "stream",
          "name": "stdout",
          "text": [
            "image_2015-11-01.tiff (origin shape: (745, 747, 12) -> rescale: (522, 523, 12))\n",
            "image_2015-11-08.tiff (origin shape: (745, 747, 12) -> rescale: (522, 523, 12))\n",
            "image_2015-11-15.tiff (origin shape: (745, 747, 12) -> rescale: (522, 523, 12))\n",
            "image_2015-11-22.tiff (origin shape: (745, 747, 12) -> rescale: (522, 523, 12))\n",
            "image_2015-11-29.tiff (origin shape: (745, 747, 12) -> rescale: (522, 523, 12))\n",
            "image_2015-12-06.tiff (origin shape: (745, 747, 12) -> rescale: (522, 523, 12))\n",
            "image_2015-12-13.tiff (origin shape: (745, 747, 12) -> rescale: (522, 523, 12))\n",
            "image_2015-12-20.tiff (origin shape: (745, 747, 12) -> rescale: (522, 523, 12))\n",
            "image_2015-12-27.tiff (origin shape: (745, 747, 12) -> rescale: (522, 523, 12))\n",
            "image_2016-01-03.tiff (origin shape: (745, 747, 12) -> rescale: (522, 523, 12))\n",
            "image_2016-01-10.tiff (origin shape: (745, 747, 12) -> rescale: (522, 523, 12))\n",
            "image_2016-01-17.tiff (origin shape: (745, 747, 12) -> rescale: (522, 523, 12))\n",
            "image_2016-01-24.tiff (origin shape: (745, 747, 12) -> rescale: (522, 523, 12))\n",
            "image_2016-01-31.tiff (origin shape: (745, 747, 12) -> rescale: (522, 523, 12))\n",
            "image_2016-02-07.tiff (origin shape: (745, 747, 12) -> rescale: (522, 523, 12))\n",
            "image_2016-02-14.tiff (origin shape: (745, 747, 12) -> rescale: (522, 523, 12))\n",
            "image_2016-02-21.tiff (origin shape: (745, 747, 12) -> rescale: (522, 523, 12))\n",
            "image_2016-02-28.tiff (origin shape: (745, 747, 12) -> rescale: (522, 523, 12))\n",
            "image_2016-03-06.tiff (origin shape: (745, 747, 12) -> rescale: (522, 523, 12))\n",
            "image_2016-03-13.tiff (origin shape: (745, 747, 12) -> rescale: (522, 523, 12))\n",
            "image_2016-03-20.tiff (origin shape: (745, 747, 12) -> rescale: (522, 523, 12))\n",
            "image_2016-03-27.tiff (origin shape: (745, 747, 12) -> rescale: (522, 523, 12))\n",
            "image_2016-04-03.tiff (origin shape: (745, 747, 12) -> rescale: (522, 523, 12))\n",
            "image_2016-04-10.tiff (origin shape: (745, 747, 12) -> rescale: (522, 523, 12))\n",
            "image_2016-04-17.tiff (origin shape: (745, 747, 12) -> rescale: (522, 523, 12))\n",
            "image_2016-04-24.tiff (origin shape: (745, 747, 12) -> rescale: (522, 523, 12))\n",
            "image_2016-05-01.tiff (origin shape: (745, 747, 12) -> rescale: (522, 523, 12))\n",
            "image_2016-05-08.tiff (origin shape: (745, 747, 12) -> rescale: (522, 523, 12))\n",
            "image_2016-05-15.tiff (origin shape: (745, 747, 12) -> rescale: (522, 523, 12))\n",
            "image_2016-05-22.tiff (origin shape: (745, 747, 12) -> rescale: (522, 523, 12))\n",
            "image_2016-05-29.tiff (origin shape: (745, 747, 12) -> rescale: (522, 523, 12))\n",
            "image_2016-06-05.tiff (origin shape: (745, 747, 12) -> rescale: (522, 523, 12))\n",
            "image_2016-06-12.tiff (origin shape: (745, 747, 12) -> rescale: (522, 523, 12))\n",
            "image_2016-06-19.tiff (origin shape: (745, 747, 12) -> rescale: (522, 523, 12))\n",
            "image_2016-06-26.tiff (origin shape: (745, 747, 12) -> rescale: (522, 523, 12))\n",
            "image_2016-07-03.tiff (origin shape: (745, 747, 12) -> rescale: (522, 523, 12))\n",
            "image_2016-07-10.tiff (origin shape: (745, 747, 12) -> rescale: (522, 523, 12))\n",
            "image_2016-07-17.tiff (origin shape: (745, 747, 12) -> rescale: (522, 523, 12))\n",
            "image_2016-07-24.tiff (origin shape: (745, 747, 12) -> rescale: (522, 523, 12))\n",
            "image_2016-07-31.tiff (origin shape: (745, 747, 12) -> rescale: (522, 523, 12))\n",
            "image_2016-08-07.tiff (origin shape: (745, 747, 12) -> rescale: (522, 523, 12))\n",
            "image_2016-08-14.tiff (origin shape: (745, 747, 12) -> rescale: (522, 523, 12))\n",
            "image_2016-08-21.tiff (origin shape: (745, 747, 12) -> rescale: (522, 523, 12))\n",
            "image_2016-08-28.tiff (origin shape: (745, 747, 12) -> rescale: (522, 523, 12))\n",
            "image_2016-09-04.tiff (origin shape: (745, 747, 12) -> rescale: (522, 523, 12))\n",
            "image_2016-09-11.tiff (origin shape: (745, 747, 12) -> rescale: (522, 523, 12))\n",
            "image_2016-09-18.tiff (origin shape: (745, 747, 12) -> rescale: (522, 523, 12))\n",
            "image_2016-09-25.tiff (origin shape: (745, 747, 12) -> rescale: (522, 523, 12))\n",
            "image_2016-10-02.tiff (origin shape: (745, 747, 12) -> rescale: (522, 523, 12))\n",
            "image_2016-10-09.tiff (origin shape: (745, 747, 12) -> rescale: (522, 523, 12))\n",
            "image_2016-10-16.tiff (origin shape: (745, 747, 12) -> rescale: (522, 523, 12))\n",
            "image_2016-10-23.tiff (origin shape: (745, 747, 12) -> rescale: (522, 523, 12))\n",
            "image_2016-10-30.tiff (origin shape: (745, 747, 12) -> rescale: (522, 523, 12))\n",
            "image_2016-11-06.tiff (origin shape: (745, 747, 12) -> rescale: (522, 523, 12))\n",
            "image_2016-11-13.tiff (origin shape: (745, 747, 12) -> rescale: (522, 523, 12))\n",
            "image_2016-11-20.tiff (origin shape: (745, 747, 12) -> rescale: (522, 523, 12))\n",
            "image_2016-11-27.tiff (origin shape: (745, 747, 12) -> rescale: (522, 523, 12))\n",
            "image_2016-12-04.tiff (origin shape: (745, 747, 12) -> rescale: (522, 523, 12))\n",
            "image_2016-12-11.tiff (origin shape: (745, 747, 12) -> rescale: (522, 523, 12))\n",
            "image_2016-12-18.tiff (origin shape: (745, 747, 12) -> rescale: (522, 523, 12))\n",
            "image_2017-01-01.tiff (origin shape: (745, 747, 12) -> rescale: (522, 523, 12))\n",
            "image_2017-01-01.tiff (origin shape: (745, 747, 12) -> rescale: (522, 523, 12))\n",
            "image_2017-01-08.tiff (origin shape: (745, 747, 12) -> rescale: (522, 523, 12))\n",
            "image_2017-01-15.tiff (origin shape: (745, 747, 12) -> rescale: (522, 523, 12))\n",
            "image_2017-01-22.tiff (origin shape: (745, 747, 12) -> rescale: (522, 523, 12))\n",
            "image_2017-01-29.tiff (origin shape: (745, 747, 12) -> rescale: (522, 523, 12))\n",
            "image_2017-02-05.tiff (origin shape: (745, 747, 12) -> rescale: (522, 523, 12))\n",
            "image_2017-02-12.tiff (origin shape: (745, 747, 12) -> rescale: (522, 523, 12))\n",
            "image_2017-02-19.tiff (origin shape: (745, 747, 12) -> rescale: (522, 523, 12))\n",
            "image_2017-02-26.tiff (origin shape: (745, 747, 12) -> rescale: (522, 523, 12))\n",
            "image_2017-03-05.tiff (origin shape: (745, 747, 12) -> rescale: (522, 523, 12))\n",
            "image_2017-03-12.tiff (origin shape: (745, 747, 12) -> rescale: (522, 523, 12))\n",
            "image_2017-03-19.tiff (origin shape: (745, 747, 12) -> rescale: (522, 523, 12))\n",
            "image_2017-03-26.tiff (origin shape: (745, 747, 12) -> rescale: (522, 523, 12))\n",
            "image_2017-04-02.tiff (origin shape: (745, 747, 12) -> rescale: (522, 523, 12))\n",
            "image_2017-04-09.tiff (origin shape: (745, 747, 12) -> rescale: (522, 523, 12))\n",
            "image_2017-04-16.tiff (origin shape: (745, 747, 12) -> rescale: (522, 523, 12))\n",
            "image_2017-04-23.tiff (origin shape: (745, 747, 12) -> rescale: (522, 523, 12))\n",
            "image_2017-04-30.tiff (origin shape: (745, 747, 12) -> rescale: (522, 523, 12))\n",
            "image_2017-05-07.tiff (origin shape: (745, 747, 12) -> rescale: (522, 523, 12))\n",
            "image_2017-05-14.tiff (origin shape: (745, 747, 12) -> rescale: (522, 523, 12))\n",
            "image_2017-05-21.tiff (origin shape: (745, 747, 12) -> rescale: (522, 523, 12))\n",
            "image_2017-05-28.tiff (origin shape: (745, 747, 12) -> rescale: (522, 523, 12))\n",
            "image_2017-06-04.tiff (origin shape: (745, 747, 12) -> rescale: (522, 523, 12))\n",
            "image_2017-06-11.tiff (origin shape: (745, 747, 12) -> rescale: (522, 523, 12))\n",
            "image_2017-06-18.tiff (origin shape: (745, 747, 12) -> rescale: (522, 523, 12))\n",
            "image_2017-06-25.tiff (origin shape: (745, 747, 12) -> rescale: (522, 523, 12))\n",
            "image_2017-07-02.tiff (origin shape: (745, 747, 12) -> rescale: (522, 523, 12))\n",
            "image_2017-07-09.tiff (origin shape: (745, 747, 12) -> rescale: (522, 523, 12))\n",
            "image_2017-07-16.tiff (origin shape: (745, 747, 12) -> rescale: (522, 523, 12))\n",
            "image_2017-07-23.tiff (origin shape: (745, 747, 12) -> rescale: (522, 523, 12))\n",
            "image_2017-07-30.tiff (origin shape: (745, 747, 12) -> rescale: (522, 523, 12))\n",
            "image_2017-08-06.tiff (origin shape: (745, 747, 12) -> rescale: (522, 523, 12))\n",
            "image_2017-08-13.tiff (origin shape: (745, 747, 12) -> rescale: (522, 523, 12))\n",
            "image_2017-08-20.tiff (origin shape: (745, 747, 12) -> rescale: (522, 523, 12))\n",
            "image_2017-08-27.tiff (origin shape: (745, 747, 12) -> rescale: (522, 523, 12))\n",
            "image_2017-09-03.tiff (origin shape: (745, 747, 12) -> rescale: (522, 523, 12))\n",
            "image_2017-09-10.tiff (origin shape: (745, 747, 12) -> rescale: (522, 523, 12))\n",
            "image_2017-09-17.tiff (origin shape: (745, 747, 12) -> rescale: (522, 523, 12))\n",
            "image_2017-09-24.tiff (origin shape: (745, 747, 12) -> rescale: (522, 523, 12))\n",
            "image_2017-10-01.tiff (origin shape: (745, 747, 12) -> rescale: (522, 523, 12))\n",
            "image_2017-10-08.tiff (origin shape: (745, 747, 12) -> rescale: (522, 523, 12))\n",
            "image_2017-10-15.tiff (origin shape: (745, 747, 12) -> rescale: (522, 523, 12))\n",
            "image_2017-10-22.tiff (origin shape: (745, 747, 12) -> rescale: (522, 523, 12))\n",
            "image_2017-10-29.tiff (origin shape: (745, 747, 12) -> rescale: (522, 523, 12))\n",
            "image_2017-11-05.tiff (origin shape: (745, 747, 12) -> rescale: (522, 523, 12))\n",
            "image_2017-11-12.tiff (origin shape: (745, 747, 12) -> rescale: (522, 523, 12))\n",
            "image_2017-11-19.tiff (origin shape: (745, 747, 12) -> rescale: (522, 523, 12))\n",
            "image_2017-11-26.tiff (origin shape: (745, 747, 12) -> rescale: (522, 523, 12))\n",
            "image_2017-12-03.tiff (origin shape: (745, 747, 12) -> rescale: (522, 523, 12))\n",
            "image_2017-12-10.tiff (origin shape: (745, 747, 12) -> rescale: (522, 523, 12))\n",
            "image_2017-12-17.tiff (origin shape: (745, 747, 12) -> rescale: (522, 523, 12))\n",
            "image_2017-12-31.tiff (origin shape: (745, 747, 12) -> rescale: (522, 523, 12))\n",
            "image_2018-01-07.tiff (origin shape: (745, 747, 12) -> rescale: (522, 523, 12))\n",
            "image_2018-01-14.tiff (origin shape: (745, 747, 12) -> rescale: (522, 523, 12))\n",
            "image_2018-01-21.tiff (origin shape: (745, 747, 12) -> rescale: (522, 523, 12))\n",
            "image_2018-01-28.tiff (origin shape: (745, 747, 12) -> rescale: (522, 523, 12))\n",
            "image_2018-02-04.tiff (origin shape: (745, 747, 12) -> rescale: (522, 523, 12))\n",
            "image_2018-02-11.tiff (origin shape: (745, 747, 12) -> rescale: (522, 523, 12))\n",
            "image_2018-02-18.tiff (origin shape: (745, 747, 12) -> rescale: (522, 523, 12))\n",
            "image_2018-02-25.tiff (origin shape: (745, 747, 12) -> rescale: (522, 523, 12))\n",
            "image_2018-03-04.tiff (origin shape: (745, 747, 12) -> rescale: (522, 523, 12))\n",
            "image_2018-03-11.tiff (origin shape: (745, 747, 12) -> rescale: (522, 523, 12))\n",
            "image_2018-03-18.tiff (origin shape: (745, 747, 12) -> rescale: (522, 523, 12))\n",
            "image_2018-03-25.tiff (origin shape: (745, 747, 12) -> rescale: (522, 523, 12))\n",
            "image_2018-04-01.tiff (origin shape: (745, 747, 12) -> rescale: (522, 523, 12))\n",
            "image_2018-04-08.tiff (origin shape: (745, 747, 12) -> rescale: (522, 523, 12))\n",
            "image_2018-04-15.tiff (origin shape: (745, 747, 12) -> rescale: (522, 523, 12))\n",
            "image_2018-04-22.tiff (origin shape: (745, 747, 12) -> rescale: (522, 523, 12))\n",
            "image_2018-04-29.tiff (origin shape: (745, 747, 12) -> rescale: (522, 523, 12))\n",
            "image_2018-05-06.tiff (origin shape: (745, 747, 12) -> rescale: (522, 523, 12))\n",
            "image_2018-05-13.tiff (origin shape: (745, 747, 12) -> rescale: (522, 523, 12))\n",
            "image_2018-05-20.tiff (origin shape: (745, 747, 12) -> rescale: (522, 523, 12))\n",
            "image_2018-05-27.tiff (origin shape: (745, 747, 12) -> rescale: (522, 523, 12))\n",
            "image_2018-06-03.tiff (origin shape: (745, 747, 12) -> rescale: (522, 523, 12))\n",
            "image_2018-06-10.tiff (origin shape: (745, 747, 12) -> rescale: (522, 523, 12))\n",
            "image_2018-06-17.tiff (origin shape: (745, 747, 12) -> rescale: (522, 523, 12))\n",
            "image_2018-06-24.tiff (origin shape: (745, 747, 12) -> rescale: (522, 523, 12))\n",
            "image_2018-07-01.tiff (origin shape: (745, 747, 12) -> rescale: (522, 523, 12))\n",
            "image_2018-07-08.tiff (origin shape: (745, 747, 12) -> rescale: (522, 523, 12))\n",
            "image_2018-07-15.tiff (origin shape: (745, 747, 12) -> rescale: (522, 523, 12))\n",
            "image_2018-07-22.tiff (origin shape: (745, 747, 12) -> rescale: (522, 523, 12))\n",
            "image_2018-07-29.tiff (origin shape: (745, 747, 12) -> rescale: (522, 523, 12))\n",
            "image_2018-08-05.tiff (origin shape: (745, 747, 12) -> rescale: (522, 523, 12))\n",
            "image_2018-08-12.tiff (origin shape: (745, 747, 12) -> rescale: (522, 523, 12))\n",
            "image_2018-08-19.tiff (origin shape: (745, 747, 12) -> rescale: (522, 523, 12))\n",
            "image_2018-08-26.tiff (origin shape: (745, 747, 12) -> rescale: (522, 523, 12))\n",
            "image_2018-09-02.tiff (origin shape: (745, 747, 12) -> rescale: (522, 523, 12))\n",
            "image_2018-09-09.tiff (origin shape: (745, 747, 12) -> rescale: (522, 523, 12))\n",
            "image_2018-09-16.tiff (origin shape: (745, 747, 12) -> rescale: (522, 523, 12))\n",
            "image_2018-09-23.tiff (origin shape: (745, 747, 12) -> rescale: (522, 523, 12))\n",
            "image_2018-09-30.tiff (origin shape: (745, 747, 12) -> rescale: (522, 523, 12))\n",
            "image_2018-10-07.tiff (origin shape: (745, 747, 12) -> rescale: (522, 523, 12))\n",
            "image_2018-10-14.tiff (origin shape: (745, 747, 12) -> rescale: (522, 523, 12))\n",
            "image_2018-10-21.tiff (origin shape: (745, 747, 12) -> rescale: (522, 523, 12))\n",
            "image_2018-10-28.tiff (origin shape: (745, 747, 12) -> rescale: (522, 523, 12))\n",
            "image_2018-11-04.tiff (origin shape: (745, 747, 12) -> rescale: (522, 523, 12))\n",
            "image_2018-11-11.tiff (origin shape: (745, 747, 12) -> rescale: (522, 523, 12))\n",
            "image_2018-11-18.tiff (origin shape: (745, 747, 12) -> rescale: (522, 523, 12))\n",
            "image_2018-11-25.tiff (origin shape: (745, 747, 12) -> rescale: (522, 523, 12))\n",
            "image_2018-12-02.tiff (origin shape: (745, 747, 12) -> rescale: (522, 523, 12))\n",
            "image_2018-12-09.tiff (origin shape: (745, 747, 12) -> rescale: (522, 523, 12))\n",
            "image_2018-12-16.tiff (origin shape: (745, 747, 12) -> rescale: (522, 523, 12))\n",
            "image_2018-12-23.tiff (origin shape: (745, 747, 12) -> rescale: (522, 523, 12))\n",
            "164 164 164\n"
          ]
        }
      ]
    }
  ]
}