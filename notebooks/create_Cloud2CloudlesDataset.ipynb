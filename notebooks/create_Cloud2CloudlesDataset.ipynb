{
 "cells": [
  {
   "cell_type": "markdown",
   "metadata": {},
   "source": [
    "# Creating Cloud-Cloudless Paired Dataset\n",
    "\n",
    "This dataset leverages an existing dataset comprising imagery from five municipalities in Colombia. The structure of the dataset involves each municipality containing 165 images, obtained using the satellite_extractor API and based on SentinelHub, across 12 different channels. Within each municipality, we have identified the optimal cloudless image and stored the corresponding names in a dictionary called `cloudless_groundtruths`. The objective is to subtract this particular cloudless image from the set of 165 images, resulting in 164 images per municipality. Now, each of these 164 images will be paired with the previously identified cloudless image, creating a total of `164 * 2 * NUM_MUNICIPALITIES`, resulting in 1640 images or 820 image pairs in total.\n",
    "\n",
    "The class `Cloud2CloudlesDataset` replicates each corresponding ground truth for the 164 images in each municipality, storing every pair in a new folder named `DATASET`.\n",
    "\n",
    "Originally, the images were formatted as `image_DD%%MM%%YY` and will now be renamed to `image_DD%%MM%%YY_gt` for the ground truth image and `image_DD%%MM%%YY_cloud` for the image with clouds.\n",
    "\n",
    "The class is initialized with the path to the source dataset, containing raw images for each municipality in N folders, and the final path where the new dataset will be stored.\n",
    "\n",
    "The code includes tests to verify the number of images, ensuring the final count matches the total number of images encountered in the source folder path. Additionally, one of the functions in this class ensures the existence of each folder in the specified path."
   ]
  },
  {
   "cell_type": "code",
   "execution_count": null,
   "metadata": {},
   "outputs": [],
   "source": [
    "import glob\n",
    "import os\n",
    "import matplotlib.pyplot as plt\n",
    "from skimage import io, exposure\n",
    "import numpy as np\n",
    "from matplotlib.backends.backend_pdf import PdfPages\n",
    "import random\n",
    "import tifffile\n",
    "import sys\n",
    "sys.path.insert(0,'../') \n",
    "import satellite_extractor.visualization as viz\n",
    "import satellite_extractor.utils as utils\n",
    "from torch.utils.data import Dataset"
   ]
  },
  {
   "cell_type": "code",
   "execution_count": null,
   "metadata": {},
   "outputs": [],
   "source": [
    "source_data = \"/Users/sebasmos/Downloads/unlabeled-5-top-cities-16-bit-depth\"\n",
    "output_data = \"/Users/sebasmos/Downloads/cloud2cloudless_dataset_5_municipalities\"\n",
    "folders = glob.glob(os.path.join(source_data, '*'))\n",
    "pdf_pages = PdfPages(\"output.pdf\")"
   ]
  },
  {
   "cell_type": "code",
   "execution_count": null,
   "metadata": {},
   "outputs": [],
   "source": [
    "cloudless_groundtruths = {\n",
    "    \"Cali\": \"image_2016-09-04.tiff\",\n",
    "    \"Cucuta\":\"image_2016-10-02.tiff\",\n",
    "    \"Medellin\":\"image_2017-12-17.tiff\",\n",
    "    \"Ibague\":\"image_2017-05-28.tiff\",\n",
    "    \"Villavicencio\":\"image_2017-10-01.tiff\"\n",
    "}"
   ]
  },
  {
   "cell_type": "code",
   "execution_count": null,
   "metadata": {},
   "outputs": [],
   "source": [
    "class Cloud2CloudlesDataset(Dataset):\n",
    "    RESOLUTION = 750\n",
    "\n",
    "    def __init__(self, source_data: str, output_data: str = None) -> None:\n",
    "        super().__init__()\n",
    "        self.source_data = source_data\n",
    "        self.output_data = output_data\n",
    "        utils.make_dirs(self.output_data)\n",
    "        self.folders_all = glob.glob(os.path.join(self.source_data, '*'))\n",
    "        print(f\"{len(self.folders_all)} folders created:\\n {self.folders_all}\")\n",
    "    def safe_image_pair(self, output_folder: str, folder: str, index: int, cloudy_image: str, cloudless_image: str) -> None:\n",
    "        cloudy_image_name, _ = os.path.splitext(os.path.basename(cloudy_image))\n",
    "        cloudless_image_name, _ = os.path.splitext(os.path.basename(cloudless_image))\n",
    "\n",
    "        output_cloudy_path = os.path.join(output_folder, f\"cloudy_{os.path.basename(folder)}_{index}.tiff\")\n",
    "        output_cloudless_path = os.path.join(output_folder, f\"cloudless_{os.path.basename(folder)}_{index}.tiff\")\n",
    "\n",
    "        tifffile.imsave(output_cloudy_path, tifffile.imread(cloudy_image))\n",
    "        tifffile.imsave(output_cloudless_path, tifffile.imread(cloudless_image))\n",
    "\n",
    "        print(f\"Pair saved: {output_cloudy_path}, {output_cloudless_path}\")\n",
    "\n",
    "\n",
    "    def safe_image_pair_by_date(self, output_folder: str, folder: str, cloudy_image: str, cloudless_image: str) -> None:\n",
    "        cloudy_image_name, _ = os.path.splitext(os.path.basename(cloudy_image))\n",
    "        cloudless_image_name, _ = os.path.splitext(os.path.basename(cloudless_image))\n",
    "\n",
    "        output_cloudy_path = os.path.join(output_folder, f\"cloudy_{os.path.basename(folder)}_{cloudy_image_name}\")\n",
    "        output_cloudless_path = os.path.join(output_folder, f\"cloudless_{os.path.basename(folder)}_{cloudless_image_name}\")\n",
    "\n",
    "        tifffile.imsave(output_cloudy_path, tifffile.imread(cloudy_image))\n",
    "        tifffile.imsave(output_cloudless_path, tifffile.imread(cloudless_image))\n",
    "\n",
    "        print(f\"Pair saved: {output_cloudy_path}, {output_cloudless_path}\")\n",
    "\n",
    "    @staticmethod\n",
    "    def get_RESOLUTION():\n",
    "        return Cloud2CloudlesDataset.RESOLUTION\n",
    "\n",
    "    @staticmethod\n",
    "    def check_image_sizes(path: str, path_final: str) -> None:\n",
    "        print(path, len(glob.glob(os.path.join(path, '*'))))\n",
    "        print(path_final, len(glob.glob(os.path.join(path_final, '*'))))\n",
    "    def create_dataset(self):\n",
    "        for i, folder in enumerate(self.folders_all):\n",
    "            cloudy_images = glob.glob(os.path.join(folder, '*.tiff'))\n",
    "            city_name = os.path.basename(folder)\n",
    "\n",
    "            if city_name in cloudless_groundtruths:\n",
    "                cloudless_image_name = cloudless_groundtruths[city_name]\n",
    "                cloudless_image = os.path.join(folder, cloudless_image_name)\n",
    "\n",
    "                # Check if the cloudy image has the same name as the cloudless image\n",
    "                for index, cloudy_image in enumerate(cloudy_images):\n",
    "                    if os.path.basename(cloudy_image) == cloudless_image_name:\n",
    "                        # Skip the pair if the names match\n",
    "                        continue\n",
    "\n",
    "                    # Save the pair for each city\n",
    "                    self.safe_image_pair(self.output_data, folder, index + 1, cloudy_image, cloudless_image)\n",
    "\n",
    "        print(\"Finished\")\n",
    "\n",
    "dataset = Cloud2CloudlesDataset(source_data, output_data)\n",
    "dataset.create_dataset()\n",
    "\n"
   ]
  },
  {
   "cell_type": "code",
   "execution_count": null,
   "metadata": {},
   "outputs": [],
   "source": [
    "viz.plot_image_pairs_to_pdf(output_data)\n"
   ]
  }
 ],
 "metadata": {
  "kernelspec": {
   "display_name": "sebasmos",
   "language": "python",
   "name": "python3"
  },
  "language_info": {
   "codemirror_mode": {
    "name": "ipython",
    "version": 3
   },
   "file_extension": ".py",
   "mimetype": "text/x-python",
   "name": "python",
   "nbconvert_exporter": "python",
   "pygments_lexer": "ipython3",
   "version": "3.8.16"
  }
 },
 "nbformat": 4,
 "nbformat_minor": 2
}
