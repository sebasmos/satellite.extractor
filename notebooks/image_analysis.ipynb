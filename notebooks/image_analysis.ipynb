{
 "cells": [
  {
   "cell_type": "markdown",
   "metadata": {
    "id": "view-in-github"
   },
   "source": [
    "<a href=\"https://colab.research.google.com/github/sebasmos/satellite.extractor/blob/main/downloader_sentinel_5_cities.ipynb\" target=\"_parent\"><img src=\"https://colab.research.google.com/assets/colab-badge.svg\" alt=\"Open In Colab\"/></a>"
   ]
  },
  {
   "cell_type": "code",
   "execution_count": null,
   "metadata": {
    "colab": {
     "base_uri": "https://localhost:8080/"
    },
    "id": "Jp9j3dUqe16V",
    "outputId": "ec9ba817-3c1f-49a0-81c6-350a315a315c"
   },
   "outputs": [],
   "source": [
    "from google.colab import drive\n",
    "drive.mount('/content/drive')"
   ]
  },
  {
   "cell_type": "code",
   "execution_count": null,
   "metadata": {
    "colab": {
     "base_uri": "https://localhost:8080/"
    },
    "id": "QCXClxa8fD9w",
    "outputId": "e4240629-2674-4e73-aee8-9bb0610e54f3"
   },
   "outputs": [],
   "source": [
    "%cd /content/drive/MyDrive/satellite_project"
   ]
  },
  {
   "cell_type": "markdown",
   "metadata": {
    "id": "h4w-mP8UqPcN"
   },
   "source": [
    "# Setup"
   ]
  },
  {
   "cell_type": "code",
   "execution_count": null,
   "metadata": {
    "colab": {
     "base_uri": "https://localhost:8080/"
    },
    "id": "bHR80NUHfSCK",
    "outputId": "38a220c2-b7a9-4b51-a490-53ee3529cedb"
   },
   "outputs": [],
   "source": [
    "!pip install sentinelhub\n",
    "! pip install sentinelhub --upgrade"
   ]
  },
  {
   "cell_type": "code",
   "execution_count": null,
   "metadata": {
    "id": "eQl6PVyLfXM4"
   },
   "outputs": [],
   "source": [
    "#% cd /content/drive/MyDrive/Dengue_prediction/Codes_download_data_sentinel/\n",
    "\n",
    "#!git clone https://github.com/sentinel-hub/sentinelhub-py.git"
   ]
  },
  {
   "cell_type": "code",
   "execution_count": null,
   "metadata": {
    "id": "Np4Q1OfpH0zq"
   },
   "outputs": [],
   "source": [
    "# % cd /content/drive/MyDrive/Dengue_prediction/Codes_download_data_sentinel/sentinelhub-py\n",
    "#%cd ./sentinelhub-py"
   ]
  },
  {
   "cell_type": "code",
   "execution_count": null,
   "metadata": {
    "id": "GZNcHxSxffMl"
   },
   "outputs": [],
   "source": [
    "# Install dependencies\n",
    "#!python setup.py build\n",
    "#!python setup.py install\n",
    "#!pip install -r requirements.txt"
   ]
  },
  {
   "cell_type": "code",
   "execution_count": null,
   "metadata": {
    "id": "2R49HqPOH_wQ"
   },
   "outputs": [],
   "source": [
    "#%cd .."
   ]
  },
  {
   "cell_type": "code",
   "execution_count": null,
   "metadata": {
    "id": "aJM3aAmCfkHI"
   },
   "outputs": [],
   "source": [
    "\n",
    "#%cd /content/drive/MyDrive/Dengue_prediction/Codes_download_data_sentinel"
   ]
  },
  {
   "cell_type": "code",
   "execution_count": null,
   "metadata": {
    "id": "vG9uWOLVf1V2"
   },
   "outputs": [],
   "source": [
    "import shutil\n",
    "#!shutil.rmtree('satellite.extractor')\n",
    "#!git clone https://github.com/sebasmos/satellite.extractor.git"
   ]
  },
  {
   "cell_type": "markdown",
   "metadata": {
    "id": "Hgme7DhrqSDC"
   },
   "source": [
    "# Import functions"
   ]
  },
  {
   "cell_type": "code",
   "execution_count": null,
   "metadata": {
    "colab": {
     "base_uri": "https://localhost:8080/"
    },
    "id": "Wj2puvbgpg-q",
    "outputId": "af6ac823-fc09-420c-8e20-5b85881e8f98"
   },
   "outputs": [],
   "source": [
    "import pandas as pd\n",
    "import glob\n",
    "import json\n",
    "import datetime as dt\n",
    "from urllib.parse import unquote\n",
    "from bs4 import BeautifulSoup\n",
    "import os\n",
    "import shutil\n",
    "from sentinelhub import SHConfig\n",
    "import datetime\n",
    "import numpy as np\n",
    "import matplotlib.pyplot as plt\n",
    "import sys\n",
    "from datetime import timedelta\n",
    "sys.path.insert(0,'..')\n",
    "from sentinelhub import MimeType, CRS, BBox, SentinelHubRequest, SentinelHubDownloadClient, DataCollection, bbox_to_dimensions, DownloadRequest\n",
    "!pip install epiweeks\n",
    "from epiweeks import Week, Year\n",
    "from datetime import date\n",
    "import glob, shutil"
   ]
  },
  {
   "cell_type": "code",
   "execution_count": null,
   "metadata": {
    "colab": {
     "base_uri": "https://localhost:8080/"
    },
    "id": "WJxml9erp-47",
    "outputId": "e0749a58-ea68-4bc0-bf14-d2fcb47f6b9b"
   },
   "outputs": [],
   "source": [
    "%cd /content/drive/MyDrive/satellite_project/satellite.extractor\n",
    "!ls"
   ]
  },
  {
   "cell_type": "code",
   "execution_count": null,
   "metadata": {
    "id": "KuTZx2dhdEr4"
   },
   "outputs": [],
   "source": [
    "from linux.request_multiple_images_linux import download_multiple_images\n",
    "from linux.request_multiple_images_linux import get_folder_ID\n",
    "from linux.rename_linux import get_request_individual\n",
    "#from extractor import get_images"
   ]
  },
  {
   "cell_type": "code",
   "execution_count": null,
   "metadata": {
    "id": "GN8ZmULbGLt7"
   },
   "outputs": [],
   "source": [
    "#!pwd"
   ]
  },
  {
   "cell_type": "code",
   "execution_count": null,
   "metadata": {
    "id": "Nf5IANjSNvh2"
   },
   "outputs": [],
   "source": [
    "#!ls"
   ]
  },
  {
   "cell_type": "markdown",
   "metadata": {
    "id": "juc_tnHTNv49"
   },
   "source": [
    "# Cities coordinates"
   ]
  },
  {
   "cell_type": "code",
   "execution_count": null,
   "metadata": {
    "id": "3vR1X26jN0EF"
   },
   "outputs": [],
   "source": [
    "# # Top 5 Cities in Colombia\n",
    "# dic = {'Cali': [-76.55323133405957, 3.4062672204498083, -76.4860619546151, 3.473745747318065],\n",
    "#     \t    'Medellín': [-75.60847058045997, 6.210967220073269, -75.5410220422612, 6.278445747318065],\n",
    "#     \t    'Villavicencio': [-73.66295855834497, 4.108767220355771, -73.59573458823247, 4.176245747318064],\n",
    "#     \t    'Cúcuta': [-72.53849203162315, 7.873767219848251, -72.47080007014465, 7.941245747318064],\n",
    "#     \t    'Ibagué': [-75.2341715228093, 4.404067220316198, -75.16692155913864, 4.471545747318066]}"
   ]
  },
  {
   "cell_type": "code",
   "execution_count": null,
   "metadata": {
    "id": "nBRSY9YAy7yG"
   },
   "outputs": [],
   "source": [
    "# TOP 10 cities in Colombia\n",
    "dic = {\n",
    "    #\"5360\": [-75.64326597461275, 6.138867220082993, -75.57582666854904, 6.206345747318064],\n",
    "    #Medellin\n",
    "    \"5001\": [-75.60847058045997, 6.210967220073269, -75.5410220422612, 6.278445747318065],\n",
    "    # \"8001\": [-74.83049287115125, 10.930167219429613, -74.7621980191767, 10.997645747318064],\n",
    "    # \"23001\": [-75.91946572624731, 8.726267219732208, -75.85162607114259, 8.793745747318063],\n",
    "    # \"41001\": [-75.32101467720933, 2.8937672205183227, -75.2538787048278, 2.961245747318065],\n",
    "    #Villavicencio\n",
    "    #\"50001\": [-73.66295855834497, 4.108767220355771, -73.59573458823247, 4.176245747318064],\n",
    "    # \"54001\": [-72.53849203162315, 7.873767219848251, -72.47080007014465, 7.941245747318064],\n",
    "    # \"68001\": [-73.1498307587881, 7.0848672199552105, -73.08226160203337, 7.152345747318066],\n",
    "    #Ibague\n",
    "    #\"73001\": [-75.2341715228093, 4.404067220316198, -75.16692155913864, 4.471545747318066],\n",
    "    #Cali\n",
    "    #\"76001\": [-76.55323133405957, 3.4062672204498083, -76.4860619546151, 3.473745747318065]\n",
    "}"
   ]
  },
  {
   "cell_type": "code",
   "execution_count": null,
   "metadata": {
    "colab": {
     "base_uri": "https://localhost:8080/"
    },
    "id": "XeWvK2orOcN5",
    "outputId": "bf8e5c59-99b7-4391-9e44-8d69131764dc"
   },
   "outputs": [],
   "source": [
    "img_format = \"tiff\"\n",
    "'''\n",
    "    # REAL DATA FOR COLOMBIA\n",
    "    initial_year = 2015\n",
    "    end_year = 2018\n",
    "    years = list(range(initial_year,end_year))\n",
    "    first_2015_week = 44\n",
    "    end_year = 2020\n",
    "    start_2016 = Week(initial_year,first_2015_week).startdate()\n",
    "    weeks_2015 = list(range(first_2015_week, 53))\n",
    "    weeks = list(range(1,53))\n",
    "\n",
    "    # TESTING DATA\n",
    "\n",
    "    initial_year = 2017\n",
    "    end_year = 2018\n",
    "    years = list(range(initial_year,end_year))\n",
    "    first_2015_week = 44\n",
    "    end_year = 2018\n",
    "    start_2016 = Week(initial_year,first_2015_week).startdate()\n",
    "    weeks_2015 = list(range(first_2015_week, 53))\n",
    "    weeks = list(range(1,10))\n",
    "'''\n",
    "\n",
    "# Define the range of years\n",
    "initial_year = 2017\n",
    "end_year = 2018\n",
    "years = list(range(initial_year,end_year))\n",
    "first_week_of_first_year = 1\n",
    "\n",
    "start_first_year = Week(initial_year,first_week_of_first_year).startdate()\n",
    "\n",
    "weeks_first_year = list(range(first_week_of_first_year, 20))\n",
    "weeks = list(range(1,52))\n",
    "\n",
    "root_images = \"/data/\"\n",
    "\n",
    "temporal_path = os.path.abspath(os.getcwd()) + root_images\n",
    "\n",
    "if not os.path.isdir(temporal_path):\n",
    "    os.makedirs(temporal_path)\n",
    "    print(\"Creating temporal data folder\")\n",
    "\n",
    "print(f\"Number of cities: {len(dic)}\")\n",
    "print(f\"Range: {years}\")\n",
    "print(f\"Weeks first year: {weeks_first_year}\")"
   ]
  },
  {
   "cell_type": "code",
   "execution_count": null,
   "metadata": {
    "id": "RvELXfQHPpxG"
   },
   "outputs": [],
   "source": [
    "def get_images(coordenates, years, weeks, weeks_2015, img_format, root_images, CLIENT_ID, CLIENT_SECRET):\n",
    "    # Download data\n",
    "    folder_path = \"\"\n",
    "    for year in years:\n",
    "        if year == 2015:\n",
    "            for week in weeks_2015:\n",
    "                print(f\"Year: {year} - week: {week}\")\n",
    "                # Set starting date for given year based on\n",
    "                start = Week(year, week).startdate()\n",
    "                # Download individual images\n",
    "                download_multiple_images(coordenates, start, str(year), CLIENT_ID, CLIENT_SECRET)\n",
    "                # Obtain ID as the last-obtained response.tiff file, \"real-time\"\n",
    "                folder_path = get_folder_ID(root_images, img_format)\n",
    "                # Rename image based on JSON timestamp filter\n",
    "                dates = get_request_individual(folder_path+\"/request.json\", img_format)\n",
    "                # Clean folders which contain black images\n",
    "                path_to_blank_ids  = \".\" + root_images + \"/\" + str(year) + \"/*/*\"\n",
    "                ids = glob.glob(path_to_blank_ids)\n",
    "                for idx in ids:\n",
    "                    if \"response\" in idx:\n",
    "                        folder_path = idx.replace(\"/\" + \"response.\" + img_format, \"\")\n",
    "                        #print(folder_path)\n",
    "                        shutil.rmtree(folder_path)\n",
    "                ids = glob.glob(path_to_blank_ids)\n",
    "                #print(\"ids available: \", ids)\n",
    "\n",
    "                #flag =  [idx if (\"response\" in idx) for idx in ids]\n",
    "        #elif year ==2016:\n",
    "        else:\n",
    "            for week in weeks:\n",
    "                print(f\"Year: {year} - week: {week}\")\n",
    "                # Set starting date for given year based on\n",
    "                start = Week(year, week).startdate()\n",
    "                # Download individual images\n",
    "                download_multiple_images(coordenates, start, str(year), CLIENT_ID, CLIENT_SECRET)\n",
    "                # Obtain ID as the last-obtained response.tiff file, \"real-time\"\n",
    "                folder_path = get_folder_ID(root_images, img_format)\n",
    "                # Rename image based on JSON timestamp filter\n",
    "                dates = get_request_individual(folder_path+\"/request.json\", img_format)\n",
    "                # Clean folders which contain black images\n",
    "                path_to_blank_ids  = \".\" + root_images + \"/\" + str(year) + \"/*/*\"\n",
    "                ids = glob.glob(path_to_blank_ids)\n",
    "                for idx in ids:\n",
    "                    if \"response\" in idx:\n",
    "                        folder_path = idx.replace(\"/\" + \"response.\" + img_format, \"\")\n",
    "                        print(folder_path)\n",
    "                        shutil.rmtree(folder_path)\n",
    "                ids = glob.glob(path_to_blank_ids)\n"
   ]
  },
  {
   "cell_type": "code",
   "execution_count": null,
   "metadata": {
    "id": "LGm29oz3OiZZ"
   },
   "outputs": [],
   "source": [
    "for i in dic:\n",
    "    print(f\"City: {i} - Coordinates: {dic[i]}\")\n",
    "\n",
    "    current_coor = dic[i]\n",
    "\n",
    "    city_str = \"DATASET\" + \"/\" + str(i)\n",
    "\n",
    "    if not os.path.exists(city_str):\n",
    "        os.makedirs(city_str)\n",
    "\n",
    "    CLIENT_ID = \"ca0e22b7-7a8e-4696-bb7a-2a18108190f3\"\n",
    "    CLIENT_SECRET = \"t}yBWvKU/w!jS@k20U/5DwWzQlVG)A/Ig.4yh~F4\"\n",
    "\n",
    "    # Download images on given range\n",
    "    get_images(current_coor, years, weeks, weeks_first_year, img_format, root_images, CLIENT_ID, CLIENT_SECRET)\n",
    "\n",
    "    # Move to structured folder in DATASETS\n",
    "    root_images_store = \".\" + root_images\n",
    "    dataset_store = \"./\" + city_str\n",
    "    for root, dirs, files in os.walk(root_images_store, topdown=True):\n",
    "        for name in files:\n",
    "          path = os.path.join(root, name)\n",
    "          #print(path)\n",
    "          if img_format in path and not dataset_store in path:\n",
    "              shutil.copy(path, dataset_store)\n",
    "\n",
    "images = glob.glob(dataset_store+\"/*\")"
   ]
  },
  {
   "cell_type": "code",
   "execution_count": null,
   "metadata": {
    "id": "NfrtYeCf2b0U"
   },
   "outputs": [],
   "source": [
    "from linux.request_multiple_images_linux import download_image"
   ]
  },
  {
   "cell_type": "code",
   "execution_count": null,
   "metadata": {
    "colab": {
     "base_uri": "https://localhost:8080/"
    },
    "id": "10WxBrwXtkCN",
    "outputId": "11159881-9cd4-4485-8e4c-f8c60cb6d51e"
   },
   "outputs": [],
   "source": [
    "#Check image channels\n",
    "year = 2017\n",
    "week = 1\n",
    "start = Week(year, week).startdate()\n",
    "img_result = np.array([])\n",
    "\n",
    "for i in dic:\n",
    "  print(f\"City: {i} - Coordinates: {dic[i]}\")\n",
    "\n",
    "  current_coor = dic[i]\n",
    "  CLIENT_ID = \"ca0e22b7-7a8e-4696-bb7a-2a18108190f3\"\n",
    "  CLIENT_SECRET = \"t}yBWvKU/w!jS@k20U/5DwWzQlVG)A/Ig.4yh~F4\"\n",
    "  img_result = download_image(current_coor, start, year, CLIENT_ID, CLIENT_SECRET)\n",
    "  print(f\"Img obtained\")"
   ]
  },
  {
   "cell_type": "markdown",
   "metadata": {
    "id": "0MJepojLcaQu"
   },
   "source": [
    "# Calculating image entropy"
   ]
  },
  {
   "cell_type": "code",
   "execution_count": null,
   "metadata": {
    "id": "uZ7RoCFCcfzH"
   },
   "outputs": [],
   "source": [
    "import numpy as np\n",
    "import cv2\n",
    "from scipy.stats import entropy\n",
    "import matplotlib.pyplot as plt"
   ]
  },
  {
   "cell_type": "code",
   "execution_count": null,
   "metadata": {
    "colab": {
     "base_uri": "https://localhost:8080/"
    },
    "id": "p0xQB6BJvJWL",
    "outputId": "4d06df0f-f3cf-406a-ad9e-c05fcf5e9276"
   },
   "outputs": [],
   "source": [
    "img_result.shape"
   ]
  },
  {
   "cell_type": "code",
   "execution_count": null,
   "metadata": {
    "colab": {
     "base_uri": "https://localhost:8080/",
     "height": 112
    },
    "id": "EpTcyWdGkKgl",
    "outputId": "eddc1123-ffa8-4d42-ff1e-1e2847d50f97"
   },
   "outputs": [],
   "source": [
    "'''\n",
    "  Range of each band\n",
    "  B02\tBlue, 492.4 nm (S2A), 492.1 nm (S2B)\t10m\n",
    "  B03\tGreen, 559.8 nm (S2A), 559.0 nm (S2B)\t10m\n",
    "  B04\tRed, 664.6 nm (S2A), 665.0 nm (S2B) 10m\n",
    "'''\n",
    "ranges = {}\n",
    "for channel_index in range(img_result.shape[2]):\n",
    "  channel_data = img_result[:,:,channel_index]\n",
    "  maximum = channel_data.max()\n",
    "  minimum = channel_data.min()\n",
    "  ranges[channel_index] = {\n",
    "      'minimum': minimum,\n",
    "      'maximum': maximum\n",
    "  }\n",
    "df = pd.DataFrame(ranges)\n",
    "df.rename(columns={0:\"B01\", 1:\"B02\", 2:\"B03\", 3:\"B04\", 4:\"B05\", 5:\"B06\", 6:\"B07\", 7:\"B08\", 8:\"B8A\", 9:\"B09\", 10:\"B11\", 11:\"B12\"}, inplace=True)\n",
    "df"
   ]
  },
  {
   "cell_type": "code",
   "execution_count": null,
   "metadata": {
    "id": "y45ewgmUvedw"
   },
   "outputs": [],
   "source": [
    "# Extract the red, green, and blue channels\n",
    "red_channel = img_result[:, :, 1]\n",
    "green_channel = img_result[:, :, 2]\n",
    "blue_channel = img_result[:, :, 3]\n",
    "\n",
    "# Create a grayscale image by averaging the red, green, and blue channels\n",
    "grayscale_image = (red_channel + green_channel + blue_channel) / 3.0"
   ]
  },
  {
   "cell_type": "code",
   "execution_count": null,
   "metadata": {
    "id": "s_uKhFY5RAxl"
   },
   "outputs": [],
   "source": [
    "#Another way to convert image to grayscale\n",
    "rgb_image = img_result[:, :, 1:4]\n",
    "grayscale_image = cv2.cvtColor(rgb_image, cv2.COLOR_BGR2GRAY)"
   ]
  },
  {
   "cell_type": "markdown",
   "metadata": {
    "id": "pwoRu3xMxQIy"
   },
   "source": [
    "## Calculate entropy"
   ]
  },
  {
   "cell_type": "code",
   "execution_count": null,
   "metadata": {
    "colab": {
     "base_uri": "https://localhost:8080/"
    },
    "id": "g7ARbEIaw4oQ",
    "outputId": "549002d1-f04f-417b-e968-f82630996dd6"
   },
   "outputs": [],
   "source": [
    "#Compute the histogram\n",
    "_bins = 512\n",
    "hist, _ = np.histogram(grayscale_image.ravel(), bins=_bins, range=(0, _bins))\n",
    "prob_dist = hist / hist.sum()\n",
    "image_entropy = entropy(prob_dist, base=2)\n",
    "print(f\"Image Entropy {image_entropy}\")"
   ]
  },
  {
   "cell_type": "code",
   "execution_count": null,
   "metadata": {
    "colab": {
     "base_uri": "https://localhost:8080/",
     "height": 430
    },
    "id": "EyqCAtogxUYo",
    "outputId": "b84dec97-6318-442a-db18-fd62af5335ae"
   },
   "outputs": [],
   "source": [
    "plt.hist(hist, density=1, bins=_bins)\n",
    "plt.show()"
   ]
  },
  {
   "cell_type": "code",
   "execution_count": null,
   "metadata": {
    "id": "fa3k2cmtx7lx"
   },
   "outputs": [],
   "source": [
    "#Another way to calculate it\n",
    "def calculate_entropy(image):\n",
    "    # Calculate histogram\n",
    "    #For 16-bit images (pixel values ranging from 0 to 65535), you can consider using 512 bins\n",
    "    hist = np.histogram(image, bins=512, range=(0, 512))[0]\n",
    "    hist = hist / hist.sum()  # Normalize histogram to get probabilities\n",
    "\n",
    "    # Calculate entropy\n",
    "    entropy = -np.sum(hist * np.log2(hist + np.finfo(float).eps))\n",
    "    return entropy"
   ]
  },
  {
   "cell_type": "code",
   "execution_count": null,
   "metadata": {
    "colab": {
     "base_uri": "https://localhost:8080/"
    },
    "id": "bwKpD-pWx84y",
    "outputId": "7b227c96-ba89-4862-dbff-959d3f742be5"
   },
   "outputs": [],
   "source": [
    "\"\"\"\n",
    "For common 8-bit images (256 bins), the entropy values typically range from 0 to 8 bits.\n",
    "For 16-bit images (65536 bins), the range would be from 0 to 16 bits.\n",
    "\"\"\"\n",
    "calculate_entropy(grayscale_image)"
   ]
  },
  {
   "cell_type": "markdown",
   "metadata": {
    "id": "nzU3kCGBRiye"
   },
   "source": [
    "### Visualize image"
   ]
  },
  {
   "cell_type": "code",
   "execution_count": null,
   "metadata": {
    "colab": {
     "base_uri": "https://localhost:8080/",
     "height": 428
    },
    "id": "srMGPNy8Q4B4",
    "outputId": "c0988a01-b70e-494a-a83b-1aabd7d33864"
   },
   "outputs": [],
   "source": [
    "import matplotlib.pyplot as plt\n",
    "\n",
    "# Display the grayscale image\n",
    "plt.imshow(grayscale_image, cmap='gray')\n",
    "plt.title('Grayscale Image')\n",
    "plt.axis('off')  # Turn off axis labels and ticks (optional)\n",
    "plt.show()"
   ]
  },
  {
   "cell_type": "code",
   "execution_count": null,
   "metadata": {
    "colab": {
     "base_uri": "https://localhost:8080/",
     "height": 853
    },
    "id": "dJ0SbbZS4B6y",
    "outputId": "5fd7243a-492d-420f-9db7-f12f007ab134"
   },
   "outputs": [],
   "source": [
    "channel_histograms = [np.histogram(img_result[:, :, i], bins=_bins) for i in range(12)]\n",
    "plt.figure(figsize=(18, 10))\n",
    "for i in range(12):\n",
    "    plt.subplot(3, 4, i + 1)\n",
    "    plt.hist(channel_histograms[i][0], density=1, bins=_bins)\n",
    "    #plt.hist()\n",
    "    plt.title(f'Channel {i+1} Histogram')\n",
    "plt.show()"
   ]
  },
  {
   "cell_type": "code",
   "execution_count": null,
   "metadata": {
    "id": "12ow6J05yvJJ"
   },
   "outputs": [],
   "source": [
    "#shutil.rmtree(\"DATASET\")\n",
    "shutil.rmtree(\"data\")"
   ]
  },
  {
   "cell_type": "markdown",
   "metadata": {
    "id": "dkeTefs0VjwK"
   },
   "source": [
    "# Calculating entropy of images downloaded"
   ]
  },
  {
   "cell_type": "code",
   "execution_count": null,
   "metadata": {
    "id": "WFm8KjeWmyLC"
   },
   "outputs": [],
   "source": [
    "#!pip install tifffile\n",
    "from tifffile import imread"
   ]
  },
  {
   "cell_type": "code",
   "execution_count": null,
   "metadata": {
    "id": "TCKVy2m1Z9jR"
   },
   "outputs": [],
   "source": [
    "folder_path = '/content/drive/My Drive/satellite_project/satellite.extractor/DATASET/5001'\n",
    "os.chdir(folder_path)"
   ]
  },
  {
   "cell_type": "code",
   "execution_count": null,
   "metadata": {
    "colab": {
     "base_uri": "https://localhost:8080/"
    },
    "id": "t5rC82lIaPUW",
    "outputId": "30d90db7-a389-40b0-b0a2-deed68ffa6e1"
   },
   "outputs": [],
   "source": [
    "tiff_files = glob.glob(os.path.join(folder_path, '*.tiff'))  # Change the file extension as needed\n",
    "print(f\"Number of images:{len(tiff_files)}\")"
   ]
  },
  {
   "cell_type": "code",
   "execution_count": null,
   "metadata": {
    "colab": {
     "base_uri": "https://localhost:8080/"
    },
    "id": "Gylu6tVXnJf2",
    "outputId": "cbb5278c-8a82-42bf-e586-11aaf2844944"
   },
   "outputs": [],
   "source": [
    "entropy_values = []\n",
    "\n",
    "for tiff_path in tiff_files:\n",
    "  #print(tiff_path)\n",
    "  filename = os.path.basename(tiff_path)\n",
    "  #print(filename)\n",
    "\n",
    "  # Read the TIFF image using tifffile.imread\n",
    "  tiff_image = imread(tiff_path)\n",
    "  gray_image = cv2.cvtColor(tiff_image[:, :, 1:4], cv2.COLOR_BGR2GRAY)\n",
    "  # # Calculate entropy\n",
    "  entropy = calculate_entropy(gray_image)\n",
    "  entropy_values.append((filename, entropy))"
   ]
  },
  {
   "cell_type": "code",
   "execution_count": null,
   "metadata": {
    "colab": {
     "base_uri": "https://localhost:8080/",
     "height": 363
    },
    "id": "OLu5X1OEonlI",
    "outputId": "632c28a6-7f06-4435-9a56-37b58e19e819"
   },
   "outputs": [],
   "source": [
    "df = pd.DataFrame(entropy_values, columns=['Image File', 'Entropy'])\n",
    "df.head(10)"
   ]
  },
  {
   "cell_type": "code",
   "execution_count": null,
   "metadata": {
    "colab": {
     "base_uri": "https://localhost:8080/",
     "height": 300
    },
    "id": "uSHrszm0pGq_",
    "outputId": "b7b00ed4-da31-42f3-9bb1-d96a6ebe6140"
   },
   "outputs": [],
   "source": [
    "df.describe()"
   ]
  },
  {
   "cell_type": "markdown",
   "metadata": {
    "id": "uTJ1D4rOyzqd"
   },
   "source": [
    "# Transfer to GCP bucket"
   ]
  },
  {
   "cell_type": "code",
   "execution_count": null,
   "metadata": {
    "colab": {
     "base_uri": "https://localhost:8080/"
    },
    "id": "biicFnC2y0Ln",
    "outputId": "2e62ece5-8b5e-4541-da6e-eb4298359985"
   },
   "outputs": [],
   "source": [
    "from google.colab import auth\n",
    "auth.authenticate_user()\n",
    "\n",
    "project_id = 'mit-hst-dengue'\n",
    "!gcloud config set project {project_id}\n",
    "!gsutil ls"
   ]
  },
  {
   "cell_type": "code",
   "execution_count": null,
   "metadata": {
    "id": "o_-q_MxZy6AM"
   },
   "outputs": [],
   "source": [
    "bucket_name = 'colombia_sebasmos'\n",
    "\n",
    "!gsutil -m cp -r /content/drive/MyDrive/Dengue_prediction/Codes_download_data_sentinel/satellite.extractor/DATASET_5_best_cities/ gs://{bucket_name}/"
   ]
  },
  {
   "cell_type": "code",
   "execution_count": null,
   "metadata": {
    "id": "tHidFiNCCqie"
   },
   "outputs": [],
   "source": [
    "def plot_image(image, factor=1.0, clip_range = None, **kwargs):\n",
    "    \"\"\"\n",
    "    Utility function for plotting RGB images.\n",
    "    \"\"\"\n",
    "    fig, ax = plt.subplots(nrows=1, ncols=1, figsize=(15, 15))\n",
    "    if clip_range is not None:\n",
    "        ax.imshow(np.clip(image * factor, *clip_range), **kwargs)\n",
    "    else:\n",
    "        ax.imshow(image * factor, **kwargs)\n",
    "    ax.set_xticks([])\n",
    "    ax.set_yticks([])\n"
   ]
  },
  {
   "cell_type": "code",
   "execution_count": null,
   "metadata": {
    "colab": {
     "base_uri": "https://localhost:8080/"
    },
    "id": "8cJNgED0Cq9S",
    "outputId": "84889ba4-a90f-43ee-e25c-6b5c926fb917"
   },
   "outputs": [],
   "source": [
    "images"
   ]
  },
  {
   "cell_type": "code",
   "execution_count": null,
   "metadata": {
    "id": "smkka6k3DA9L"
   },
   "outputs": [],
   "source": [
    "from skimage import io\n",
    "import numpy as np\n",
    "import cv2\n",
    "\n",
    "ncols = 4\n",
    "nrows = 3\n",
    "\n",
    "aspect_ratio = 1#coordinates_size[0] / coordinates_size[1]\n",
    "subplot_kw = {'xticks': [], 'yticks': [], 'frame_on': False}\n",
    "\n",
    "fig, axs = plt.subplots(ncols=ncols, nrows=nrows, figsize=(5 * ncols * aspect_ratio, 5 * nrows),\n",
    "                            subplot_kw=subplot_kw)\n",
    "\n",
    "for idx, path in enumerate(images):\n",
    "        ax = axs[idx // ncols][idx % ncols]\n",
    "        image = io.imread(path)\n",
    "        image = np.array(image)\n",
    "        image = image[:,:,1:4]\n",
    "        ax.imshow(np.clip(image * 2.5/255, 0, 1))\n",
    "\n",
    "plt.tight_layout()\n",
    "\n",
    "\n",
    "\n",
    "# Move to structured folder in DATASETS\n",
    "root_images_store = \".\" + root_images\n",
    "dataset_store = \"./\" + city_str\n",
    "for root, dirs, files in os.walk(root_images_store, topdown=True):\n",
    "        for name in files:\n",
    "          path = os.path.join(root, name)\n",
    "          #print(path)\n",
    "          if img_format in path and not dataset_store in path:\n",
    "              shutil.copy(path, dataset_store)\n",
    "\n",
    "images = glob.glob(dataset_store+\"/*\")"
   ]
  }
 ],
 "metadata": {
  "accelerator": "GPU",
  "colab": {
   "gpuType": "T4",
   "provenance": []
  },
  "kernelspec": {
   "display_name": "Python 3",
   "name": "python3"
  },
  "language_info": {
   "codemirror_mode": {
    "name": "ipython",
    "version": 3
   },
   "file_extension": ".py",
   "mimetype": "text/x-python",
   "name": "python",
   "nbconvert_exporter": "python",
   "pygments_lexer": "ipython3",
   "version": "3.7.0"
  },
  "vscode": {
   "interpreter": {
    "hash": "916dbcbb3f70747c44a77c7bcd40155683ae19c65e1c03b4aa3499c5328201f1"
   }
  }
 },
 "nbformat": 4,
 "nbformat_minor": 0
}
