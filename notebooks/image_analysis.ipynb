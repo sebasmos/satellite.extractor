{
  "cells": [
    {
      "cell_type": "markdown",
      "metadata": {
        "id": "view-in-github"
      },
      "source": [
        "<a href=\"https://colab.research.google.com/github/sebasmos/satellite.extractor/blob/main/downloader_sentinel_5_cities.ipynb\" target=\"_parent\"><img src=\"https://colab.research.google.com/assets/colab-badge.svg\" alt=\"Open In Colab\"/></a>"
      ]
    },
    {
      "cell_type": "code",
      "execution_count": null,
      "metadata": {
        "id": "Jp9j3dUqe16V",
        "colab": {
          "base_uri": "https://localhost:8080/"
        },
        "outputId": "ec9ba817-3c1f-49a0-81c6-350a315a315c"
      },
      "outputs": [
        {
          "output_type": "stream",
          "name": "stdout",
          "text": [
            "Mounted at /content/drive\n"
          ]
        }
      ],
      "source": [
        "from google.colab import drive\n",
        "drive.mount('/content/drive')"
      ]
    },
    {
      "cell_type": "code",
      "execution_count": null,
      "metadata": {
        "id": "QCXClxa8fD9w",
        "colab": {
          "base_uri": "https://localhost:8080/"
        },
        "outputId": "e4240629-2674-4e73-aee8-9bb0610e54f3"
      },
      "outputs": [
        {
          "output_type": "stream",
          "name": "stdout",
          "text": [
            "/content/drive/MyDrive/satellite_project\n"
          ]
        }
      ],
      "source": [
        "%cd /content/drive/MyDrive/satellite_project"
      ]
    },
    {
      "cell_type": "markdown",
      "metadata": {
        "id": "h4w-mP8UqPcN"
      },
      "source": [
        "# Setup"
      ]
    },
    {
      "cell_type": "code",
      "execution_count": null,
      "metadata": {
        "id": "bHR80NUHfSCK",
        "colab": {
          "base_uri": "https://localhost:8080/"
        },
        "outputId": "38a220c2-b7a9-4b51-a490-53ee3529cedb"
      },
      "outputs": [
        {
          "output_type": "stream",
          "name": "stdout",
          "text": [
            "Collecting sentinelhub\n",
            "  Downloading sentinelhub-3.9.1-py3-none-any.whl (244 kB)\n",
            "\u001b[?25l     \u001b[90m━━━━━━━━━━━━━━━━━━━━━━━━━━━━━━━━━━━━━━━━\u001b[0m \u001b[32m0.0/244.4 kB\u001b[0m \u001b[31m?\u001b[0m eta \u001b[36m-:--:--\u001b[0m\r\u001b[2K     \u001b[91m━━━━━━━━━━━━━━━\u001b[0m\u001b[90m╺\u001b[0m\u001b[90m━━━━━━━━━━━━━━━━━━━━━━━━\u001b[0m \u001b[32m92.2/244.4 kB\u001b[0m \u001b[31m2.5 MB/s\u001b[0m eta \u001b[36m0:00:01\u001b[0m\r\u001b[2K     \u001b[90m━━━━━━━━━━━━━━━━━━━━━━━━━━━━━━━━━━━━━━━\u001b[0m \u001b[32m244.4/244.4 kB\u001b[0m \u001b[31m4.5 MB/s\u001b[0m eta \u001b[36m0:00:00\u001b[0m\n",
            "\u001b[?25hCollecting aenum>=2.1.4 (from sentinelhub)\n",
            "  Downloading aenum-3.1.15-py3-none-any.whl (137 kB)\n",
            "\u001b[2K     \u001b[90m━━━━━━━━━━━━━━━━━━━━━━━━━━━━━━━━━━━━━━\u001b[0m \u001b[32m137.6/137.6 kB\u001b[0m \u001b[31m16.8 MB/s\u001b[0m eta \u001b[36m0:00:00\u001b[0m\n",
            "\u001b[?25hRequirement already satisfied: click in /usr/local/lib/python3.10/dist-packages (from sentinelhub) (8.1.7)\n",
            "Collecting dataclasses-json (from sentinelhub)\n",
            "  Downloading dataclasses_json-0.5.14-py3-none-any.whl (26 kB)\n",
            "Requirement already satisfied: numpy in /usr/local/lib/python3.10/dist-packages (from sentinelhub) (1.23.5)\n",
            "Requirement already satisfied: oauthlib in /usr/local/lib/python3.10/dist-packages (from sentinelhub) (3.2.2)\n",
            "Requirement already satisfied: pillow>=9.2.0 in /usr/local/lib/python3.10/dist-packages (from sentinelhub) (9.4.0)\n",
            "Requirement already satisfied: pyproj>=2.2.0 in /usr/local/lib/python3.10/dist-packages (from sentinelhub) (3.6.0)\n",
            "Requirement already satisfied: python-dateutil in /usr/local/lib/python3.10/dist-packages (from sentinelhub) (2.8.2)\n",
            "Requirement already satisfied: requests-oauthlib>=1.0.0 in /usr/local/lib/python3.10/dist-packages (from sentinelhub) (1.3.1)\n",
            "Requirement already satisfied: requests>=2.27.0 in /usr/local/lib/python3.10/dist-packages (from sentinelhub) (2.31.0)\n",
            "Requirement already satisfied: shapely in /usr/local/lib/python3.10/dist-packages (from sentinelhub) (2.0.1)\n",
            "Requirement already satisfied: tifffile>=2020.9.30 in /usr/local/lib/python3.10/dist-packages (from sentinelhub) (2023.8.12)\n",
            "Requirement already satisfied: tomli in /usr/local/lib/python3.10/dist-packages (from sentinelhub) (2.0.1)\n",
            "Collecting tomli-w (from sentinelhub)\n",
            "  Downloading tomli_w-1.0.0-py3-none-any.whl (6.0 kB)\n",
            "Requirement already satisfied: tqdm in /usr/local/lib/python3.10/dist-packages (from sentinelhub) (4.66.1)\n",
            "Requirement already satisfied: typing-extensions in /usr/local/lib/python3.10/dist-packages (from sentinelhub) (4.7.1)\n",
            "Collecting utm (from sentinelhub)\n",
            "  Downloading utm-0.7.0.tar.gz (8.7 kB)\n",
            "  Preparing metadata (setup.py) ... \u001b[?25l\u001b[?25hdone\n",
            "Requirement already satisfied: certifi in /usr/local/lib/python3.10/dist-packages (from pyproj>=2.2.0->sentinelhub) (2023.7.22)\n",
            "Requirement already satisfied: charset-normalizer<4,>=2 in /usr/local/lib/python3.10/dist-packages (from requests>=2.27.0->sentinelhub) (3.2.0)\n",
            "Requirement already satisfied: idna<4,>=2.5 in /usr/local/lib/python3.10/dist-packages (from requests>=2.27.0->sentinelhub) (3.4)\n",
            "Requirement already satisfied: urllib3<3,>=1.21.1 in /usr/local/lib/python3.10/dist-packages (from requests>=2.27.0->sentinelhub) (2.0.4)\n",
            "Collecting marshmallow<4.0.0,>=3.18.0 (from dataclasses-json->sentinelhub)\n",
            "  Downloading marshmallow-3.20.1-py3-none-any.whl (49 kB)\n",
            "\u001b[2K     \u001b[90m━━━━━━━━━━━━━━━━━━━━━━━━━━━━━━━━━━━━━━━━\u001b[0m \u001b[32m49.4/49.4 kB\u001b[0m \u001b[31m6.5 MB/s\u001b[0m eta \u001b[36m0:00:00\u001b[0m\n",
            "\u001b[?25hCollecting typing-inspect<1,>=0.4.0 (from dataclasses-json->sentinelhub)\n",
            "  Downloading typing_inspect-0.9.0-py3-none-any.whl (8.8 kB)\n",
            "Requirement already satisfied: six>=1.5 in /usr/local/lib/python3.10/dist-packages (from python-dateutil->sentinelhub) (1.16.0)\n",
            "Requirement already satisfied: packaging>=17.0 in /usr/local/lib/python3.10/dist-packages (from marshmallow<4.0.0,>=3.18.0->dataclasses-json->sentinelhub) (23.1)\n",
            "Collecting mypy-extensions>=0.3.0 (from typing-inspect<1,>=0.4.0->dataclasses-json->sentinelhub)\n",
            "  Downloading mypy_extensions-1.0.0-py3-none-any.whl (4.7 kB)\n",
            "Building wheels for collected packages: utm\n",
            "  Building wheel for utm (setup.py) ... \u001b[?25l\u001b[?25hdone\n",
            "  Created wheel for utm: filename=utm-0.7.0-py3-none-any.whl size=6085 sha256=afda0894e1df3daaa80dcfa8a197ee27441451f6d3238c42defa11e305e9a3fb\n",
            "  Stored in directory: /root/.cache/pip/wheels/2f/a1/c8/543df0e8f5e824c3e92a432e32deb9cd89ae686095ee8cfcbe\n",
            "Successfully built utm\n",
            "Installing collected packages: utm, aenum, tomli-w, mypy-extensions, marshmallow, typing-inspect, dataclasses-json, sentinelhub\n",
            "Successfully installed aenum-3.1.15 dataclasses-json-0.5.14 marshmallow-3.20.1 mypy-extensions-1.0.0 sentinelhub-3.9.1 tomli-w-1.0.0 typing-inspect-0.9.0 utm-0.7.0\n",
            "Requirement already satisfied: sentinelhub in /usr/local/lib/python3.10/dist-packages (3.9.1)\n",
            "Requirement already satisfied: aenum>=2.1.4 in /usr/local/lib/python3.10/dist-packages (from sentinelhub) (3.1.15)\n",
            "Requirement already satisfied: click in /usr/local/lib/python3.10/dist-packages (from sentinelhub) (8.1.7)\n",
            "Requirement already satisfied: dataclasses-json in /usr/local/lib/python3.10/dist-packages (from sentinelhub) (0.5.14)\n",
            "Requirement already satisfied: numpy in /usr/local/lib/python3.10/dist-packages (from sentinelhub) (1.23.5)\n",
            "Requirement already satisfied: oauthlib in /usr/local/lib/python3.10/dist-packages (from sentinelhub) (3.2.2)\n",
            "Requirement already satisfied: pillow>=9.2.0 in /usr/local/lib/python3.10/dist-packages (from sentinelhub) (9.4.0)\n",
            "Requirement already satisfied: pyproj>=2.2.0 in /usr/local/lib/python3.10/dist-packages (from sentinelhub) (3.6.0)\n",
            "Requirement already satisfied: python-dateutil in /usr/local/lib/python3.10/dist-packages (from sentinelhub) (2.8.2)\n",
            "Requirement already satisfied: requests-oauthlib>=1.0.0 in /usr/local/lib/python3.10/dist-packages (from sentinelhub) (1.3.1)\n",
            "Requirement already satisfied: requests>=2.27.0 in /usr/local/lib/python3.10/dist-packages (from sentinelhub) (2.31.0)\n",
            "Requirement already satisfied: shapely in /usr/local/lib/python3.10/dist-packages (from sentinelhub) (2.0.1)\n",
            "Requirement already satisfied: tifffile>=2020.9.30 in /usr/local/lib/python3.10/dist-packages (from sentinelhub) (2023.8.12)\n",
            "Requirement already satisfied: tomli in /usr/local/lib/python3.10/dist-packages (from sentinelhub) (2.0.1)\n",
            "Requirement already satisfied: tomli-w in /usr/local/lib/python3.10/dist-packages (from sentinelhub) (1.0.0)\n",
            "Requirement already satisfied: tqdm in /usr/local/lib/python3.10/dist-packages (from sentinelhub) (4.66.1)\n",
            "Requirement already satisfied: typing-extensions in /usr/local/lib/python3.10/dist-packages (from sentinelhub) (4.7.1)\n",
            "Requirement already satisfied: utm in /usr/local/lib/python3.10/dist-packages (from sentinelhub) (0.7.0)\n",
            "Requirement already satisfied: certifi in /usr/local/lib/python3.10/dist-packages (from pyproj>=2.2.0->sentinelhub) (2023.7.22)\n",
            "Requirement already satisfied: charset-normalizer<4,>=2 in /usr/local/lib/python3.10/dist-packages (from requests>=2.27.0->sentinelhub) (3.2.0)\n",
            "Requirement already satisfied: idna<4,>=2.5 in /usr/local/lib/python3.10/dist-packages (from requests>=2.27.0->sentinelhub) (3.4)\n",
            "Requirement already satisfied: urllib3<3,>=1.21.1 in /usr/local/lib/python3.10/dist-packages (from requests>=2.27.0->sentinelhub) (2.0.4)\n",
            "Requirement already satisfied: marshmallow<4.0.0,>=3.18.0 in /usr/local/lib/python3.10/dist-packages (from dataclasses-json->sentinelhub) (3.20.1)\n",
            "Requirement already satisfied: typing-inspect<1,>=0.4.0 in /usr/local/lib/python3.10/dist-packages (from dataclasses-json->sentinelhub) (0.9.0)\n",
            "Requirement already satisfied: six>=1.5 in /usr/local/lib/python3.10/dist-packages (from python-dateutil->sentinelhub) (1.16.0)\n",
            "Requirement already satisfied: packaging>=17.0 in /usr/local/lib/python3.10/dist-packages (from marshmallow<4.0.0,>=3.18.0->dataclasses-json->sentinelhub) (23.1)\n",
            "Requirement already satisfied: mypy-extensions>=0.3.0 in /usr/local/lib/python3.10/dist-packages (from typing-inspect<1,>=0.4.0->dataclasses-json->sentinelhub) (1.0.0)\n"
          ]
        }
      ],
      "source": [
        "!pip install sentinelhub\n",
        "! pip install sentinelhub --upgrade"
      ]
    },
    {
      "cell_type": "code",
      "execution_count": null,
      "metadata": {
        "id": "eQl6PVyLfXM4"
      },
      "outputs": [],
      "source": [
        "#% cd /content/drive/MyDrive/Dengue_prediction/Codes_download_data_sentinel/\n",
        "\n",
        "#!git clone https://github.com/sentinel-hub/sentinelhub-py.git"
      ]
    },
    {
      "cell_type": "code",
      "execution_count": null,
      "metadata": {
        "id": "Np4Q1OfpH0zq"
      },
      "outputs": [],
      "source": [
        "# % cd /content/drive/MyDrive/Dengue_prediction/Codes_download_data_sentinel/sentinelhub-py\n",
        "#%cd ./sentinelhub-py"
      ]
    },
    {
      "cell_type": "code",
      "execution_count": null,
      "metadata": {
        "id": "GZNcHxSxffMl"
      },
      "outputs": [],
      "source": [
        "# Install dependencies\n",
        "#!python setup.py build\n",
        "#!python setup.py install\n",
        "#!pip install -r requirements.txt"
      ]
    },
    {
      "cell_type": "code",
      "execution_count": null,
      "metadata": {
        "id": "2R49HqPOH_wQ"
      },
      "outputs": [],
      "source": [
        "#%cd .."
      ]
    },
    {
      "cell_type": "code",
      "execution_count": null,
      "metadata": {
        "id": "aJM3aAmCfkHI"
      },
      "outputs": [],
      "source": [
        "\n",
        "#%cd /content/drive/MyDrive/Dengue_prediction/Codes_download_data_sentinel"
      ]
    },
    {
      "cell_type": "code",
      "execution_count": null,
      "metadata": {
        "id": "vG9uWOLVf1V2"
      },
      "outputs": [],
      "source": [
        "import shutil\n",
        "#!shutil.rmtree('satellite.extractor')\n",
        "#!git clone https://github.com/sebasmos/satellite.extractor.git"
      ]
    },
    {
      "cell_type": "markdown",
      "metadata": {
        "id": "Hgme7DhrqSDC"
      },
      "source": [
        "# Import functions"
      ]
    },
    {
      "cell_type": "code",
      "execution_count": null,
      "metadata": {
        "id": "Wj2puvbgpg-q",
        "colab": {
          "base_uri": "https://localhost:8080/"
        },
        "outputId": "af6ac823-fc09-420c-8e20-5b85881e8f98"
      },
      "outputs": [
        {
          "output_type": "stream",
          "name": "stdout",
          "text": [
            "Collecting epiweeks\n",
            "  Downloading epiweeks-2.2.0-py3-none-any.whl (5.7 kB)\n",
            "Installing collected packages: epiweeks\n",
            "Successfully installed epiweeks-2.2.0\n"
          ]
        }
      ],
      "source": [
        "import pandas as pd\n",
        "import glob\n",
        "import json\n",
        "import datetime as dt\n",
        "from urllib.parse import unquote\n",
        "from bs4 import BeautifulSoup\n",
        "import os\n",
        "import shutil\n",
        "from sentinelhub import SHConfig\n",
        "import datetime\n",
        "import numpy as np\n",
        "import matplotlib.pyplot as plt\n",
        "import sys\n",
        "from datetime import timedelta\n",
        "sys.path.insert(0,'..')\n",
        "from sentinelhub import MimeType, CRS, BBox, SentinelHubRequest, SentinelHubDownloadClient, DataCollection, bbox_to_dimensions, DownloadRequest\n",
        "!pip install epiweeks\n",
        "from epiweeks import Week, Year\n",
        "from datetime import date\n",
        "import glob, shutil"
      ]
    },
    {
      "cell_type": "code",
      "execution_count": null,
      "metadata": {
        "id": "WJxml9erp-47",
        "colab": {
          "base_uri": "https://localhost:8080/"
        },
        "outputId": "e0749a58-ea68-4bc0-bf14-d2fcb47f6b9b"
      },
      "outputs": [
        {
          "output_type": "stream",
          "name": "stdout",
          "text": [
            "/content/drive/MyDrive/satellite_project/satellite.extractor\n",
            "data\t __init__.py  notebooks  requirements.txt  setup.py\n",
            "DATASET  linux\t      README.md  scripts\t   src\n"
          ]
        }
      ],
      "source": [
        "%cd /content/drive/MyDrive/satellite_project/satellite.extractor\n",
        "!ls"
      ]
    },
    {
      "cell_type": "code",
      "execution_count": null,
      "metadata": {
        "id": "KuTZx2dhdEr4"
      },
      "outputs": [],
      "source": [
        "from linux.request_multiple_images_linux import download_multiple_images\n",
        "from linux.request_multiple_images_linux import get_folder_ID\n",
        "from linux.rename_linux import get_request_individual\n",
        "#from extractor import get_images"
      ]
    },
    {
      "cell_type": "code",
      "execution_count": null,
      "metadata": {
        "id": "GN8ZmULbGLt7"
      },
      "outputs": [],
      "source": [
        "#!pwd"
      ]
    },
    {
      "cell_type": "code",
      "execution_count": null,
      "metadata": {
        "id": "Nf5IANjSNvh2"
      },
      "outputs": [],
      "source": [
        "#!ls"
      ]
    },
    {
      "cell_type": "markdown",
      "metadata": {
        "id": "juc_tnHTNv49"
      },
      "source": [
        "# Cities coordinates"
      ]
    },
    {
      "cell_type": "code",
      "execution_count": null,
      "metadata": {
        "id": "3vR1X26jN0EF"
      },
      "outputs": [],
      "source": [
        "# # Top 5 Cities in Colombia\n",
        "# dic = {'Cali': [-76.55323133405957, 3.4062672204498083, -76.4860619546151, 3.473745747318065],\n",
        "#     \t    'Medellín': [-75.60847058045997, 6.210967220073269, -75.5410220422612, 6.278445747318065],\n",
        "#     \t    'Villavicencio': [-73.66295855834497, 4.108767220355771, -73.59573458823247, 4.176245747318064],\n",
        "#     \t    'Cúcuta': [-72.53849203162315, 7.873767219848251, -72.47080007014465, 7.941245747318064],\n",
        "#     \t    'Ibagué': [-75.2341715228093, 4.404067220316198, -75.16692155913864, 4.471545747318066]}"
      ]
    },
    {
      "cell_type": "code",
      "source": [
        "# TOP 10 cities in Colombia\n",
        "dic = {\n",
        "    #\"5360\": [-75.64326597461275, 6.138867220082993, -75.57582666854904, 6.206345747318064],\n",
        "    #Medellin\n",
        "    \"5001\": [-75.60847058045997, 6.210967220073269, -75.5410220422612, 6.278445747318065],\n",
        "    # \"8001\": [-74.83049287115125, 10.930167219429613, -74.7621980191767, 10.997645747318064],\n",
        "    # \"23001\": [-75.91946572624731, 8.726267219732208, -75.85162607114259, 8.793745747318063],\n",
        "    # \"41001\": [-75.32101467720933, 2.8937672205183227, -75.2538787048278, 2.961245747318065],\n",
        "    #Villavicencio\n",
        "    #\"50001\": [-73.66295855834497, 4.108767220355771, -73.59573458823247, 4.176245747318064],\n",
        "    # \"54001\": [-72.53849203162315, 7.873767219848251, -72.47080007014465, 7.941245747318064],\n",
        "    # \"68001\": [-73.1498307587881, 7.0848672199552105, -73.08226160203337, 7.152345747318066],\n",
        "    #Ibague\n",
        "    #\"73001\": [-75.2341715228093, 4.404067220316198, -75.16692155913864, 4.471545747318066],\n",
        "    #Cali\n",
        "    #\"76001\": [-76.55323133405957, 3.4062672204498083, -76.4860619546151, 3.473745747318065]\n",
        "}"
      ],
      "metadata": {
        "id": "nBRSY9YAy7yG"
      },
      "execution_count": null,
      "outputs": []
    },
    {
      "cell_type": "code",
      "execution_count": null,
      "metadata": {
        "id": "XeWvK2orOcN5",
        "colab": {
          "base_uri": "https://localhost:8080/"
        },
        "outputId": "bf8e5c59-99b7-4391-9e44-8d69131764dc"
      },
      "outputs": [
        {
          "output_type": "stream",
          "name": "stdout",
          "text": [
            "Number of cities: 1\n",
            "Range: [2017]\n",
            "Weeks first year: [1, 2, 3, 4, 5, 6, 7, 8, 9, 10, 11, 12, 13, 14, 15, 16, 17, 18, 19]\n"
          ]
        }
      ],
      "source": [
        "img_format = \"tiff\"\n",
        "'''\n",
        "    # REAL DATA FOR COLOMBIA\n",
        "    initial_year = 2015\n",
        "    end_year = 2018\n",
        "    years = list(range(initial_year,end_year))\n",
        "    first_2015_week = 44\n",
        "    end_year = 2020\n",
        "    start_2016 = Week(initial_year,first_2015_week).startdate()\n",
        "    weeks_2015 = list(range(first_2015_week, 53))\n",
        "    weeks = list(range(1,53))\n",
        "\n",
        "    # TESTING DATA\n",
        "\n",
        "    initial_year = 2017\n",
        "    end_year = 2018\n",
        "    years = list(range(initial_year,end_year))\n",
        "    first_2015_week = 44\n",
        "    end_year = 2018\n",
        "    start_2016 = Week(initial_year,first_2015_week).startdate()\n",
        "    weeks_2015 = list(range(first_2015_week, 53))\n",
        "    weeks = list(range(1,10))\n",
        "'''\n",
        "\n",
        "# Define the range of years\n",
        "initial_year = 2017\n",
        "end_year = 2018\n",
        "years = list(range(initial_year,end_year))\n",
        "first_week_of_first_year = 1\n",
        "\n",
        "start_first_year = Week(initial_year,first_week_of_first_year).startdate()\n",
        "\n",
        "weeks_first_year = list(range(first_week_of_first_year, 20))\n",
        "weeks = list(range(1,52))\n",
        "\n",
        "root_images = \"/data/\"\n",
        "\n",
        "temporal_path = os.path.abspath(os.getcwd()) + root_images\n",
        "\n",
        "if not os.path.isdir(temporal_path):\n",
        "    os.makedirs(temporal_path)\n",
        "    print(\"Creating temporal data folder\")\n",
        "\n",
        "print(f\"Number of cities: {len(dic)}\")\n",
        "print(f\"Range: {years}\")\n",
        "print(f\"Weeks first year: {weeks_first_year}\")"
      ]
    },
    {
      "cell_type": "code",
      "execution_count": null,
      "metadata": {
        "id": "RvELXfQHPpxG"
      },
      "outputs": [],
      "source": [
        "def get_images(coordenates, years, weeks, weeks_2015, img_format, root_images, CLIENT_ID, CLIENT_SECRET):\n",
        "    # Download data\n",
        "    folder_path = \"\"\n",
        "    for year in years:\n",
        "        if year == 2015:\n",
        "            for week in weeks_2015:\n",
        "                print(f\"Year: {year} - week: {week}\")\n",
        "                # Set starting date for given year based on\n",
        "                start = Week(year, week).startdate()\n",
        "                # Download individual images\n",
        "                download_multiple_images(coordenates, start, str(year), CLIENT_ID, CLIENT_SECRET)\n",
        "                # Obtain ID as the last-obtained response.tiff file, \"real-time\"\n",
        "                folder_path = get_folder_ID(root_images, img_format)\n",
        "                # Rename image based on JSON timestamp filter\n",
        "                dates = get_request_individual(folder_path+\"/request.json\", img_format)\n",
        "                # Clean folders which contain black images\n",
        "                path_to_blank_ids  = \".\" + root_images + \"/\" + str(year) + \"/*/*\"\n",
        "                ids = glob.glob(path_to_blank_ids)\n",
        "                for idx in ids:\n",
        "                    if \"response\" in idx:\n",
        "                        folder_path = idx.replace(\"/\" + \"response.\" + img_format, \"\")\n",
        "                        #print(folder_path)\n",
        "                        shutil.rmtree(folder_path)\n",
        "                ids = glob.glob(path_to_blank_ids)\n",
        "                #print(\"ids available: \", ids)\n",
        "\n",
        "                #flag =  [idx if (\"response\" in idx) for idx in ids]\n",
        "        #elif year ==2016:\n",
        "        else:\n",
        "            for week in weeks:\n",
        "                print(f\"Year: {year} - week: {week}\")\n",
        "                # Set starting date for given year based on\n",
        "                start = Week(year, week).startdate()\n",
        "                # Download individual images\n",
        "                download_multiple_images(coordenates, start, str(year), CLIENT_ID, CLIENT_SECRET)\n",
        "                # Obtain ID as the last-obtained response.tiff file, \"real-time\"\n",
        "                folder_path = get_folder_ID(root_images, img_format)\n",
        "                # Rename image based on JSON timestamp filter\n",
        "                dates = get_request_individual(folder_path+\"/request.json\", img_format)\n",
        "                # Clean folders which contain black images\n",
        "                path_to_blank_ids  = \".\" + root_images + \"/\" + str(year) + \"/*/*\"\n",
        "                ids = glob.glob(path_to_blank_ids)\n",
        "                for idx in ids:\n",
        "                    if \"response\" in idx:\n",
        "                        folder_path = idx.replace(\"/\" + \"response.\" + img_format, \"\")\n",
        "                        print(folder_path)\n",
        "                        shutil.rmtree(folder_path)\n",
        "                ids = glob.glob(path_to_blank_ids)\n"
      ]
    },
    {
      "cell_type": "code",
      "execution_count": null,
      "metadata": {
        "id": "LGm29oz3OiZZ"
      },
      "outputs": [],
      "source": [
        "for i in dic:\n",
        "    print(f\"City: {i} - Coordinates: {dic[i]}\")\n",
        "\n",
        "    current_coor = dic[i]\n",
        "\n",
        "    city_str = \"DATASET\" + \"/\" + str(i)\n",
        "\n",
        "    if not os.path.exists(city_str):\n",
        "        os.makedirs(city_str)\n",
        "\n",
        "    CLIENT_ID = \"ca0e22b7-7a8e-4696-bb7a-2a18108190f3\"\n",
        "    CLIENT_SECRET = \"t}yBWvKU/w!jS@k20U/5DwWzQlVG)A/Ig.4yh~F4\"\n",
        "\n",
        "    # Download images on given range\n",
        "    get_images(current_coor, years, weeks, weeks_first_year, img_format, root_images, CLIENT_ID, CLIENT_SECRET)\n",
        "\n",
        "    # Move to structured folder in DATASETS\n",
        "    root_images_store = \".\" + root_images\n",
        "    dataset_store = \"./\" + city_str\n",
        "    for root, dirs, files in os.walk(root_images_store, topdown=True):\n",
        "        for name in files:\n",
        "          path = os.path.join(root, name)\n",
        "          #print(path)\n",
        "          if img_format in path and not dataset_store in path:\n",
        "              shutil.copy(path, dataset_store)\n",
        "\n",
        "images = glob.glob(dataset_store+\"/*\")"
      ]
    },
    {
      "cell_type": "code",
      "source": [
        "from linux.request_multiple_images_linux import download_image"
      ],
      "metadata": {
        "id": "NfrtYeCf2b0U"
      },
      "execution_count": null,
      "outputs": []
    },
    {
      "cell_type": "code",
      "source": [
        "#Check image channels\n",
        "year = 2017\n",
        "week = 1\n",
        "start = Week(year, week).startdate()\n",
        "img_result = np.array([])\n",
        "\n",
        "for i in dic:\n",
        "  print(f\"City: {i} - Coordinates: {dic[i]}\")\n",
        "\n",
        "  current_coor = dic[i]\n",
        "  CLIENT_ID = \"ca0e22b7-7a8e-4696-bb7a-2a18108190f3\"\n",
        "  CLIENT_SECRET = \"t}yBWvKU/w!jS@k20U/5DwWzQlVG)A/Ig.4yh~F4\"\n",
        "  img_result = download_image(current_coor, start, year, CLIENT_ID, CLIENT_SECRET)\n",
        "  print(f\"Img obtained\")"
      ],
      "metadata": {
        "colab": {
          "base_uri": "https://localhost:8080/"
        },
        "id": "10WxBrwXtkCN",
        "outputId": "11159881-9cd4-4485-8e4c-f8c60cb6d51e"
      },
      "execution_count": null,
      "outputs": [
        {
          "output_type": "stream",
          "name": "stdout",
          "text": [
            "City: 5001 - Coordinates: [-75.60847058045997, 6.210967220073269, -75.5410220422612, 6.278445747318065]\n",
            "Requested week slot: 01/01/2017 - 01/08/2017 \n"
          ]
        },
        {
          "output_type": "stream",
          "name": "stderr",
          "text": [
            "/usr/local/lib/python3.10/dist-packages/sentinelhub/download/client.py:78: SHDeprecationWarning: The parameter `download_requests` should be a sequence of requests. In future versions download of single requests will only be supported if provided as a singelton tuple or list.\n",
            "  warnings.warn(\n"
          ]
        },
        {
          "output_type": "stream",
          "name": "stdout",
          "text": [
            "Img obtained\n"
          ]
        }
      ]
    },
    {
      "cell_type": "markdown",
      "source": [
        "# Calculating image entropy"
      ],
      "metadata": {
        "id": "0MJepojLcaQu"
      }
    },
    {
      "cell_type": "code",
      "source": [
        "import numpy as np\n",
        "import cv2\n",
        "from scipy.stats import entropy\n",
        "import matplotlib.pyplot as plt"
      ],
      "metadata": {
        "id": "uZ7RoCFCcfzH"
      },
      "execution_count": null,
      "outputs": []
    },
    {
      "cell_type": "code",
      "source": [
        "img_result.shape"
      ],
      "metadata": {
        "colab": {
          "base_uri": "https://localhost:8080/"
        },
        "id": "p0xQB6BJvJWL",
        "outputId": "4d06df0f-f3cf-406a-ad9e-c05fcf5e9276"
      },
      "execution_count": null,
      "outputs": [
        {
          "output_type": "execute_result",
          "data": {
            "text/plain": [
              "(745, 747, 12)"
            ]
          },
          "metadata": {},
          "execution_count": 38
        }
      ]
    },
    {
      "cell_type": "code",
      "source": [
        "'''\n",
        "  Range of each band\n",
        "  B02\tBlue, 492.4 nm (S2A), 492.1 nm (S2B)\t10m\n",
        "  B03\tGreen, 559.8 nm (S2A), 559.0 nm (S2B)\t10m\n",
        "  B04\tRed, 664.6 nm (S2A), 665.0 nm (S2B) 10m\n",
        "'''\n",
        "ranges = {}\n",
        "for channel_index in range(img_result.shape[2]):\n",
        "  channel_data = img_result[:,:,channel_index]\n",
        "  maximum = channel_data.max()\n",
        "  minimum = channel_data.min()\n",
        "  ranges[channel_index] = {\n",
        "      'minimum': minimum,\n",
        "      'maximum': maximum\n",
        "  }\n",
        "df = pd.DataFrame(ranges)\n",
        "df.rename(columns={0:\"B01\", 1:\"B02\", 2:\"B03\", 3:\"B04\", 4:\"B05\", 5:\"B06\", 6:\"B07\", 7:\"B08\", 8:\"B8A\", 9:\"B09\", 10:\"B11\", 11:\"B12\"}, inplace=True)\n",
        "df"
      ],
      "metadata": {
        "colab": {
          "base_uri": "https://localhost:8080/",
          "height": 112
        },
        "id": "EpTcyWdGkKgl",
        "outputId": "eddc1123-ffa8-4d42-ff1e-1e2847d50f97"
      },
      "execution_count": null,
      "outputs": [
        {
          "output_type": "execute_result",
          "data": {
            "text/plain": [
              "          B01    B02    B03    B04   B05   B06   B07    B08   B8A    B09  \\\n",
              "minimum     0      0      0      0     0     0     0      0     0      0   \n",
              "maximum  9016  14984  13336  15888  9820  9764  9684  15856  9631  15765   \n",
              "\n",
              "           B11    B12  \n",
              "minimum      0      0  \n",
              "maximum  14872  15098  "
            ],
            "text/html": [
              "\n",
              "  <div id=\"df-956f36da-d2b5-41f6-9e48-5d00dc64b32c\" class=\"colab-df-container\">\n",
              "    <div>\n",
              "<style scoped>\n",
              "    .dataframe tbody tr th:only-of-type {\n",
              "        vertical-align: middle;\n",
              "    }\n",
              "\n",
              "    .dataframe tbody tr th {\n",
              "        vertical-align: top;\n",
              "    }\n",
              "\n",
              "    .dataframe thead th {\n",
              "        text-align: right;\n",
              "    }\n",
              "</style>\n",
              "<table border=\"1\" class=\"dataframe\">\n",
              "  <thead>\n",
              "    <tr style=\"text-align: right;\">\n",
              "      <th></th>\n",
              "      <th>B01</th>\n",
              "      <th>B02</th>\n",
              "      <th>B03</th>\n",
              "      <th>B04</th>\n",
              "      <th>B05</th>\n",
              "      <th>B06</th>\n",
              "      <th>B07</th>\n",
              "      <th>B08</th>\n",
              "      <th>B8A</th>\n",
              "      <th>B09</th>\n",
              "      <th>B11</th>\n",
              "      <th>B12</th>\n",
              "    </tr>\n",
              "  </thead>\n",
              "  <tbody>\n",
              "    <tr>\n",
              "      <th>minimum</th>\n",
              "      <td>0</td>\n",
              "      <td>0</td>\n",
              "      <td>0</td>\n",
              "      <td>0</td>\n",
              "      <td>0</td>\n",
              "      <td>0</td>\n",
              "      <td>0</td>\n",
              "      <td>0</td>\n",
              "      <td>0</td>\n",
              "      <td>0</td>\n",
              "      <td>0</td>\n",
              "      <td>0</td>\n",
              "    </tr>\n",
              "    <tr>\n",
              "      <th>maximum</th>\n",
              "      <td>9016</td>\n",
              "      <td>14984</td>\n",
              "      <td>13336</td>\n",
              "      <td>15888</td>\n",
              "      <td>9820</td>\n",
              "      <td>9764</td>\n",
              "      <td>9684</td>\n",
              "      <td>15856</td>\n",
              "      <td>9631</td>\n",
              "      <td>15765</td>\n",
              "      <td>14872</td>\n",
              "      <td>15098</td>\n",
              "    </tr>\n",
              "  </tbody>\n",
              "</table>\n",
              "</div>\n",
              "    <div class=\"colab-df-buttons\">\n",
              "\n",
              "  <div class=\"colab-df-container\">\n",
              "    <button class=\"colab-df-convert\" onclick=\"convertToInteractive('df-956f36da-d2b5-41f6-9e48-5d00dc64b32c')\"\n",
              "            title=\"Convert this dataframe to an interactive table.\"\n",
              "            style=\"display:none;\">\n",
              "\n",
              "  <svg xmlns=\"http://www.w3.org/2000/svg\" height=\"24px\" viewBox=\"0 -960 960 960\">\n",
              "    <path d=\"M120-120v-720h720v720H120Zm60-500h600v-160H180v160Zm220 220h160v-160H400v160Zm0 220h160v-160H400v160ZM180-400h160v-160H180v160Zm440 0h160v-160H620v160ZM180-180h160v-160H180v160Zm440 0h160v-160H620v160Z\"/>\n",
              "  </svg>\n",
              "    </button>\n",
              "\n",
              "  <style>\n",
              "    .colab-df-container {\n",
              "      display:flex;\n",
              "      gap: 12px;\n",
              "    }\n",
              "\n",
              "    .colab-df-convert {\n",
              "      background-color: #E8F0FE;\n",
              "      border: none;\n",
              "      border-radius: 50%;\n",
              "      cursor: pointer;\n",
              "      display: none;\n",
              "      fill: #1967D2;\n",
              "      height: 32px;\n",
              "      padding: 0 0 0 0;\n",
              "      width: 32px;\n",
              "    }\n",
              "\n",
              "    .colab-df-convert:hover {\n",
              "      background-color: #E2EBFA;\n",
              "      box-shadow: 0px 1px 2px rgba(60, 64, 67, 0.3), 0px 1px 3px 1px rgba(60, 64, 67, 0.15);\n",
              "      fill: #174EA6;\n",
              "    }\n",
              "\n",
              "    .colab-df-buttons div {\n",
              "      margin-bottom: 4px;\n",
              "    }\n",
              "\n",
              "    [theme=dark] .colab-df-convert {\n",
              "      background-color: #3B4455;\n",
              "      fill: #D2E3FC;\n",
              "    }\n",
              "\n",
              "    [theme=dark] .colab-df-convert:hover {\n",
              "      background-color: #434B5C;\n",
              "      box-shadow: 0px 1px 3px 1px rgba(0, 0, 0, 0.15);\n",
              "      filter: drop-shadow(0px 1px 2px rgba(0, 0, 0, 0.3));\n",
              "      fill: #FFFFFF;\n",
              "    }\n",
              "  </style>\n",
              "\n",
              "    <script>\n",
              "      const buttonEl =\n",
              "        document.querySelector('#df-956f36da-d2b5-41f6-9e48-5d00dc64b32c button.colab-df-convert');\n",
              "      buttonEl.style.display =\n",
              "        google.colab.kernel.accessAllowed ? 'block' : 'none';\n",
              "\n",
              "      async function convertToInteractive(key) {\n",
              "        const element = document.querySelector('#df-956f36da-d2b5-41f6-9e48-5d00dc64b32c');\n",
              "        const dataTable =\n",
              "          await google.colab.kernel.invokeFunction('convertToInteractive',\n",
              "                                                    [key], {});\n",
              "        if (!dataTable) return;\n",
              "\n",
              "        const docLinkHtml = 'Like what you see? Visit the ' +\n",
              "          '<a target=\"_blank\" href=https://colab.research.google.com/notebooks/data_table.ipynb>data table notebook</a>'\n",
              "          + ' to learn more about interactive tables.';\n",
              "        element.innerHTML = '';\n",
              "        dataTable['output_type'] = 'display_data';\n",
              "        await google.colab.output.renderOutput(dataTable, element);\n",
              "        const docLink = document.createElement('div');\n",
              "        docLink.innerHTML = docLinkHtml;\n",
              "        element.appendChild(docLink);\n",
              "      }\n",
              "    </script>\n",
              "  </div>\n",
              "\n",
              "\n",
              "<div id=\"df-221ff18b-6f71-4b6a-a1d3-02c0eb098f81\">\n",
              "  <button class=\"colab-df-quickchart\" onclick=\"quickchart('df-221ff18b-6f71-4b6a-a1d3-02c0eb098f81')\"\n",
              "            title=\"Suggest charts.\"\n",
              "            style=\"display:none;\">\n",
              "\n",
              "<svg xmlns=\"http://www.w3.org/2000/svg\" height=\"24px\"viewBox=\"0 0 24 24\"\n",
              "     width=\"24px\">\n",
              "    <g>\n",
              "        <path d=\"M19 3H5c-1.1 0-2 .9-2 2v14c0 1.1.9 2 2 2h14c1.1 0 2-.9 2-2V5c0-1.1-.9-2-2-2zM9 17H7v-7h2v7zm4 0h-2V7h2v10zm4 0h-2v-4h2v4z\"/>\n",
              "    </g>\n",
              "</svg>\n",
              "  </button>\n",
              "\n",
              "<style>\n",
              "  .colab-df-quickchart {\n",
              "      --bg-color: #E8F0FE;\n",
              "      --fill-color: #1967D2;\n",
              "      --hover-bg-color: #E2EBFA;\n",
              "      --hover-fill-color: #174EA6;\n",
              "      --disabled-fill-color: #AAA;\n",
              "      --disabled-bg-color: #DDD;\n",
              "  }\n",
              "\n",
              "  [theme=dark] .colab-df-quickchart {\n",
              "      --bg-color: #3B4455;\n",
              "      --fill-color: #D2E3FC;\n",
              "      --hover-bg-color: #434B5C;\n",
              "      --hover-fill-color: #FFFFFF;\n",
              "      --disabled-bg-color: #3B4455;\n",
              "      --disabled-fill-color: #666;\n",
              "  }\n",
              "\n",
              "  .colab-df-quickchart {\n",
              "    background-color: var(--bg-color);\n",
              "    border: none;\n",
              "    border-radius: 50%;\n",
              "    cursor: pointer;\n",
              "    display: none;\n",
              "    fill: var(--fill-color);\n",
              "    height: 32px;\n",
              "    padding: 0;\n",
              "    width: 32px;\n",
              "  }\n",
              "\n",
              "  .colab-df-quickchart:hover {\n",
              "    background-color: var(--hover-bg-color);\n",
              "    box-shadow: 0 1px 2px rgba(60, 64, 67, 0.3), 0 1px 3px 1px rgba(60, 64, 67, 0.15);\n",
              "    fill: var(--button-hover-fill-color);\n",
              "  }\n",
              "\n",
              "  .colab-df-quickchart-complete:disabled,\n",
              "  .colab-df-quickchart-complete:disabled:hover {\n",
              "    background-color: var(--disabled-bg-color);\n",
              "    fill: var(--disabled-fill-color);\n",
              "    box-shadow: none;\n",
              "  }\n",
              "\n",
              "  .colab-df-spinner {\n",
              "    border: 2px solid var(--fill-color);\n",
              "    border-color: transparent;\n",
              "    border-bottom-color: var(--fill-color);\n",
              "    animation:\n",
              "      spin 1s steps(1) infinite;\n",
              "  }\n",
              "\n",
              "  @keyframes spin {\n",
              "    0% {\n",
              "      border-color: transparent;\n",
              "      border-bottom-color: var(--fill-color);\n",
              "      border-left-color: var(--fill-color);\n",
              "    }\n",
              "    20% {\n",
              "      border-color: transparent;\n",
              "      border-left-color: var(--fill-color);\n",
              "      border-top-color: var(--fill-color);\n",
              "    }\n",
              "    30% {\n",
              "      border-color: transparent;\n",
              "      border-left-color: var(--fill-color);\n",
              "      border-top-color: var(--fill-color);\n",
              "      border-right-color: var(--fill-color);\n",
              "    }\n",
              "    40% {\n",
              "      border-color: transparent;\n",
              "      border-right-color: var(--fill-color);\n",
              "      border-top-color: var(--fill-color);\n",
              "    }\n",
              "    60% {\n",
              "      border-color: transparent;\n",
              "      border-right-color: var(--fill-color);\n",
              "    }\n",
              "    80% {\n",
              "      border-color: transparent;\n",
              "      border-right-color: var(--fill-color);\n",
              "      border-bottom-color: var(--fill-color);\n",
              "    }\n",
              "    90% {\n",
              "      border-color: transparent;\n",
              "      border-bottom-color: var(--fill-color);\n",
              "    }\n",
              "  }\n",
              "</style>\n",
              "\n",
              "  <script>\n",
              "    async function quickchart(key) {\n",
              "      const quickchartButtonEl =\n",
              "        document.querySelector('#' + key + ' button');\n",
              "      quickchartButtonEl.disabled = true;  // To prevent multiple clicks.\n",
              "      quickchartButtonEl.classList.add('colab-df-spinner');\n",
              "      try {\n",
              "        const charts = await google.colab.kernel.invokeFunction(\n",
              "            'suggestCharts', [key], {});\n",
              "      } catch (error) {\n",
              "        console.error('Error during call to suggestCharts:', error);\n",
              "      }\n",
              "      quickchartButtonEl.classList.remove('colab-df-spinner');\n",
              "      quickchartButtonEl.classList.add('colab-df-quickchart-complete');\n",
              "    }\n",
              "    (() => {\n",
              "      let quickchartButtonEl =\n",
              "        document.querySelector('#df-221ff18b-6f71-4b6a-a1d3-02c0eb098f81 button');\n",
              "      quickchartButtonEl.style.display =\n",
              "        google.colab.kernel.accessAllowed ? 'block' : 'none';\n",
              "    })();\n",
              "  </script>\n",
              "</div>\n",
              "    </div>\n",
              "  </div>\n"
            ]
          },
          "metadata": {},
          "execution_count": 35
        }
      ]
    },
    {
      "cell_type": "code",
      "source": [
        "# Extract the red, green, and blue channels\n",
        "red_channel = img_result[:, :, 1]\n",
        "green_channel = img_result[:, :, 2]\n",
        "blue_channel = img_result[:, :, 3]\n",
        "\n",
        "# Create a grayscale image by averaging the red, green, and blue channels\n",
        "grayscale_image = (red_channel + green_channel + blue_channel) / 3.0"
      ],
      "metadata": {
        "id": "y45ewgmUvedw"
      },
      "execution_count": null,
      "outputs": []
    },
    {
      "cell_type": "code",
      "source": [
        "#Another way to convert image to grayscale\n",
        "rgb_image = img_result[:, :, 1:4]\n",
        "grayscale_image = cv2.cvtColor(rgb_image, cv2.COLOR_BGR2GRAY)"
      ],
      "metadata": {
        "id": "s_uKhFY5RAxl"
      },
      "execution_count": null,
      "outputs": []
    },
    {
      "cell_type": "markdown",
      "source": [
        "## Calculate entropy"
      ],
      "metadata": {
        "id": "pwoRu3xMxQIy"
      }
    },
    {
      "cell_type": "code",
      "source": [
        "#Compute the histogram\n",
        "_bins = 512\n",
        "hist, _ = np.histogram(grayscale_image.ravel(), bins=_bins, range=(0, _bins))\n",
        "prob_dist = hist / hist.sum()\n",
        "image_entropy = entropy(prob_dist, base=2)\n",
        "print(f\"Image Entropy {image_entropy}\")"
      ],
      "metadata": {
        "colab": {
          "base_uri": "https://localhost:8080/"
        },
        "id": "g7ARbEIaw4oQ",
        "outputId": "549002d1-f04f-417b-e968-f82630996dd6"
      },
      "execution_count": null,
      "outputs": [
        {
          "output_type": "stream",
          "name": "stdout",
          "text": [
            "Image Entropy 8.164178206149588\n"
          ]
        }
      ]
    },
    {
      "cell_type": "code",
      "source": [
        "plt.hist(hist, density=1, bins=_bins)\n",
        "plt.show()"
      ],
      "metadata": {
        "colab": {
          "base_uri": "https://localhost:8080/",
          "height": 430
        },
        "id": "EyqCAtogxUYo",
        "outputId": "b84dec97-6318-442a-db18-fd62af5335ae"
      },
      "execution_count": null,
      "outputs": [
        {
          "output_type": "display_data",
          "data": {
            "text/plain": [
              "<Figure size 640x480 with 1 Axes>"
            ],
            "image/png": "[encoded data removed]"
          },
          "metadata": {}
        }
      ]
    },
    {
      "cell_type": "code",
      "source": [
        "#Another way to calculate it\n",
        "def calculate_entropy(image):\n",
        "    # Calculate histogram\n",
        "    #For 16-bit images (pixel values ranging from 0 to 65535), you can consider using 512 bins\n",
        "    hist = np.histogram(image, bins=512, range=(0, 512))[0]\n",
        "    hist = hist / hist.sum()  # Normalize histogram to get probabilities\n",
        "\n",
        "    # Calculate entropy\n",
        "    entropy = -np.sum(hist * np.log2(hist + np.finfo(float).eps))\n",
        "    return entropy"
      ],
      "metadata": {
        "id": "fa3k2cmtx7lx"
      },
      "execution_count": null,
      "outputs": []
    },
    {
      "cell_type": "code",
      "source": [
        "\"\"\"\n",
        "For common 8-bit images (256 bins), the entropy values typically range from 0 to 8 bits.\n",
        "For 16-bit images (65536 bins), the range would be from 0 to 16 bits.\n",
        "\"\"\"\n",
        "calculate_entropy(grayscale_image)"
      ],
      "metadata": {
        "colab": {
          "base_uri": "https://localhost:8080/"
        },
        "id": "bwKpD-pWx84y",
        "outputId": "7b227c96-ba89-4862-dbff-959d3f742be5"
      },
      "execution_count": null,
      "outputs": [
        {
          "output_type": "execute_result",
          "data": {
            "text/plain": [
              "8.164178206149453"
            ]
          },
          "metadata": {},
          "execution_count": 81
        }
      ]
    },
    {
      "cell_type": "markdown",
      "source": [
        "### Visualize image"
      ],
      "metadata": {
        "id": "nzU3kCGBRiye"
      }
    },
    {
      "cell_type": "code",
      "source": [
        "import matplotlib.pyplot as plt\n",
        "\n",
        "# Display the grayscale image\n",
        "plt.imshow(grayscale_image, cmap='gray')\n",
        "plt.title('Grayscale Image')\n",
        "plt.axis('off')  # Turn off axis labels and ticks (optional)\n",
        "plt.show()"
      ],
      "metadata": {
        "colab": {
          "base_uri": "https://localhost:8080/",
          "height": 428
        },
        "id": "srMGPNy8Q4B4",
        "outputId": "c0988a01-b70e-494a-a83b-1aabd7d33864"
      },
      "execution_count": null,
      "outputs": [
        {
          "output_type": "display_data",
          "data": {
            "text/plain": [
              "<Figure size 640x480 with 1 Axes>"
            ],
            "image/png": "[encoded data removed]"
          },
          "metadata": {}
        }
      ]
    },
    {
      "cell_type": "code",
      "source": [
        "channel_histograms = [np.histogram(img_result[:, :, i], bins=_bins) for i in range(12)]\n",
        "plt.figure(figsize=(18, 10))\n",
        "for i in range(12):\n",
        "    plt.subplot(3, 4, i + 1)\n",
        "    plt.hist(channel_histograms[i][0], density=1, bins=_bins)\n",
        "    #plt.hist()\n",
        "    plt.title(f'Channel {i+1} Histogram')\n",
        "plt.show()"
      ],
      "metadata": {
        "id": "dJ0SbbZS4B6y",
        "outputId": "5fd7243a-492d-420f-9db7-f12f007ab134",
        "colab": {
          "base_uri": "https://localhost:8080/",
          "height": 853
        }
      },
      "execution_count": null,
      "outputs": [
        {
          "output_type": "display_data",
          "data": {
            "text/plain": [
              "<Figure size 1800x1000 with 12 Axes>"
            ],
            "image/png": "[encoded data removed]"
          },
          "metadata": {}
        }
      ]
    },
    {
      "cell_type": "code",
      "execution_count": null,
      "metadata": {
        "id": "12ow6J05yvJJ"
      },
      "outputs": [],
      "source": [
        "#shutil.rmtree(\"DATASET\")\n",
        "shutil.rmtree(\"data\")"
      ]
    },
    {
      "cell_type": "markdown",
      "source": [
        "# Calculating entropy of images downloaded"
      ],
      "metadata": {
        "id": "dkeTefs0VjwK"
      }
    },
    {
      "cell_type": "code",
      "source": [
        "#!pip install tifffile\n",
        "from tifffile import imread"
      ],
      "metadata": {
        "id": "WFm8KjeWmyLC"
      },
      "execution_count": null,
      "outputs": []
    },
    {
      "cell_type": "code",
      "source": [
        "folder_path = '/content/drive/My Drive/satellite_project/satellite.extractor/DATASET/5001'\n",
        "os.chdir(folder_path)"
      ],
      "metadata": {
        "id": "TCKVy2m1Z9jR"
      },
      "execution_count": null,
      "outputs": []
    },
    {
      "cell_type": "code",
      "source": [
        "tiff_files = glob.glob(os.path.join(folder_path, '*.tiff'))  # Change the file extension as needed\n",
        "print(f\"Number of images:{len(tiff_files)}\")"
      ],
      "metadata": {
        "colab": {
          "base_uri": "https://localhost:8080/"
        },
        "id": "t5rC82lIaPUW",
        "outputId": "30d90db7-a389-40b0-b0a2-deed68ffa6e1"
      },
      "execution_count": null,
      "outputs": [
        {
          "output_type": "stream",
          "name": "stdout",
          "text": [
            "Number of images:101\n"
          ]
        }
      ]
    },
    {
      "cell_type": "code",
      "source": [
        "entropy_values = []\n",
        "\n",
        "for tiff_path in tiff_files:\n",
        "  #print(tiff_path)\n",
        "  filename = os.path.basename(tiff_path)\n",
        "  #print(filename)\n",
        "\n",
        "  # Read the TIFF image using tifffile.imread\n",
        "  tiff_image = imread(tiff_path)\n",
        "  gray_image = cv2.cvtColor(tiff_image[:, :, 1:4], cv2.COLOR_BGR2GRAY)\n",
        "  # # Calculate entropy\n",
        "  entropy = calculate_entropy(gray_image)\n",
        "  entropy_values.append((filename, entropy))"
      ],
      "metadata": {
        "colab": {
          "base_uri": "https://localhost:8080/"
        },
        "id": "Gylu6tVXnJf2",
        "outputId": "cbb5278c-8a82-42bf-e586-11aaf2844944"
      },
      "execution_count": null,
      "outputs": [
        {
          "output_type": "stream",
          "name": "stderr",
          "text": [
            "<ipython-input-75-6dadcd20e320>:6: RuntimeWarning: invalid value encountered in divide\n",
            "  hist = hist / hist.sum()  # Normalize histogram to get probabilities\n"
          ]
        }
      ]
    },
    {
      "cell_type": "code",
      "source": [
        "df = pd.DataFrame(entropy_values, columns=['Image File', 'Entropy'])\n",
        "df.head(10)"
      ],
      "metadata": {
        "colab": {
          "base_uri": "https://localhost:8080/",
          "height": 363
        },
        "id": "OLu5X1OEonlI",
        "outputId": "632c28a6-7f06-4435-9a56-37b58e19e819"
      },
      "execution_count": null,
      "outputs": [
        {
          "output_type": "execute_result",
          "data": {
            "text/plain": [
              "              Image File       Entropy\n",
              "0  image_2017-01-15.tiff  7.778166e+00\n",
              "1  image_2017-03-05.tiff -3.203427e-16\n",
              "2  image_2017-04-16.tiff  2.960994e+00\n",
              "3  image_2017-04-09.tiff  2.960994e+00\n",
              "4  image_2017-01-11.tiff  7.652002e+00\n",
              "5  image_2017-03-02.tiff  5.836126e+00\n",
              "6  image_2017-03-15.tiff  7.796561e+00\n",
              "7  image_2017-05-04.tiff  8.811614e+00\n",
              "8  image_2017-06-10.tiff  8.209772e+00\n",
              "9  image_2017-08-02.tiff  8.167853e+00"
            ],
            "text/html": [
              "\n",
              "  <div id=\"df-a50d750d-5500-4cc3-947e-cbd8d331fd42\" class=\"colab-df-container\">\n",
              "    <div>\n",
              "<style scoped>\n",
              "    .dataframe tbody tr th:only-of-type {\n",
              "        vertical-align: middle;\n",
              "    }\n",
              "\n",
              "    .dataframe tbody tr th {\n",
              "        vertical-align: top;\n",
              "    }\n",
              "\n",
              "    .dataframe thead th {\n",
              "        text-align: right;\n",
              "    }\n",
              "</style>\n",
              "<table border=\"1\" class=\"dataframe\">\n",
              "  <thead>\n",
              "    <tr style=\"text-align: right;\">\n",
              "      <th></th>\n",
              "      <th>Image File</th>\n",
              "      <th>Entropy</th>\n",
              "    </tr>\n",
              "  </thead>\n",
              "  <tbody>\n",
              "    <tr>\n",
              "      <th>0</th>\n",
              "      <td>image_2017-01-15.tiff</td>\n",
              "      <td>7.778166e+00</td>\n",
              "    </tr>\n",
              "    <tr>\n",
              "      <th>1</th>\n",
              "      <td>image_2017-03-05.tiff</td>\n",
              "      <td>-3.203427e-16</td>\n",
              "    </tr>\n",
              "    <tr>\n",
              "      <th>2</th>\n",
              "      <td>image_2017-04-16.tiff</td>\n",
              "      <td>2.960994e+00</td>\n",
              "    </tr>\n",
              "    <tr>\n",
              "      <th>3</th>\n",
              "      <td>image_2017-04-09.tiff</td>\n",
              "      <td>2.960994e+00</td>\n",
              "    </tr>\n",
              "    <tr>\n",
              "      <th>4</th>\n",
              "      <td>image_2017-01-11.tiff</td>\n",
              "      <td>7.652002e+00</td>\n",
              "    </tr>\n",
              "    <tr>\n",
              "      <th>5</th>\n",
              "      <td>image_2017-03-02.tiff</td>\n",
              "      <td>5.836126e+00</td>\n",
              "    </tr>\n",
              "    <tr>\n",
              "      <th>6</th>\n",
              "      <td>image_2017-03-15.tiff</td>\n",
              "      <td>7.796561e+00</td>\n",
              "    </tr>\n",
              "    <tr>\n",
              "      <th>7</th>\n",
              "      <td>image_2017-05-04.tiff</td>\n",
              "      <td>8.811614e+00</td>\n",
              "    </tr>\n",
              "    <tr>\n",
              "      <th>8</th>\n",
              "      <td>image_2017-06-10.tiff</td>\n",
              "      <td>8.209772e+00</td>\n",
              "    </tr>\n",
              "    <tr>\n",
              "      <th>9</th>\n",
              "      <td>image_2017-08-02.tiff</td>\n",
              "      <td>8.167853e+00</td>\n",
              "    </tr>\n",
              "  </tbody>\n",
              "</table>\n",
              "</div>\n",
              "    <div class=\"colab-df-buttons\">\n",
              "\n",
              "  <div class=\"colab-df-container\">\n",
              "    <button class=\"colab-df-convert\" onclick=\"convertToInteractive('df-a50d750d-5500-4cc3-947e-cbd8d331fd42')\"\n",
              "            title=\"Convert this dataframe to an interactive table.\"\n",
              "            style=\"display:none;\">\n",
              "\n",
              "  <svg xmlns=\"http://www.w3.org/2000/svg\" height=\"24px\" viewBox=\"0 -960 960 960\">\n",
              "    <path d=\"M120-120v-720h720v720H120Zm60-500h600v-160H180v160Zm220 220h160v-160H400v160Zm0 220h160v-160H400v160ZM180-400h160v-160H180v160Zm440 0h160v-160H620v160ZM180-180h160v-160H180v160Zm440 0h160v-160H620v160Z\"/>\n",
              "  </svg>\n",
              "    </button>\n",
              "\n",
              "  <style>\n",
              "    .colab-df-container {\n",
              "      display:flex;\n",
              "      gap: 12px;\n",
              "    }\n",
              "\n",
              "    .colab-df-convert {\n",
              "      background-color: #E8F0FE;\n",
              "      border: none;\n",
              "      border-radius: 50%;\n",
              "      cursor: pointer;\n",
              "      display: none;\n",
              "      fill: #1967D2;\n",
              "      height: 32px;\n",
              "      padding: 0 0 0 0;\n",
              "      width: 32px;\n",
              "    }\n",
              "\n",
              "    .colab-df-convert:hover {\n",
              "      background-color: #E2EBFA;\n",
              "      box-shadow: 0px 1px 2px rgba(60, 64, 67, 0.3), 0px 1px 3px 1px rgba(60, 64, 67, 0.15);\n",
              "      fill: #174EA6;\n",
              "    }\n",
              "\n",
              "    .colab-df-buttons div {\n",
              "      margin-bottom: 4px;\n",
              "    }\n",
              "\n",
              "    [theme=dark] .colab-df-convert {\n",
              "      background-color: #3B4455;\n",
              "      fill: #D2E3FC;\n",
              "    }\n",
              "\n",
              "    [theme=dark] .colab-df-convert:hover {\n",
              "      background-color: #434B5C;\n",
              "      box-shadow: 0px 1px 3px 1px rgba(0, 0, 0, 0.15);\n",
              "      filter: drop-shadow(0px 1px 2px rgba(0, 0, 0, 0.3));\n",
              "      fill: #FFFFFF;\n",
              "    }\n",
              "  </style>\n",
              "\n",
              "    <script>\n",
              "      const buttonEl =\n",
              "        document.querySelector('#df-a50d750d-5500-4cc3-947e-cbd8d331fd42 button.colab-df-convert');\n",
              "      buttonEl.style.display =\n",
              "        google.colab.kernel.accessAllowed ? 'block' : 'none';\n",
              "\n",
              "      async function convertToInteractive(key) {\n",
              "        const element = document.querySelector('#df-a50d750d-5500-4cc3-947e-cbd8d331fd42');\n",
              "        const dataTable =\n",
              "          await google.colab.kernel.invokeFunction('convertToInteractive',\n",
              "                                                    [key], {});\n",
              "        if (!dataTable) return;\n",
              "\n",
              "        const docLinkHtml = 'Like what you see? Visit the ' +\n",
              "          '<a target=\"_blank\" href=https://colab.research.google.com/notebooks/data_table.ipynb>data table notebook</a>'\n",
              "          + ' to learn more about interactive tables.';\n",
              "        element.innerHTML = '';\n",
              "        dataTable['output_type'] = 'display_data';\n",
              "        await google.colab.output.renderOutput(dataTable, element);\n",
              "        const docLink = document.createElement('div');\n",
              "        docLink.innerHTML = docLinkHtml;\n",
              "        element.appendChild(docLink);\n",
              "      }\n",
              "    </script>\n",
              "  </div>\n",
              "\n",
              "\n",
              "<div id=\"df-8fbd3f84-aac3-481b-875d-c612b31d02f8\">\n",
              "  <button class=\"colab-df-quickchart\" onclick=\"quickchart('df-8fbd3f84-aac3-481b-875d-c612b31d02f8')\"\n",
              "            title=\"Suggest charts.\"\n",
              "            style=\"display:none;\">\n",
              "\n",
              "<svg xmlns=\"http://www.w3.org/2000/svg\" height=\"24px\"viewBox=\"0 0 24 24\"\n",
              "     width=\"24px\">\n",
              "    <g>\n",
              "        <path d=\"M19 3H5c-1.1 0-2 .9-2 2v14c0 1.1.9 2 2 2h14c1.1 0 2-.9 2-2V5c0-1.1-.9-2-2-2zM9 17H7v-7h2v7zm4 0h-2V7h2v10zm4 0h-2v-4h2v4z\"/>\n",
              "    </g>\n",
              "</svg>\n",
              "  </button>\n",
              "\n",
              "<style>\n",
              "  .colab-df-quickchart {\n",
              "      --bg-color: #E8F0FE;\n",
              "      --fill-color: #1967D2;\n",
              "      --hover-bg-color: #E2EBFA;\n",
              "      --hover-fill-color: #174EA6;\n",
              "      --disabled-fill-color: #AAA;\n",
              "      --disabled-bg-color: #DDD;\n",
              "  }\n",
              "\n",
              "  [theme=dark] .colab-df-quickchart {\n",
              "      --bg-color: #3B4455;\n",
              "      --fill-color: #D2E3FC;\n",
              "      --hover-bg-color: #434B5C;\n",
              "      --hover-fill-color: #FFFFFF;\n",
              "      --disabled-bg-color: #3B4455;\n",
              "      --disabled-fill-color: #666;\n",
              "  }\n",
              "\n",
              "  .colab-df-quickchart {\n",
              "    background-color: var(--bg-color);\n",
              "    border: none;\n",
              "    border-radius: 50%;\n",
              "    cursor: pointer;\n",
              "    display: none;\n",
              "    fill: var(--fill-color);\n",
              "    height: 32px;\n",
              "    padding: 0;\n",
              "    width: 32px;\n",
              "  }\n",
              "\n",
              "  .colab-df-quickchart:hover {\n",
              "    background-color: var(--hover-bg-color);\n",
              "    box-shadow: 0 1px 2px rgba(60, 64, 67, 0.3), 0 1px 3px 1px rgba(60, 64, 67, 0.15);\n",
              "    fill: var(--button-hover-fill-color);\n",
              "  }\n",
              "\n",
              "  .colab-df-quickchart-complete:disabled,\n",
              "  .colab-df-quickchart-complete:disabled:hover {\n",
              "    background-color: var(--disabled-bg-color);\n",
              "    fill: var(--disabled-fill-color);\n",
              "    box-shadow: none;\n",
              "  }\n",
              "\n",
              "  .colab-df-spinner {\n",
              "    border: 2px solid var(--fill-color);\n",
              "    border-color: transparent;\n",
              "    border-bottom-color: var(--fill-color);\n",
              "    animation:\n",
              "      spin 1s steps(1) infinite;\n",
              "  }\n",
              "\n",
              "  @keyframes spin {\n",
              "    0% {\n",
              "      border-color: transparent;\n",
              "      border-bottom-color: var(--fill-color);\n",
              "      border-left-color: var(--fill-color);\n",
              "    }\n",
              "    20% {\n",
              "      border-color: transparent;\n",
              "      border-left-color: var(--fill-color);\n",
              "      border-top-color: var(--fill-color);\n",
              "    }\n",
              "    30% {\n",
              "      border-color: transparent;\n",
              "      border-left-color: var(--fill-color);\n",
              "      border-top-color: var(--fill-color);\n",
              "      border-right-color: var(--fill-color);\n",
              "    }\n",
              "    40% {\n",
              "      border-color: transparent;\n",
              "      border-right-color: var(--fill-color);\n",
              "      border-top-color: var(--fill-color);\n",
              "    }\n",
              "    60% {\n",
              "      border-color: transparent;\n",
              "      border-right-color: var(--fill-color);\n",
              "    }\n",
              "    80% {\n",
              "      border-color: transparent;\n",
              "      border-right-color: var(--fill-color);\n",
              "      border-bottom-color: var(--fill-color);\n",
              "    }\n",
              "    90% {\n",
              "      border-color: transparent;\n",
              "      border-bottom-color: var(--fill-color);\n",
              "    }\n",
              "  }\n",
              "</style>\n",
              "\n",
              "  <script>\n",
              "    async function quickchart(key) {\n",
              "      const quickchartButtonEl =\n",
              "        document.querySelector('#' + key + ' button');\n",
              "      quickchartButtonEl.disabled = true;  // To prevent multiple clicks.\n",
              "      quickchartButtonEl.classList.add('colab-df-spinner');\n",
              "      try {\n",
              "        const charts = await google.colab.kernel.invokeFunction(\n",
              "            'suggestCharts', [key], {});\n",
              "      } catch (error) {\n",
              "        console.error('Error during call to suggestCharts:', error);\n",
              "      }\n",
              "      quickchartButtonEl.classList.remove('colab-df-spinner');\n",
              "      quickchartButtonEl.classList.add('colab-df-quickchart-complete');\n",
              "    }\n",
              "    (() => {\n",
              "      let quickchartButtonEl =\n",
              "        document.querySelector('#df-8fbd3f84-aac3-481b-875d-c612b31d02f8 button');\n",
              "      quickchartButtonEl.style.display =\n",
              "        google.colab.kernel.accessAllowed ? 'block' : 'none';\n",
              "    })();\n",
              "  </script>\n",
              "</div>\n",
              "    </div>\n",
              "  </div>\n"
            ]
          },
          "metadata": {},
          "execution_count": 157
        }
      ]
    },
    {
      "cell_type": "code",
      "source": [
        "df.describe()"
      ],
      "metadata": {
        "colab": {
          "base_uri": "https://localhost:8080/",
          "height": 300
        },
        "id": "uSHrszm0pGq_",
        "outputId": "b7b00ed4-da31-42f3-9bb1-d96a6ebe6140"
      },
      "execution_count": null,
      "outputs": [
        {
          "output_type": "execute_result",
          "data": {
            "text/plain": [
              "            Entropy\n",
              "count  9.300000e+01\n",
              "mean   5.466905e+00\n",
              "std    3.246212e+00\n",
              "min   -3.203427e-16\n",
              "25%    3.169925e+00\n",
              "50%    7.098865e+00\n",
              "75%    7.796561e+00\n",
              "max    8.811614e+00"
            ],
            "text/html": [
              "\n",
              "  <div id=\"df-46087e23-38fd-44ef-900c-6ca3c1089eb0\" class=\"colab-df-container\">\n",
              "    <div>\n",
              "<style scoped>\n",
              "    .dataframe tbody tr th:only-of-type {\n",
              "        vertical-align: middle;\n",
              "    }\n",
              "\n",
              "    .dataframe tbody tr th {\n",
              "        vertical-align: top;\n",
              "    }\n",
              "\n",
              "    .dataframe thead th {\n",
              "        text-align: right;\n",
              "    }\n",
              "</style>\n",
              "<table border=\"1\" class=\"dataframe\">\n",
              "  <thead>\n",
              "    <tr style=\"text-align: right;\">\n",
              "      <th></th>\n",
              "      <th>Entropy</th>\n",
              "    </tr>\n",
              "  </thead>\n",
              "  <tbody>\n",
              "    <tr>\n",
              "      <th>count</th>\n",
              "      <td>9.300000e+01</td>\n",
              "    </tr>\n",
              "    <tr>\n",
              "      <th>mean</th>\n",
              "      <td>5.466905e+00</td>\n",
              "    </tr>\n",
              "    <tr>\n",
              "      <th>std</th>\n",
              "      <td>3.246212e+00</td>\n",
              "    </tr>\n",
              "    <tr>\n",
              "      <th>min</th>\n",
              "      <td>-3.203427e-16</td>\n",
              "    </tr>\n",
              "    <tr>\n",
              "      <th>25%</th>\n",
              "      <td>3.169925e+00</td>\n",
              "    </tr>\n",
              "    <tr>\n",
              "      <th>50%</th>\n",
              "      <td>7.098865e+00</td>\n",
              "    </tr>\n",
              "    <tr>\n",
              "      <th>75%</th>\n",
              "      <td>7.796561e+00</td>\n",
              "    </tr>\n",
              "    <tr>\n",
              "      <th>max</th>\n",
              "      <td>8.811614e+00</td>\n",
              "    </tr>\n",
              "  </tbody>\n",
              "</table>\n",
              "</div>\n",
              "    <div class=\"colab-df-buttons\">\n",
              "\n",
              "  <div class=\"colab-df-container\">\n",
              "    <button class=\"colab-df-convert\" onclick=\"convertToInteractive('df-46087e23-38fd-44ef-900c-6ca3c1089eb0')\"\n",
              "            title=\"Convert this dataframe to an interactive table.\"\n",
              "            style=\"display:none;\">\n",
              "\n",
              "  <svg xmlns=\"http://www.w3.org/2000/svg\" height=\"24px\" viewBox=\"0 -960 960 960\">\n",
              "    <path d=\"M120-120v-720h720v720H120Zm60-500h600v-160H180v160Zm220 220h160v-160H400v160Zm0 220h160v-160H400v160ZM180-400h160v-160H180v160Zm440 0h160v-160H620v160ZM180-180h160v-160H180v160Zm440 0h160v-160H620v160Z\"/>\n",
              "  </svg>\n",
              "    </button>\n",
              "\n",
              "  <style>\n",
              "    .colab-df-container {\n",
              "      display:flex;\n",
              "      gap: 12px;\n",
              "    }\n",
              "\n",
              "    .colab-df-convert {\n",
              "      background-color: #E8F0FE;\n",
              "      border: none;\n",
              "      border-radius: 50%;\n",
              "      cursor: pointer;\n",
              "      display: none;\n",
              "      fill: #1967D2;\n",
              "      height: 32px;\n",
              "      padding: 0 0 0 0;\n",
              "      width: 32px;\n",
              "    }\n",
              "\n",
              "    .colab-df-convert:hover {\n",
              "      background-color: #E2EBFA;\n",
              "      box-shadow: 0px 1px 2px rgba(60, 64, 67, 0.3), 0px 1px 3px 1px rgba(60, 64, 67, 0.15);\n",
              "      fill: #174EA6;\n",
              "    }\n",
              "\n",
              "    .colab-df-buttons div {\n",
              "      margin-bottom: 4px;\n",
              "    }\n",
              "\n",
              "    [theme=dark] .colab-df-convert {\n",
              "      background-color: #3B4455;\n",
              "      fill: #D2E3FC;\n",
              "    }\n",
              "\n",
              "    [theme=dark] .colab-df-convert:hover {\n",
              "      background-color: #434B5C;\n",
              "      box-shadow: 0px 1px 3px 1px rgba(0, 0, 0, 0.15);\n",
              "      filter: drop-shadow(0px 1px 2px rgba(0, 0, 0, 0.3));\n",
              "      fill: #FFFFFF;\n",
              "    }\n",
              "  </style>\n",
              "\n",
              "    <script>\n",
              "      const buttonEl =\n",
              "        document.querySelector('#df-46087e23-38fd-44ef-900c-6ca3c1089eb0 button.colab-df-convert');\n",
              "      buttonEl.style.display =\n",
              "        google.colab.kernel.accessAllowed ? 'block' : 'none';\n",
              "\n",
              "      async function convertToInteractive(key) {\n",
              "        const element = document.querySelector('#df-46087e23-38fd-44ef-900c-6ca3c1089eb0');\n",
              "        const dataTable =\n",
              "          await google.colab.kernel.invokeFunction('convertToInteractive',\n",
              "                                                    [key], {});\n",
              "        if (!dataTable) return;\n",
              "\n",
              "        const docLinkHtml = 'Like what you see? Visit the ' +\n",
              "          '<a target=\"_blank\" href=https://colab.research.google.com/notebooks/data_table.ipynb>data table notebook</a>'\n",
              "          + ' to learn more about interactive tables.';\n",
              "        element.innerHTML = '';\n",
              "        dataTable['output_type'] = 'display_data';\n",
              "        await google.colab.output.renderOutput(dataTable, element);\n",
              "        const docLink = document.createElement('div');\n",
              "        docLink.innerHTML = docLinkHtml;\n",
              "        element.appendChild(docLink);\n",
              "      }\n",
              "    </script>\n",
              "  </div>\n",
              "\n",
              "\n",
              "<div id=\"df-06fd6df2-4fec-488d-bde0-a0ac72f16631\">\n",
              "  <button class=\"colab-df-quickchart\" onclick=\"quickchart('df-06fd6df2-4fec-488d-bde0-a0ac72f16631')\"\n",
              "            title=\"Suggest charts.\"\n",
              "            style=\"display:none;\">\n",
              "\n",
              "<svg xmlns=\"http://www.w3.org/2000/svg\" height=\"24px\"viewBox=\"0 0 24 24\"\n",
              "     width=\"24px\">\n",
              "    <g>\n",
              "        <path d=\"M19 3H5c-1.1 0-2 .9-2 2v14c0 1.1.9 2 2 2h14c1.1 0 2-.9 2-2V5c0-1.1-.9-2-2-2zM9 17H7v-7h2v7zm4 0h-2V7h2v10zm4 0h-2v-4h2v4z\"/>\n",
              "    </g>\n",
              "</svg>\n",
              "  </button>\n",
              "\n",
              "<style>\n",
              "  .colab-df-quickchart {\n",
              "      --bg-color: #E8F0FE;\n",
              "      --fill-color: #1967D2;\n",
              "      --hover-bg-color: #E2EBFA;\n",
              "      --hover-fill-color: #174EA6;\n",
              "      --disabled-fill-color: #AAA;\n",
              "      --disabled-bg-color: #DDD;\n",
              "  }\n",
              "\n",
              "  [theme=dark] .colab-df-quickchart {\n",
              "      --bg-color: #3B4455;\n",
              "      --fill-color: #D2E3FC;\n",
              "      --hover-bg-color: #434B5C;\n",
              "      --hover-fill-color: #FFFFFF;\n",
              "      --disabled-bg-color: #3B4455;\n",
              "      --disabled-fill-color: #666;\n",
              "  }\n",
              "\n",
              "  .colab-df-quickchart {\n",
              "    background-color: var(--bg-color);\n",
              "    border: none;\n",
              "    border-radius: 50%;\n",
              "    cursor: pointer;\n",
              "    display: none;\n",
              "    fill: var(--fill-color);\n",
              "    height: 32px;\n",
              "    padding: 0;\n",
              "    width: 32px;\n",
              "  }\n",
              "\n",
              "  .colab-df-quickchart:hover {\n",
              "    background-color: var(--hover-bg-color);\n",
              "    box-shadow: 0 1px 2px rgba(60, 64, 67, 0.3), 0 1px 3px 1px rgba(60, 64, 67, 0.15);\n",
              "    fill: var(--button-hover-fill-color);\n",
              "  }\n",
              "\n",
              "  .colab-df-quickchart-complete:disabled,\n",
              "  .colab-df-quickchart-complete:disabled:hover {\n",
              "    background-color: var(--disabled-bg-color);\n",
              "    fill: var(--disabled-fill-color);\n",
              "    box-shadow: none;\n",
              "  }\n",
              "\n",
              "  .colab-df-spinner {\n",
              "    border: 2px solid var(--fill-color);\n",
              "    border-color: transparent;\n",
              "    border-bottom-color: var(--fill-color);\n",
              "    animation:\n",
              "      spin 1s steps(1) infinite;\n",
              "  }\n",
              "\n",
              "  @keyframes spin {\n",
              "    0% {\n",
              "      border-color: transparent;\n",
              "      border-bottom-color: var(--fill-color);\n",
              "      border-left-color: var(--fill-color);\n",
              "    }\n",
              "    20% {\n",
              "      border-color: transparent;\n",
              "      border-left-color: var(--fill-color);\n",
              "      border-top-color: var(--fill-color);\n",
              "    }\n",
              "    30% {\n",
              "      border-color: transparent;\n",
              "      border-left-color: var(--fill-color);\n",
              "      border-top-color: var(--fill-color);\n",
              "      border-right-color: var(--fill-color);\n",
              "    }\n",
              "    40% {\n",
              "      border-color: transparent;\n",
              "      border-right-color: var(--fill-color);\n",
              "      border-top-color: var(--fill-color);\n",
              "    }\n",
              "    60% {\n",
              "      border-color: transparent;\n",
              "      border-right-color: var(--fill-color);\n",
              "    }\n",
              "    80% {\n",
              "      border-color: transparent;\n",
              "      border-right-color: var(--fill-color);\n",
              "      border-bottom-color: var(--fill-color);\n",
              "    }\n",
              "    90% {\n",
              "      border-color: transparent;\n",
              "      border-bottom-color: var(--fill-color);\n",
              "    }\n",
              "  }\n",
              "</style>\n",
              "\n",
              "  <script>\n",
              "    async function quickchart(key) {\n",
              "      const quickchartButtonEl =\n",
              "        document.querySelector('#' + key + ' button');\n",
              "      quickchartButtonEl.disabled = true;  // To prevent multiple clicks.\n",
              "      quickchartButtonEl.classList.add('colab-df-spinner');\n",
              "      try {\n",
              "        const charts = await google.colab.kernel.invokeFunction(\n",
              "            'suggestCharts', [key], {});\n",
              "      } catch (error) {\n",
              "        console.error('Error during call to suggestCharts:', error);\n",
              "      }\n",
              "      quickchartButtonEl.classList.remove('colab-df-spinner');\n",
              "      quickchartButtonEl.classList.add('colab-df-quickchart-complete');\n",
              "    }\n",
              "    (() => {\n",
              "      let quickchartButtonEl =\n",
              "        document.querySelector('#df-06fd6df2-4fec-488d-bde0-a0ac72f16631 button');\n",
              "      quickchartButtonEl.style.display =\n",
              "        google.colab.kernel.accessAllowed ? 'block' : 'none';\n",
              "    })();\n",
              "  </script>\n",
              "</div>\n",
              "    </div>\n",
              "  </div>\n"
            ]
          },
          "metadata": {},
          "execution_count": 156
        }
      ]
    },
    {
      "cell_type": "markdown",
      "metadata": {
        "id": "uTJ1D4rOyzqd"
      },
      "source": [
        "# Transfer to GCP bucket"
      ]
    },
    {
      "cell_type": "code",
      "execution_count": null,
      "metadata": {
        "colab": {
          "base_uri": "https://localhost:8080/"
        },
        "id": "biicFnC2y0Ln",
        "outputId": "2e62ece5-8b5e-4541-da6e-eb4298359985"
      },
      "outputs": [
        {
          "name": "stdout",
          "output_type": "stream",
          "text": [
            "Updated property [core/project].\n",
            "gs://colombia_sebasmos/\n",
            "gs://dsrestrepo/\n",
            "gs://mit-hst-dengue/\n"
          ]
        }
      ],
      "source": [
        "from google.colab import auth\n",
        "auth.authenticate_user()\n",
        "\n",
        "project_id = 'mit-hst-dengue'\n",
        "!gcloud config set project {project_id}\n",
        "!gsutil ls"
      ]
    },
    {
      "cell_type": "code",
      "execution_count": null,
      "metadata": {
        "id": "o_-q_MxZy6AM"
      },
      "outputs": [],
      "source": [
        "bucket_name = 'colombia_sebasmos'\n",
        "\n",
        "!gsutil -m cp -r /content/drive/MyDrive/Dengue_prediction/Codes_download_data_sentinel/satellite.extractor/DATASET_5_best_cities/ gs://{bucket_name}/"
      ]
    },
    {
      "cell_type": "code",
      "execution_count": null,
      "metadata": {
        "id": "tHidFiNCCqie"
      },
      "outputs": [],
      "source": [
        "def plot_image(image, factor=1.0, clip_range = None, **kwargs):\n",
        "    \"\"\"\n",
        "    Utility function for plotting RGB images.\n",
        "    \"\"\"\n",
        "    fig, ax = plt.subplots(nrows=1, ncols=1, figsize=(15, 15))\n",
        "    if clip_range is not None:\n",
        "        ax.imshow(np.clip(image * factor, *clip_range), **kwargs)\n",
        "    else:\n",
        "        ax.imshow(image * factor, **kwargs)\n",
        "    ax.set_xticks([])\n",
        "    ax.set_yticks([])\n"
      ]
    },
    {
      "cell_type": "code",
      "execution_count": null,
      "metadata": {
        "colab": {
          "base_uri": "https://localhost:8080/"
        },
        "id": "8cJNgED0Cq9S",
        "outputId": "84889ba4-a90f-43ee-e25c-6b5c926fb917"
      },
      "outputs": [
        {
          "data": {
            "text/plain": [
              "['./DATASET/Ibagué/image_2015-11-01.tiff',\n",
              " './DATASET/Ibagué/image_2015-11-08.tiff',\n",
              " './DATASET/Ibagué/image_2015-11-15.tiff',\n",
              " './DATASET/Ibagué/image_2015-11-22.tiff',\n",
              " './DATASET/Ibagué/image_2015-11-29.tiff',\n",
              " './DATASET/Ibagué/image_2015-12-06.tiff',\n",
              " './DATASET/Ibagué/image_2015-12-13.tiff',\n",
              " './DATASET/Ibagué/image_2015-12-20.tiff',\n",
              " './DATASET/Ibagué/image_2015-12-27.tiff',\n",
              " './DATASET/Ibagué/image_2016-01-03.tiff',\n",
              " './DATASET/Ibagué/image_2016-01-10.tiff',\n",
              " './DATASET/Ibagué/image_2016-01-17.tiff',\n",
              " './DATASET/Ibagué/image_2016-01-24.tiff',\n",
              " './DATASET/Ibagué/image_2016-01-31.tiff',\n",
              " './DATASET/Ibagué/image_2016-02-07.tiff',\n",
              " './DATASET/Ibagué/image_2016-02-14.tiff',\n",
              " './DATASET/Ibagué/image_2016-02-21.tiff',\n",
              " './DATASET/Ibagué/image_2016-02-28.tiff',\n",
              " './DATASET/Ibagué/image_2016-03-06.tiff',\n",
              " './DATASET/Ibagué/image_2016-03-13.tiff',\n",
              " './DATASET/Ibagué/image_2016-03-20.tiff',\n",
              " './DATASET/Ibagué/image_2016-03-27.tiff',\n",
              " './DATASET/Ibagué/image_2016-04-03.tiff',\n",
              " './DATASET/Ibagué/image_2016-04-10.tiff',\n",
              " './DATASET/Ibagué/image_2016-04-17.tiff',\n",
              " './DATASET/Ibagué/image_2016-04-24.tiff',\n",
              " './DATASET/Ibagué/image_2016-05-01.tiff',\n",
              " './DATASET/Ibagué/image_2016-05-08.tiff',\n",
              " './DATASET/Ibagué/image_2016-05-15.tiff',\n",
              " './DATASET/Ibagué/image_2016-05-22.tiff',\n",
              " './DATASET/Ibagué/image_2016-05-29.tiff',\n",
              " './DATASET/Ibagué/image_2016-06-05.tiff',\n",
              " './DATASET/Ibagué/image_2016-06-12.tiff',\n",
              " './DATASET/Ibagué/image_2016-06-19.tiff',\n",
              " './DATASET/Ibagué/image_2016-06-26.tiff',\n",
              " './DATASET/Ibagué/image_2016-07-03.tiff',\n",
              " './DATASET/Ibagué/image_2016-07-10.tiff',\n",
              " './DATASET/Ibagué/image_2016-07-17.tiff',\n",
              " './DATASET/Ibagué/image_2016-07-24.tiff',\n",
              " './DATASET/Ibagué/image_2016-07-31.tiff',\n",
              " './DATASET/Ibagué/image_2016-08-07.tiff',\n",
              " './DATASET/Ibagué/image_2016-08-14.tiff',\n",
              " './DATASET/Ibagué/image_2016-08-21.tiff',\n",
              " './DATASET/Ibagué/image_2016-08-28.tiff',\n",
              " './DATASET/Ibagué/image_2016-09-04.tiff',\n",
              " './DATASET/Ibagué/image_2016-09-11.tiff',\n",
              " './DATASET/Ibagué/image_2016-09-18.tiff',\n",
              " './DATASET/Ibagué/image_2016-09-25.tiff',\n",
              " './DATASET/Ibagué/image_2016-10-02.tiff',\n",
              " './DATASET/Ibagué/image_2016-10-09.tiff',\n",
              " './DATASET/Ibagué/image_2016-10-16.tiff',\n",
              " './DATASET/Ibagué/image_2016-10-23.tiff',\n",
              " './DATASET/Ibagué/image_2016-10-30.tiff',\n",
              " './DATASET/Ibagué/image_2016-11-06.tiff',\n",
              " './DATASET/Ibagué/image_2016-11-13.tiff',\n",
              " './DATASET/Ibagué/image_2016-11-20.tiff',\n",
              " './DATASET/Ibagué/image_2016-11-27.tiff',\n",
              " './DATASET/Ibagué/image_2016-12-04.tiff',\n",
              " './DATASET/Ibagué/image_2016-12-11.tiff',\n",
              " './DATASET/Ibagué/image_2016-12-18.tiff',\n",
              " './DATASET/Ibagué/image_2016-12-25.tiff',\n",
              " './DATASET/Ibagué/image_2017-01-01.tiff',\n",
              " './DATASET/Ibagué/image_2017-01-08.tiff',\n",
              " './DATASET/Ibagué/image_2017-01-15.tiff',\n",
              " './DATASET/Ibagué/image_2017-01-22.tiff',\n",
              " './DATASET/Ibagué/image_2017-01-29.tiff',\n",
              " './DATASET/Ibagué/image_2017-02-05.tiff',\n",
              " './DATASET/Ibagué/image_2017-02-12.tiff',\n",
              " './DATASET/Ibagué/image_2017-02-19.tiff',\n",
              " './DATASET/Ibagué/image_2017-02-26.tiff',\n",
              " './DATASET/Ibagué/image_2017-03-05.tiff',\n",
              " './DATASET/Ibagué/image_2017-03-12.tiff',\n",
              " './DATASET/Ibagué/image_2017-03-19.tiff',\n",
              " './DATASET/Ibagué/image_2017-03-26.tiff',\n",
              " './DATASET/Ibagué/image_2017-04-02.tiff',\n",
              " './DATASET/Ibagué/image_2017-04-09.tiff',\n",
              " './DATASET/Ibagué/image_2017-04-16.tiff',\n",
              " './DATASET/Ibagué/image_2017-04-23.tiff',\n",
              " './DATASET/Ibagué/image_2017-04-30.tiff',\n",
              " './DATASET/Ibagué/image_2017-05-07.tiff',\n",
              " './DATASET/Ibagué/image_2017-05-14.tiff',\n",
              " './DATASET/Ibagué/image_2017-05-21.tiff',\n",
              " './DATASET/Ibagué/image_2017-05-28.tiff',\n",
              " './DATASET/Ibagué/image_2017-06-04.tiff',\n",
              " './DATASET/Ibagué/image_2017-06-11.tiff',\n",
              " './DATASET/Ibagué/image_2017-06-18.tiff',\n",
              " './DATASET/Ibagué/image_2017-06-25.tiff',\n",
              " './DATASET/Ibagué/image_2017-07-02.tiff',\n",
              " './DATASET/Ibagué/image_2017-07-09.tiff',\n",
              " './DATASET/Ibagué/image_2017-07-16.tiff',\n",
              " './DATASET/Ibagué/image_2017-07-23.tiff',\n",
              " './DATASET/Ibagué/image_2017-07-30.tiff',\n",
              " './DATASET/Ibagué/image_2017-08-06.tiff',\n",
              " './DATASET/Ibagué/image_2017-08-13.tiff',\n",
              " './DATASET/Ibagué/image_2017-08-20.tiff',\n",
              " './DATASET/Ibagué/image_2017-08-27.tiff',\n",
              " './DATASET/Ibagué/image_2017-09-03.tiff',\n",
              " './DATASET/Ibagué/image_2017-09-10.tiff',\n",
              " './DATASET/Ibagué/image_2017-09-17.tiff',\n",
              " './DATASET/Ibagué/image_2017-09-24.tiff',\n",
              " './DATASET/Ibagué/image_2017-10-01.tiff',\n",
              " './DATASET/Ibagué/image_2017-10-08.tiff',\n",
              " './DATASET/Ibagué/image_2017-10-15.tiff',\n",
              " './DATASET/Ibagué/image_2017-10-22.tiff',\n",
              " './DATASET/Ibagué/image_2017-10-29.tiff',\n",
              " './DATASET/Ibagué/image_2017-11-05.tiff',\n",
              " './DATASET/Ibagué/image_2017-11-12.tiff',\n",
              " './DATASET/Ibagué/image_2017-11-19.tiff',\n",
              " './DATASET/Ibagué/image_2017-11-26.tiff',\n",
              " './DATASET/Ibagué/image_2017-12-03.tiff',\n",
              " './DATASET/Ibagué/image_2017-12-10.tiff',\n",
              " './DATASET/Ibagué/image_2017-12-17.tiff',\n",
              " './DATASET/Ibagué/image_2017-12-24.tiff',\n",
              " './DATASET/Ibagué/image_2017-12-31.tiff',\n",
              " './DATASET/Ibagué/image_2018-01-07.tiff',\n",
              " './DATASET/Ibagué/image_2018-01-14.tiff',\n",
              " './DATASET/Ibagué/image_2018-01-21.tiff',\n",
              " './DATASET/Ibagué/image_2018-01-28.tiff',\n",
              " './DATASET/Ibagué/image_2018-02-04.tiff',\n",
              " './DATASET/Ibagué/image_2018-02-11.tiff',\n",
              " './DATASET/Ibagué/image_2018-02-18.tiff',\n",
              " './DATASET/Ibagué/image_2018-02-25.tiff',\n",
              " './DATASET/Ibagué/image_2018-03-04.tiff',\n",
              " './DATASET/Ibagué/image_2018-03-11.tiff',\n",
              " './DATASET/Ibagué/image_2018-03-18.tiff',\n",
              " './DATASET/Ibagué/image_2018-03-25.tiff',\n",
              " './DATASET/Ibagué/image_2018-04-01.tiff',\n",
              " './DATASET/Ibagué/image_2018-04-08.tiff',\n",
              " './DATASET/Ibagué/image_2018-04-15.tiff',\n",
              " './DATASET/Ibagué/image_2018-04-22.tiff',\n",
              " './DATASET/Ibagué/image_2018-04-29.tiff',\n",
              " './DATASET/Ibagué/image_2018-05-06.tiff',\n",
              " './DATASET/Ibagué/image_2018-05-13.tiff',\n",
              " './DATASET/Ibagué/image_2018-05-20.tiff',\n",
              " './DATASET/Ibagué/image_2018-05-27.tiff',\n",
              " './DATASET/Ibagué/image_2018-06-03.tiff',\n",
              " './DATASET/Ibagué/image_2018-06-10.tiff',\n",
              " './DATASET/Ibagué/image_2018-06-17.tiff',\n",
              " './DATASET/Ibagué/image_2018-06-24.tiff',\n",
              " './DATASET/Ibagué/image_2018-07-01.tiff',\n",
              " './DATASET/Ibagué/image_2018-07-08.tiff',\n",
              " './DATASET/Ibagué/image_2018-07-15.tiff',\n",
              " './DATASET/Ibagué/image_2018-07-22.tiff',\n",
              " './DATASET/Ibagué/image_2018-07-29.tiff',\n",
              " './DATASET/Ibagué/image_2018-08-05.tiff',\n",
              " './DATASET/Ibagué/image_2018-08-12.tiff',\n",
              " './DATASET/Ibagué/image_2018-08-19.tiff',\n",
              " './DATASET/Ibagué/image_2018-08-26.tiff',\n",
              " './DATASET/Ibagué/image_2018-09-02.tiff',\n",
              " './DATASET/Ibagué/image_2018-09-09.tiff',\n",
              " './DATASET/Ibagué/image_2018-09-16.tiff',\n",
              " './DATASET/Ibagué/image_2018-09-23.tiff',\n",
              " './DATASET/Ibagué/image_2018-09-30.tiff',\n",
              " './DATASET/Ibagué/image_2018-10-07.tiff',\n",
              " './DATASET/Ibagué/image_2018-10-14.tiff',\n",
              " './DATASET/Ibagué/image_2018-10-21.tiff',\n",
              " './DATASET/Ibagué/image_2018-10-28.tiff',\n",
              " './DATASET/Ibagué/image_2018-11-04.tiff',\n",
              " './DATASET/Ibagué/image_2018-11-11.tiff',\n",
              " './DATASET/Ibagué/image_2018-11-18.tiff',\n",
              " './DATASET/Ibagué/image_2018-11-25.tiff',\n",
              " './DATASET/Ibagué/image_2018-12-02.tiff',\n",
              " './DATASET/Ibagué/image_2018-12-09.tiff',\n",
              " './DATASET/Ibagué/image_2018-12-16.tiff',\n",
              " './DATASET/Ibagué/image_2018-12-23.tiff']"
            ]
          },
          "execution_count": 26,
          "metadata": {},
          "output_type": "execute_result"
        }
      ],
      "source": [
        "images"
      ]
    },
    {
      "cell_type": "code",
      "execution_count": null,
      "metadata": {
        "id": "smkka6k3DA9L"
      },
      "outputs": [],
      "source": [
        "from skimage import io\n",
        "import numpy as np\n",
        "import cv2\n",
        "\n",
        "ncols = 4\n",
        "nrows = 3\n",
        "\n",
        "aspect_ratio = 1#coordinates_size[0] / coordinates_size[1]\n",
        "subplot_kw = {'xticks': [], 'yticks': [], 'frame_on': False}\n",
        "\n",
        "fig, axs = plt.subplots(ncols=ncols, nrows=nrows, figsize=(5 * ncols * aspect_ratio, 5 * nrows),\n",
        "                            subplot_kw=subplot_kw)\n",
        "\n",
        "for idx, path in enumerate(images):\n",
        "        ax = axs[idx // ncols][idx % ncols]\n",
        "        image = io.imread(path)\n",
        "        image = np.array(image)\n",
        "        image = image[:,:,1:4]\n",
        "        ax.imshow(np.clip(image * 2.5/255, 0, 1))\n",
        "\n",
        "plt.tight_layout()\n",
        "\n",
        "\n",
        "\n",
        "# Move to structured folder in DATASETS\n",
        "root_images_store = \".\" + root_images\n",
        "dataset_store = \"./\" + city_str\n",
        "for root, dirs, files in os.walk(root_images_store, topdown=True):\n",
        "        for name in files:\n",
        "          path = os.path.join(root, name)\n",
        "          #print(path)\n",
        "          if img_format in path and not dataset_store in path:\n",
        "              shutil.copy(path, dataset_store)\n",
        "\n",
        "images = glob.glob(dataset_store+\"/*\")"
      ]
    }
  ],
  "metadata": {
    "colab": {
      "provenance": [],
      "gpuType": "T4"
    },
    "kernelspec": {
      "display_name": "Python 3",
      "name": "python3"
    },
    "language_info": {
      "codemirror_mode": {
        "name": "ipython",
        "version": 3
      },
      "file_extension": ".py",
      "mimetype": "text/x-python",
      "name": "python",
      "nbconvert_exporter": "python",
      "pygments_lexer": "ipython3",
      "version": "3.7.0"
    },
    "vscode": {
      "interpreter": {
        "hash": "916dbcbb3f70747c44a77c7bcd40155683ae19c65e1c03b4aa3499c5328201f1"
      }
    },
    "accelerator": "GPU"
  },
  "nbformat": 4,
  "nbformat_minor": 0
}