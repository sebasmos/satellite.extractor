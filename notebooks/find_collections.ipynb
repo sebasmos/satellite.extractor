{
 "cells": [
  {
   "cell_type": "code",
   "execution_count": null,
   "metadata": {},
   "outputs": [],
   "source": [
    "from sentinelhub import SHConfig\n",
    "\n",
    "\n",
    "config = SHConfig()\n",
    "\n",
    "if not config.sh_client_id or not config.sh_client_secret:\n",
    "    print(\"Warning! To use Process API, please provide the credentials (OAuth client ID and client secret).\")"
   ]
  },
  {
   "cell_type": "code",
   "execution_count": null,
   "metadata": {},
   "outputs": [],
   "source": [
    "import datetime\n",
    "import os\n",
    "\n",
    "import matplotlib.pyplot as plt\n",
    "import numpy as np\n",
    "import sys\n",
    "sys.path.insert(0, \"../\")\n",
    "from sentinelhub import (\n",
    "    CRS,\n",
    "    BBox,\n",
    "    DataCollection,\n",
    "    DownloadRequest,\n",
    "    MimeType,\n",
    "    MosaickingOrder,\n",
    "    SentinelHubDownloadClient,\n",
    "    SentinelHubRequest,\n",
    "    bbox_to_dimensions,\n",
    ")"
   ]
  },
  {
   "cell_type": "code",
   "execution_count": null,
   "metadata": {},
   "outputs": [],
   "source": [
    "\n",
    "def plot_image(image, factor=1.0, clip_range = None, **kwargs):\n",
    "    \"\"\"\n",
    "    Utility function for plotting RGB images.\n",
    "    \"\"\"\n",
    "    fig, ax = plt.subplots(nrows=1, ncols=1, figsize=(15, 15))\n",
    "    if clip_range is not None:\n",
    "        ax.imshow(np.clip(image * factor, *clip_range), **kwargs)\n",
    "    else:\n",
    "        ax.imshow(image * factor, **kwargs)\n",
    "    ax.set_xticks([])\n",
    "    ax.set_yticks([])\n",
    "    "
   ]
  },
  {
   "cell_type": "code",
   "execution_count": null,
   "metadata": {},
   "outputs": [],
   "source": [
    "for collection in DataCollection.get_available_collections():\n",
    "    print(collection)"
   ]
  },
  {
   "cell_type": "code",
   "execution_count": null,
   "metadata": {},
   "outputs": [],
   "source": [
    "DataCollection.SENTINEL2_L2A"
   ]
  },
  {
   "cell_type": "code",
   "execution_count": null,
   "metadata": {},
   "outputs": [],
   "source": [
    "from sentinelhub import CRS, BBox, MimeType, SentinelHubRequest, SHConfig\n",
    "\n",
    "# Write your credentials here if you haven't already put them into config.json\n",
    "CLIENT_ID = \"3e3d8a02-bc7c-4f26-aafc-4346b0a9fa6a\"\n",
    "CLIENT_SECRET = \"]uzkyAAfyI{1H_(&Y?M8-tvQ,Rlhoz.;m8l6{}>h\"\n",
    "\n",
    "config = SHConfig()\n",
    "if CLIENT_ID and CLIENT_SECRET:\n",
    "    config.sh_client_id = CLIENT_ID\n",
    "    config.sh_client_secret = CLIENT_SECRET\n",
    "\n",
    "\n",
    "# Columbia Glacier, Alaska\n",
    "glacier_bbox = BBox([-147.8, 60.96, -146.5, 61.38], crs=CRS.WGS84)\n",
    "glacier_size = (700, 466)\n",
    "time_interval = \"2020-07-15\", \"2020-07-16\"\n",
    "\n",
    "evalscript_true_color = \"\"\"\n",
    "//VERSION=3\n",
    "\n",
    "function setup() {\n",
    "    return {\n",
    "        input: [{\n",
    "            bands: [\"B02\", \"B03\", \"B04\"]\n",
    "        }],\n",
    "        output: {\n",
    "            bands: 3\n",
    "        }\n",
    "    };\n",
    "}\n",
    "\n",
    "function evaluatePixel(sample) {\n",
    "    return [sample.B04, sample.B03, sample.B02];\n",
    "}\n",
    "\"\"\"\n",
    "\n",
    "request = SentinelHubRequest(\n",
    "    evalscript=evalscript_true_color,\n",
    "    input_data=[\n",
    "        SentinelHubRequest.input_data(\n",
    "            data_collection=DataCollection.SENTINEL2_L2A,\n",
    "            time_interval=time_interval,\n",
    "        )\n",
    "    ],\n",
    "    responses=[SentinelHubRequest.output_response(\"default\", MimeType.PNG)],\n",
    "    bbox=glacier_bbox,\n",
    "    size=glacier_size,\n",
    "    config=config,\n",
    ")\n",
    "\n",
    "image = request.get_data()[0]"
   ]
  },
  {
   "cell_type": "code",
   "execution_count": null,
   "metadata": {},
   "outputs": [],
   "source": [
    "%matplotlib inline\n",
    "\n",
    "plot_image(image, factor=3.5 / 255, clip_range=(0, 1))"
   ]
  },
  {
   "cell_type": "code",
   "execution_count": null,
   "metadata": {},
   "outputs": [],
   "source": [
    "DataCollection.SENTINEL1_IW_ASC"
   ]
  },
  {
   "cell_type": "code",
   "execution_count": null,
   "metadata": {},
   "outputs": [],
   "source": [
    "evalscript = \"\"\"\n",
    "//VERSION=3\n",
    "\n",
    "return [VV, 2 * VH, VV / VH / 100.0, dataMask]\n",
    "\"\"\"\n",
    "\n",
    "time_interval = \"2020-07-06\", \"2020-07-07\"\n",
    "\n",
    "request = SentinelHubRequest(\n",
    "    evalscript=evalscript,\n",
    "    input_data=[\n",
    "        SentinelHubRequest.input_data(\n",
    "            data_collection=DataCollection.SENTINEL1_IW_ASC,\n",
    "            time_interval=time_interval,\n",
    "        )\n",
    "    ],\n",
    "    responses=[SentinelHubRequest.output_response(\"default\", MimeType.PNG)],\n",
    "    bbox=glacier_bbox,\n",
    "    size=glacier_size,\n",
    "    config=config,\n",
    ")\n",
    "\n",
    "image = request.get_data()[0]\n",
    "\n",
    "plot_image(image, factor=3.5 / 255, clip_range=(0, 1))"
   ]
  },
  {
   "cell_type": "markdown",
   "metadata": {},
   "source": [
    "## Data fusion"
   ]
  },
  {
   "cell_type": "code",
   "execution_count": null,
   "metadata": {},
   "outputs": [],
   "source": [
    "evalscript = \"\"\"\n",
    "//VERSION=3\n",
    "function setup() {\n",
    "  return {\n",
    "    input: [{\n",
    "        datasource: \"ls8\",\n",
    "        bands: [\"B02\", \"B03\", \"B04\", \"B05\", \"B08\"]\n",
    "      },\n",
    "      {\n",
    "        datasource: \"l2a\",\n",
    "        bands: [\"B02\", \"B03\", \"B04\", \"B08\", \"B11\"]\n",
    "      }\n",
    "    ],\n",
    "    output: [{\n",
    "      bands: 3\n",
    "    }]\n",
    "  }\n",
    "}\n",
    "let minVal = 0.0\n",
    "let maxVal = 0.4\n",
    "let viz = new DefaultVisualizer(minVal, maxVal)\n",
    "\n",
    "function evaluatePixel(samples, inputData, inputMetadata, customData, outputMetadata) {\n",
    "  var sample = samples.ls8[0]\n",
    "  var sample2 = samples.l2a[0]\n",
    "  // Use weighted arithmetic average of S2.B02 - S2.B04 for pan-sharpening\n",
    "  let sudoPanW3 = (sample.B04 + sample.B03 + sample.B02) / 3\n",
    "  let s2PanR3 = (sample2.B04 + sample2.B03 + sample2.B02) / 3\n",
    "  let s2ratioWR3 = s2PanR3 / sudoPanW3\n",
    "  let val = [sample.B04 * s2ratioWR3, sample.B03 * s2ratioWR3, sample.B02 * s2ratioWR3]\n",
    "  return viz.processList(val)\n",
    "}\n",
    "\"\"\"\n",
    "\n",
    "request = SentinelHubRequest(\n",
    "    evalscript=evalscript,\n",
    "    input_data=[\n",
    "        SentinelHubRequest.input_data(\n",
    "            data_collection=DataCollection.LANDSAT_OT_L1,\n",
    "            identifier=\"ls8\",  # has to match Landsat input datasource id in evalscript\n",
    "            time_interval=(\"2019-05-21\", \"2019-05-23\"),\n",
    "        ),\n",
    "        SentinelHubRequest.input_data(\n",
    "            data_collection=DataCollection.SENTINEL2_L2A,\n",
    "            identifier=\"l2a\",  # has to match Sentinel input datasource id in evalscript\n",
    "            time_interval=(\"2019-05-21\", \"2019-05-23\"),\n",
    "        ),\n",
    "    ],\n",
    "    responses=[SentinelHubRequest.output_response(\"default\", MimeType.PNG)],\n",
    "    bbox=BBox((-75.60847058045997, 6.210967220073269, -75.5410220422612, 6.278445747318065), CRS.WGS84),\n",
    "    size=(1024, 1024),\n",
    "    config=config,\n",
    ")\n",
    "\n",
    "image = request.get_data()[0]\n",
    "\n",
    "plot_image(image, factor=3.5 / 255, clip_range=(0, 1))\n",
    "\n",
    "print(\"Default Landsat-8 collection base URL:\", DataCollection.LANDSAT_OT_L1.service_url)\n",
    "print(\"Default Sentinel-2 collection base URL:\", DataCollection.SENTINEL2_L2A.service_url)\n",
    "print(\"Base URL from config breaks the tie:\", config.sh_base_url)\n",
    "\n",
    "print(\"Request URL:\", request.download_list[0].url)"
   ]
  }
 ],
 "metadata": {
  "kernelspec": {
   "display_name": "Python 3.9.7 64-bit",
   "language": "python",
   "name": "python3"
  },
  "language_info": {
   "codemirror_mode": {
    "name": "ipython",
    "version": 3
   },
   "file_extension": ".py",
   "mimetype": "text/x-python",
   "name": "python",
   "nbconvert_exporter": "python",
   "pygments_lexer": "ipython3",
   "version": "3.9.7"
  },
  "vscode": {
   "interpreter": {
    "hash": "916dbcbb3f70747c44a77c7bcd40155683ae19c65e1c03b4aa3499c5328201f1"
   }
  }
 },
 "nbformat": 4,
 "nbformat_minor": 2
}
