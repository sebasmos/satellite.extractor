{
 "cells": [
  {
   "cell_type": "code",
   "execution_count": null,
   "metadata": {},
   "outputs": [],
   "source": [
    "import os\n",
    "import matplotlib.pyplot as plt\n",
    "import tifffile\n",
    "import numpy as np\n",
    "\n",
    "folder_path = \"/media/sebasmos/Expansion/sebastian_data/DATASETS/DATASET_5_best_cities\"\n",
    "output_path = \"/media/sebasmos/Expansion/sebastian_data/DATASETS/DATASET_5_best_cities_RGB_8_bit\"\n",
    "\n",
    "for root, dirs, files in os.walk(folder_path):\n",
    "    for image_file in files:\n",
    "        if image_file.endswith(\".tiff\"):\n",
    "            image_path = os.path.join(root, image_file)\n",
    "            img = tifffile.imread(image_path)\n",
    "            print(np.sum(img))\n",
    "\n",
    "            bands = [2, 3, 4]\n",
    "            image_3 = img[..., bands]\n",
    "\n",
    "            # Create the relative path of the image file within the output directory\n",
    "            relative_path = os.path.relpath(root, folder_path)\n",
    "            output_folder = os.path.join(output_path, relative_path)\n",
    "            os.makedirs(output_folder, exist_ok=True)\n",
    "\n",
    "            # Create a new file name with the .png extension\n",
    "            image_file_name = os.path.splitext(image_file)[0]  # Remove the file extension\n",
    "            new_image_file_name = f\"{image_file_name}.png\"  # Add the .png extension\n",
    "\n",
    "            # Save the image in PNG format with the same folder structure as it was read\n",
    "            output_image_path = os.path.join(output_folder, new_image_file_name)\n",
    "            plt.imsave(output_image_path, image_3)\n"
   ]
  }
 ],
 "metadata": {
  "kernelspec": {
   "display_name": "sebasmos",
   "language": "python",
   "name": "python3"
  },
  "language_info": {
   "codemirror_mode": {
    "name": "ipython",
    "version": 3
   },
   "file_extension": ".py",
   "mimetype": "text/x-python",
   "name": "python",
   "nbconvert_exporter": "python",
   "pygments_lexer": "ipython3",
   "version": "3.9.16"
  }
 },
 "nbformat": 4,
 "nbformat_minor": 2
}
