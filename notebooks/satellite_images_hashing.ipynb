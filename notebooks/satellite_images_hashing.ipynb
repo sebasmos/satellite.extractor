{
 "cells": [
  {
   "cell_type": "markdown",
   "metadata": {
    "colab_type": "text",
    "id": "view-in-github"
   },
   "source": [
    "<a href=\"https://colab.research.google.com/github/sebasmos/satellite.extractor/blob/main/satellite_images_hashing.ipynb\" target=\"_parent\"><img src=\"https://colab.research.google.com/assets/colab-badge.svg\" alt=\"Open In Colab\"/></a>"
   ]
  },
  {
   "cell_type": "markdown",
   "metadata": {
    "id": "w73sDJbsTfxw"
   },
   "source": [
    "# Hash encrypting for satellite imagery \n",
    "\n",
    "The goal of hash encrypting is to create a unique fingerprint for each image per epiweek, so that even the change of color on a single pixel creates a different hash and thus to evaluate \"neighboring spatio-temporal images based on epiweek calendar\". For this purpose, image duplicate verification (i.e., checksums) is tested with sha-256, MD5 hash, and dhash(difference hash), obtaining best results for the last one using a hashsize of 8 pixels while squaring the horizontal gradients to obtain a lightweight hash per image. The last demonstrates to be useful to identify perceptually identical images, i.e, duplicate images captured during the data collection process with satellite extractor"
   ]
  },
  {
   "cell_type": "code",
   "execution_count": 1,
   "metadata": {
    "colab": {
     "base_uri": "https://localhost:8080/"
    },
    "id": "EmdJgUdoTiuk",
    "outputId": "f69dc8e7-6e8c-4e6b-b5bf-aabe637ce391"
   },
   "outputs": [
    {
     "name": "stdout",
     "output_type": "stream",
     "text": [
      "Requirement already satisfied: epiweeks in /home/sebasmos/.local/lib/python3.9/site-packages (2.1.3)\n"
     ]
    }
   ],
   "source": [
    "!pip install epiweeks"
   ]
  },
  {
   "cell_type": "code",
   "execution_count": 1,
   "metadata": {
    "id": "vfQroQbldi2j"
   },
   "outputs": [
    {
     "name": "stdout",
     "output_type": "stream",
     "text": [
      "Libraries ready\n"
     ]
    }
   ],
   "source": [
    "import numpy as np \n",
    "import matplotlib.pyplot as plt\n",
    "import pandas as pd\n",
    "import seaborn as sns\n",
    "import math\n",
    "import os\n",
    "import time\n",
    "import sys\n",
    "sys.path.insert(0,'..')\n",
    "\n",
    "from sklearn.preprocessing import MinMaxScaler\n",
    "from sklearn.metrics import mean_squared_error\n",
    "from sklearn.metrics import mean_absolute_percentage_error\n",
    "from sklearn.metrics import  mean_absolute_error\n",
    "from matplotlib import pyplot as plt\n",
    "from sklearn.preprocessing import StandardScaler\n",
    "from sklearn.svm import SVR\n",
    "from sklearn.metrics import r2_score\n",
    "import seaborn as sns\n",
    "from scipy import signal\n",
    "import pickle\n",
    "\n",
    "from sklearn.decomposition import PCA\n",
    "\n",
    "from epiweeks import Week, Year\n",
    "from datetime import date\n",
    "\n",
    "from datetime import date\n",
    "\n",
    "from random import randint, randrange\n",
    "from skimage import io\n",
    "from skimage.transform import rescale, resize, downscale_local_mean\n",
    "\n",
    "import skimage\n",
    "import cv2\n",
    "import os\n",
    "import pandas as pd\n",
    "import numpy as np\n",
    "import pickle\n",
    "import plotly.express as px\n",
    "import matplotlib.pyplot as plt\n",
    "!echo \"Libraries ready\"\n",
    "def readImg(img_path, resize_ratio=None):\n",
    "  img = io.imread(img_path)\n",
    "\n",
    "  if resize_ratio:\n",
    "    img_rescale = rescale(img, resize_ratio, anti_aliasing=True)\n",
    "  \n",
    "  path_img = os.path.basename(img_path)\n",
    "\n",
    "  print(path_img, '(origin shape:', img.shape, '-> rescale:', str(img_rescale.shape) + ')')\n",
    "  return img_rescale, path_img\n",
    "\n",
    "\n",
    "# Load data from one of the source\n",
    "def loadData(csv_folder, img_folder, option=None, resize_ratio=None):\n",
    "  if option is None:\n",
    "    # Get data by combining from csv and images\n",
    "    df = loadStructuredData(csv_folder)\n",
    "    info_dict = combineData(img_folder, df, resize_ratio)\n",
    "    \n",
    "    print(len(info_dict['LastDayWeek']), len(info_dict['Image']), len(info_dict['cases_medellin']))\n",
    "\n",
    "  else:\n",
    "    # Load data from previous pickle file\n",
    "    info_dict = 1#loadDataFromPickle(option)\n",
    "  return info_dict\n",
    "  \n",
    "\n",
    "def loadStructuredData(csv_path):\n",
    "  df = pd.DataFrame()\n",
    "  if os.path.isdir(csv_path):\n",
    "    for filename in os.listdir(csv_path):\n",
    "      file_path = os.path.join(csv_path, filename)\n",
    "      df = df.append(pd.read_csv(file_path))\n",
    "  elif os.path.isfile(csv_path):\n",
    "    df = pd.read_csv(csv_path)\n",
    "  else:\n",
    "    print('Error: Not folder or file')\n",
    "  return df\n",
    "  \n",
    "def getEpiWeek(origin_str):\n",
    "  \"\"\"Get epi week from string\n",
    "  \"\"\"\n",
    "  date_ls = origin_str.split('-')\n",
    "  return Week.fromdate(date(int(date_ls[0]), int(date_ls[1]), int(date_ls[2])))\n",
    "  \n",
    "def combineData(img_folder, df, resize_ratio=None):\n",
    "  info_dict = {'LastDayWeek':[], 'cases_medellin':[], 'Image':[], 'epi_week':[], 'path_name':[]}\n",
    "  img_list = os.listdir(img_folder)\n",
    "\n",
    "  for index, row in df.iterrows():\n",
    "    name = row['LastDayWeek']\n",
    "    week_df = str(getEpiWeek(name))\n",
    "    case = row['cases_medellin']\n",
    "    for img_name in img_list:\n",
    "      \n",
    "      # If image name is image_2017-12-24.tiff -> get 2017-12-24\n",
    "      # Reference Links: https://www.w3schools.com/python/ref_string_join.asp, \n",
    "      #                  https://stackoverflow.com/questions/13174468/how-do-you-join-all-items-in-a-list/13175535\n",
    "      new_img_name = ''.join(i for i in img_name if i.isdigit() or i == '-')      \n",
    "\n",
    "      week_img = str(getEpiWeek(new_img_name))\n",
    "      #print(f\"{week_df} = {week_img}\")\n",
    "      if week_df == week_img:\n",
    "        #print(\"ENTRO\")\n",
    "        img_path = os.path.join(img_folder, img_name)\n",
    "        img, img_path = readImg(img_path, resize_ratio)\n",
    "\n",
    "        info_dict['Image'].append(img)\n",
    "        info_dict['LastDayWeek'].append(name)\n",
    "        info_dict['cases_medellin'].append(case)\n",
    "        info_dict['epi_week'].append(week_df)\n",
    "        info_dict['path_name'].append(img_path)\n",
    "        break\n",
    "\n",
    "  return info_dict\n",
    "\n",
    "def splitTrainTestSet(ratio):\n",
    "  # Split the data into training (ratio) and testing (1 - ratio)\n",
    "  train_val_ratio = ratio\n",
    "  train_num = int(len(info_dict['Image']) * train_val_ratio)\n",
    "\n",
    "  # Change list to array\n",
    "  origin_dimension_X = np.array(info_dict['Image'])\n",
    "  labels = np.array(info_dict['cases_medellin'])\n",
    "\n",
    "  print(''.center(60,'-'))\n",
    "\n",
    "  origin_X_train = origin_dimension_X[:train_num,:,:,:]\n",
    "  y_train = labels[:train_num]\n",
    "  origin_X_test = origin_dimension_X[train_num:,:,:,:]\n",
    "  y_test = labels[train_num:]\n",
    "\n",
    "  # print('Total number of weeks:'.ljust(30), len(origin_dimension_X), 'weeks')\n",
    "  # print('Training input:'.ljust(30), origin_X_train.shape)\n",
    "  # print('Training output:'.ljust(30), y_train.shape)\n",
    "  # print('Testing input:'.ljust(30), origin_X_test.shape)\n",
    "  # print('Testing output:'.ljust(30), y_test.shape) \n",
    "\n",
    "  # return origin_X_train, y_train, origin_X_test, y_test"
   ]
  },
  {
   "cell_type": "markdown",
   "metadata": {
    "id": "IYqtUujJuBcS"
   },
   "source": [
    "# Download metadata:\n",
    "url = \"https://drive.google.com/u/0/uc?id=1RGrXHgvn60L4pHA40M0R0scszHLno5fD&export=download\"\n",
    "\n",
    "url = \"https://drive.google.com/file/d/1RGrXHgvn60L4pHA40M0R0scszHLno5fD/view?usp=sharing\""
   ]
  },
  {
   "cell_type": "code",
   "execution_count": 3,
   "metadata": {
    "colab": {
     "base_uri": "https://localhost:8080/"
    },
    "id": "-mjWzOdNtEzE",
    "outputId": "50bc1836-5b5a-4e63-d3c3-d6b0daa88aa6"
   },
   "outputs": [
    {
     "name": "stdout",
     "output_type": "stream",
     "text": [
      "/home/sebasmos/anaconda3/envs/sebasmos/lib/python3.9/site-packages/gdown/cli.py:127: FutureWarning: Option `--id` was deprecated in version 4.3.1 and will be removed in 5.0. You don't need to pass it anymore to use a file ID.\n",
      "  warnings.warn(\n",
      "^C\n"
     ]
    }
   ],
   "source": [
    "\"\"\"\n",
    "!gdown --id 1RGrXHgvn60L4pHA40M0R0scszHLno5fD\n",
    "!unzip \"dengue.zip\" -d .\n",
    "!rm -f dengue.zip\n",
    "\"\"\"\n",
    "!gdown --id 1x-A6uc91FS3HePSy11vxGJjP0qMqyhyF\n",
    "#!unzip \"dengue.zip\" -d .\n",
    "#!rm -f dengue.zip"
   ]
  },
  {
   "cell_type": "markdown",
   "metadata": {},
   "source": [
    "## Get data from bucket"
   ]
  },
  {
   "cell_type": "code",
   "execution_count": 2,
   "metadata": {},
   "outputs": [],
   "source": [
    "import io\n",
    "import oci\n",
    "import sys\n",
    "import json\n",
    "import os\n",
    "import skimage\n",
    "from tifffile import imread, imwrite\n",
    "import numpy as np"
   ]
  },
  {
   "cell_type": "code",
   "execution_count": null,
   "metadata": {},
   "outputs": [],
   "source": [
    "# Object Storage Parameters (for building a connection)\n",
    "os_namespace = 'idfgbkbot6fd'\n",
    "os_bucket = 'Sentinel_2_Images'\n",
    "os_cmpt = 'ocid1.compartment.oc1..aaaaaaaamgl2tu5vh7mcyjsd2h7tq5umvcq6ivcjftljmzaq53kct6khrd7q'\n",
    "os_tenancy = 'ocid1.tenancy.oc1..aaaaaaaas5kw6lnv6emziaapx3zdew6pqqd4xsnsovdlft3is6dy6skkg57q'\n",
    "\n",
    "# Resource Principal for connecting to Object Storage/Logs\n",
    "signer = oci.auth.signers.get_resource_principals_signer()\n",
    "client = oci.object_storage.ObjectStorageClient(config={}, signer=signer, timeout=(100, 100))\n",
    "objects = client.list_objects(namespace_name=os_namespace,\n",
    "                        bucket_name=os_bucket)\n",
    "destination = \"/home/datascience\"\n",
    "OUTPUT = \"DATASET_5_best_cities\""
   ]
  },
  {
   "cell_type": "code",
   "execution_count": null,
   "metadata": {},
   "outputs": [
    {
     "name": "stdout",
     "output_type": "stream",
     "text": [
      "Finished\n"
     ]
    }
   ],
   "source": [
    "def download_bucket(OUTPUT, \n",
    "                   os_namespace,\n",
    "                   os_bucket,\n",
    "                   objects):\n",
    "    i = 0\n",
    "    for obj in objects.data.objects:\n",
    "        if OUTPUT in obj.name and (\"tiff\" in obj.name):\n",
    "            #print(f\"Downloading image: {obj.name}\")\n",
    "            image = client.get_object(namespace_name=os_namespace,\n",
    "                                bucket_name=os_bucket,\n",
    "                                object_name=obj.name)\n",
    "            local_path = os.path.join(destination, OUTPUT, obj.name.split('/')[1])\n",
    "            if not os.path.exists(local_path):\n",
    "                os.makedirs(local_path)\n",
    "\n",
    "            image_bytes = io.BytesIO(image.data.content)\n",
    "\n",
    "            filename = obj.name.split('/')[1]\n",
    "\n",
    "            with open(os.path.join(destination, obj.name), \"wb\", buffering=0) as f:\n",
    "                f.write(image.data.content)\n",
    "            i+=1\n",
    "    return print(\"Finished\")\n",
    "\n",
    "download_bucket(OUTPUT, \n",
    "                   os_namespace,\n",
    "                   os_bucket,\n",
    "                   objects\n",
    "                   )"
   ]
  },
  {
   "cell_type": "markdown",
   "metadata": {
    "id": "UXVpXCH2xPLc"
   },
   "source": [
    "## Load dataset "
   ]
  },
  {
   "cell_type": "code",
   "execution_count": 2,
   "metadata": {
    "colab": {
     "base_uri": "https://localhost:8080/"
    },
    "id": "heWGi3bads5S",
    "outputId": "4473a821-d9f5-470a-c591-67e410f0fe00"
   },
   "outputs": [
    {
     "name": "stdout",
     "output_type": "stream",
     "text": [
      "image_2015-11-01.tiff (origin shape: (745, 748, 12) -> rescale: (74, 75, 12))\n",
      "image_2015-11-08.tiff (origin shape: (745, 748, 12) -> rescale: (74, 75, 12))\n",
      "image_2015-11-15.tiff (origin shape: (745, 748, 12) -> rescale: (74, 75, 12))\n",
      "image_2015-11-22.tiff (origin shape: (745, 748, 12) -> rescale: (74, 75, 12))\n",
      "image_2015-11-29.tiff (origin shape: (745, 748, 12) -> rescale: (74, 75, 12))\n",
      "image_2015-12-06.tiff (origin shape: (745, 748, 12) -> rescale: (74, 75, 12))\n",
      "image_2015-12-13.tiff (origin shape: (745, 748, 12) -> rescale: (74, 75, 12))\n",
      "image_2015-12-20.tiff (origin shape: (745, 748, 12) -> rescale: (74, 75, 12))\n",
      "image_2015-12-27.tiff (origin shape: (745, 748, 12) -> rescale: (74, 75, 12))\n",
      "image_2016-01-03.tiff (origin shape: (745, 748, 12) -> rescale: (74, 75, 12))\n",
      "image_2016-01-10.tiff (origin shape: (745, 748, 12) -> rescale: (74, 75, 12))\n",
      "image_2016-01-17.tiff (origin shape: (745, 748, 12) -> rescale: (74, 75, 12))\n",
      "image_2016-01-24.tiff (origin shape: (745, 748, 12) -> rescale: (74, 75, 12))\n",
      "image_2016-01-31.tiff (origin shape: (745, 748, 12) -> rescale: (74, 75, 12))\n",
      "image_2016-02-07.tiff (origin shape: (745, 748, 12) -> rescale: (74, 75, 12))\n",
      "image_2016-02-14.tiff (origin shape: (745, 748, 12) -> rescale: (74, 75, 12))\n",
      "image_2016-02-21.tiff (origin shape: (745, 748, 12) -> rescale: (74, 75, 12))\n",
      "image_2016-02-28.tiff (origin shape: (745, 748, 12) -> rescale: (74, 75, 12))\n",
      "image_2016-03-06.tiff (origin shape: (745, 748, 12) -> rescale: (74, 75, 12))\n",
      "image_2016-03-13.tiff (origin shape: (745, 748, 12) -> rescale: (74, 75, 12))\n",
      "image_2016-03-20.tiff (origin shape: (745, 748, 12) -> rescale: (74, 75, 12))\n",
      "image_2016-03-27.tiff (origin shape: (745, 748, 12) -> rescale: (74, 75, 12))\n",
      "image_2016-04-03.tiff (origin shape: (745, 748, 12) -> rescale: (74, 75, 12))\n",
      "image_2016-04-10.tiff (origin shape: (745, 748, 12) -> rescale: (74, 75, 12))\n",
      "image_2016-04-17.tiff (origin shape: (745, 748, 12) -> rescale: (74, 75, 12))\n",
      "image_2016-04-24.tiff (origin shape: (745, 748, 12) -> rescale: (74, 75, 12))\n",
      "image_2016-05-01.tiff (origin shape: (745, 748, 12) -> rescale: (74, 75, 12))\n",
      "image_2016-05-08.tiff (origin shape: (745, 748, 12) -> rescale: (74, 75, 12))\n",
      "image_2016-05-15.tiff (origin shape: (745, 748, 12) -> rescale: (74, 75, 12))\n",
      "image_2016-05-22.tiff (origin shape: (745, 748, 12) -> rescale: (74, 75, 12))\n",
      "image_2016-05-29.tiff (origin shape: (745, 748, 12) -> rescale: (74, 75, 12))\n",
      "image_2016-06-05.tiff (origin shape: (745, 748, 12) -> rescale: (74, 75, 12))\n",
      "image_2016-06-12.tiff (origin shape: (745, 748, 12) -> rescale: (74, 75, 12))\n",
      "image_2016-06-19.tiff (origin shape: (745, 748, 12) -> rescale: (74, 75, 12))\n",
      "image_2016-06-26.tiff (origin shape: (745, 748, 12) -> rescale: (74, 75, 12))\n",
      "image_2016-07-03.tiff (origin shape: (745, 748, 12) -> rescale: (74, 75, 12))\n",
      "image_2016-07-10.tiff (origin shape: (745, 748, 12) -> rescale: (74, 75, 12))\n",
      "image_2016-07-17.tiff (origin shape: (745, 748, 12) -> rescale: (74, 75, 12))\n",
      "image_2016-07-24.tiff (origin shape: (745, 748, 12) -> rescale: (74, 75, 12))\n",
      "image_2016-07-31.tiff (origin shape: (745, 748, 12) -> rescale: (74, 75, 12))\n",
      "image_2016-08-07.tiff (origin shape: (745, 748, 12) -> rescale: (74, 75, 12))\n",
      "image_2016-08-14.tiff (origin shape: (745, 748, 12) -> rescale: (74, 75, 12))\n",
      "image_2016-08-21.tiff (origin shape: (745, 748, 12) -> rescale: (74, 75, 12))\n",
      "image_2016-08-28.tiff (origin shape: (745, 748, 12) -> rescale: (74, 75, 12))\n",
      "image_2016-09-04.tiff (origin shape: (745, 748, 12) -> rescale: (74, 75, 12))\n",
      "image_2016-09-11.tiff (origin shape: (745, 748, 12) -> rescale: (74, 75, 12))\n",
      "image_2016-09-18.tiff (origin shape: (745, 748, 12) -> rescale: (74, 75, 12))\n",
      "image_2016-09-25.tiff (origin shape: (745, 748, 12) -> rescale: (74, 75, 12))\n",
      "image_2016-10-02.tiff (origin shape: (745, 748, 12) -> rescale: (74, 75, 12))\n",
      "image_2016-10-09.tiff (origin shape: (745, 748, 12) -> rescale: (74, 75, 12))\n",
      "image_2016-10-16.tiff (origin shape: (745, 748, 12) -> rescale: (74, 75, 12))\n",
      "image_2016-10-23.tiff (origin shape: (745, 748, 12) -> rescale: (74, 75, 12))\n",
      "image_2016-10-30.tiff (origin shape: (745, 748, 12) -> rescale: (74, 75, 12))\n",
      "image_2016-11-06.tiff (origin shape: (745, 748, 12) -> rescale: (74, 75, 12))\n",
      "image_2016-11-13.tiff (origin shape: (745, 748, 12) -> rescale: (74, 75, 12))\n",
      "image_2016-11-20.tiff (origin shape: (745, 748, 12) -> rescale: (74, 75, 12))\n",
      "image_2016-11-27.tiff (origin shape: (745, 748, 12) -> rescale: (74, 75, 12))\n",
      "image_2016-12-04.tiff (origin shape: (745, 748, 12) -> rescale: (74, 75, 12))\n",
      "image_2016-12-11.tiff (origin shape: (745, 748, 12) -> rescale: (74, 75, 12))\n",
      "image_2016-12-18.tiff (origin shape: (745, 748, 12) -> rescale: (74, 75, 12))\n",
      "image_2017-01-01.tiff (origin shape: (745, 748, 12) -> rescale: (74, 75, 12))\n",
      "image_2017-01-01.tiff (origin shape: (745, 748, 12) -> rescale: (74, 75, 12))\n",
      "image_2017-01-08.tiff (origin shape: (745, 748, 12) -> rescale: (74, 75, 12))\n",
      "image_2017-01-15.tiff (origin shape: (745, 748, 12) -> rescale: (74, 75, 12))\n",
      "image_2017-01-22.tiff (origin shape: (745, 748, 12) -> rescale: (74, 75, 12))\n",
      "image_2017-01-29.tiff (origin shape: (745, 748, 12) -> rescale: (74, 75, 12))\n",
      "image_2017-02-05.tiff (origin shape: (745, 748, 12) -> rescale: (74, 75, 12))\n",
      "image_2017-02-12.tiff (origin shape: (745, 748, 12) -> rescale: (74, 75, 12))\n",
      "image_2017-02-19.tiff (origin shape: (745, 748, 12) -> rescale: (74, 75, 12))\n",
      "image_2017-02-26.tiff (origin shape: (745, 748, 12) -> rescale: (74, 75, 12))\n",
      "image_2017-03-05.tiff (origin shape: (745, 748, 12) -> rescale: (74, 75, 12))\n",
      "image_2017-03-12.tiff (origin shape: (745, 748, 12) -> rescale: (74, 75, 12))\n",
      "image_2017-03-19.tiff (origin shape: (745, 748, 12) -> rescale: (74, 75, 12))\n",
      "image_2017-03-26.tiff (origin shape: (745, 748, 12) -> rescale: (74, 75, 12))\n",
      "image_2017-04-02.tiff (origin shape: (745, 748, 12) -> rescale: (74, 75, 12))\n",
      "image_2017-04-09.tiff (origin shape: (745, 748, 12) -> rescale: (74, 75, 12))\n",
      "image_2017-04-16.tiff (origin shape: (745, 748, 12) -> rescale: (74, 75, 12))\n",
      "image_2017-04-23.tiff (origin shape: (745, 748, 12) -> rescale: (74, 75, 12))\n",
      "image_2017-04-30.tiff (origin shape: (745, 748, 12) -> rescale: (74, 75, 12))\n",
      "image_2017-05-07.tiff (origin shape: (745, 748, 12) -> rescale: (74, 75, 12))\n",
      "image_2017-05-14.tiff (origin shape: (745, 748, 12) -> rescale: (74, 75, 12))\n",
      "image_2017-05-21.tiff (origin shape: (745, 748, 12) -> rescale: (74, 75, 12))\n",
      "image_2017-05-28.tiff (origin shape: (745, 748, 12) -> rescale: (74, 75, 12))\n",
      "image_2017-06-04.tiff (origin shape: (745, 748, 12) -> rescale: (74, 75, 12))\n",
      "image_2017-06-11.tiff (origin shape: (745, 748, 12) -> rescale: (74, 75, 12))\n",
      "image_2017-06-18.tiff (origin shape: (745, 748, 12) -> rescale: (74, 75, 12))\n",
      "image_2017-06-25.tiff (origin shape: (745, 748, 12) -> rescale: (74, 75, 12))\n",
      "image_2017-07-02.tiff (origin shape: (745, 748, 12) -> rescale: (74, 75, 12))\n",
      "image_2017-07-09.tiff (origin shape: (745, 748, 12) -> rescale: (74, 75, 12))\n",
      "image_2017-07-16.tiff (origin shape: (745, 748, 12) -> rescale: (74, 75, 12))\n",
      "image_2017-07-23.tiff (origin shape: (745, 748, 12) -> rescale: (74, 75, 12))\n",
      "image_2017-07-30.tiff (origin shape: (745, 748, 12) -> rescale: (74, 75, 12))\n",
      "image_2017-08-06.tiff (origin shape: (745, 748, 12) -> rescale: (74, 75, 12))\n",
      "image_2017-08-13.tiff (origin shape: (745, 748, 12) -> rescale: (74, 75, 12))\n",
      "image_2017-08-20.tiff (origin shape: (745, 748, 12) -> rescale: (74, 75, 12))\n",
      "image_2017-08-27.tiff (origin shape: (745, 748, 12) -> rescale: (74, 75, 12))\n",
      "image_2017-09-03.tiff (origin shape: (745, 748, 12) -> rescale: (74, 75, 12))\n",
      "image_2017-09-10.tiff (origin shape: (745, 748, 12) -> rescale: (74, 75, 12))\n",
      "image_2017-09-17.tiff (origin shape: (745, 748, 12) -> rescale: (74, 75, 12))\n",
      "image_2017-09-24.tiff (origin shape: (745, 748, 12) -> rescale: (74, 75, 12))\n",
      "image_2017-10-01.tiff (origin shape: (745, 748, 12) -> rescale: (74, 75, 12))\n",
      "image_2017-10-08.tiff (origin shape: (745, 748, 12) -> rescale: (74, 75, 12))\n",
      "image_2017-10-15.tiff (origin shape: (745, 748, 12) -> rescale: (74, 75, 12))\n",
      "image_2017-10-22.tiff (origin shape: (745, 748, 12) -> rescale: (74, 75, 12))\n",
      "image_2017-10-29.tiff (origin shape: (745, 748, 12) -> rescale: (74, 75, 12))\n",
      "image_2017-11-05.tiff (origin shape: (745, 748, 12) -> rescale: (74, 75, 12))\n",
      "image_2017-11-12.tiff (origin shape: (745, 748, 12) -> rescale: (74, 75, 12))\n",
      "image_2017-11-19.tiff (origin shape: (745, 748, 12) -> rescale: (74, 75, 12))\n",
      "image_2017-11-26.tiff (origin shape: (745, 748, 12) -> rescale: (74, 75, 12))\n",
      "image_2017-12-03.tiff (origin shape: (745, 748, 12) -> rescale: (74, 75, 12))\n",
      "image_2017-12-10.tiff (origin shape: (745, 748, 12) -> rescale: (74, 75, 12))\n",
      "image_2017-12-17.tiff (origin shape: (745, 748, 12) -> rescale: (74, 75, 12))\n",
      "image_2017-12-31.tiff (origin shape: (745, 748, 12) -> rescale: (74, 75, 12))\n",
      "image_2018-01-07.tiff (origin shape: (745, 748, 12) -> rescale: (74, 75, 12))\n",
      "image_2018-01-14.tiff (origin shape: (745, 748, 12) -> rescale: (74, 75, 12))\n",
      "image_2018-01-21.tiff (origin shape: (745, 748, 12) -> rescale: (74, 75, 12))\n",
      "image_2018-01-28.tiff (origin shape: (745, 748, 12) -> rescale: (74, 75, 12))\n",
      "image_2018-02-04.tiff (origin shape: (745, 748, 12) -> rescale: (74, 75, 12))\n",
      "image_2018-02-11.tiff (origin shape: (745, 748, 12) -> rescale: (74, 75, 12))\n",
      "image_2018-02-18.tiff (origin shape: (745, 748, 12) -> rescale: (74, 75, 12))\n",
      "image_2018-02-25.tiff (origin shape: (745, 748, 12) -> rescale: (74, 75, 12))\n",
      "image_2018-03-04.tiff (origin shape: (745, 748, 12) -> rescale: (74, 75, 12))\n",
      "image_2018-03-11.tiff (origin shape: (745, 748, 12) -> rescale: (74, 75, 12))\n",
      "image_2018-03-18.tiff (origin shape: (745, 748, 12) -> rescale: (74, 75, 12))\n",
      "image_2018-03-25.tiff (origin shape: (745, 748, 12) -> rescale: (74, 75, 12))\n",
      "image_2018-04-01.tiff (origin shape: (745, 748, 12) -> rescale: (74, 75, 12))\n",
      "image_2018-04-08.tiff (origin shape: (745, 748, 12) -> rescale: (74, 75, 12))\n",
      "image_2018-04-15.tiff (origin shape: (745, 748, 12) -> rescale: (74, 75, 12))\n",
      "image_2018-04-22.tiff (origin shape: (745, 748, 12) -> rescale: (74, 75, 12))\n",
      "image_2018-04-29.tiff (origin shape: (745, 748, 12) -> rescale: (74, 75, 12))\n",
      "image_2018-05-06.tiff (origin shape: (745, 748, 12) -> rescale: (74, 75, 12))\n",
      "image_2018-05-13.tiff (origin shape: (745, 748, 12) -> rescale: (74, 75, 12))\n",
      "image_2018-05-20.tiff (origin shape: (745, 748, 12) -> rescale: (74, 75, 12))\n",
      "image_2018-05-27.tiff (origin shape: (745, 748, 12) -> rescale: (74, 75, 12))\n",
      "image_2018-06-03.tiff (origin shape: (745, 748, 12) -> rescale: (74, 75, 12))\n",
      "image_2018-06-10.tiff (origin shape: (745, 748, 12) -> rescale: (74, 75, 12))\n",
      "image_2018-06-17.tiff (origin shape: (745, 748, 12) -> rescale: (74, 75, 12))\n",
      "image_2018-06-24.tiff (origin shape: (745, 748, 12) -> rescale: (74, 75, 12))\n",
      "image_2018-07-01.tiff (origin shape: (745, 748, 12) -> rescale: (74, 75, 12))\n",
      "image_2018-07-08.tiff (origin shape: (745, 748, 12) -> rescale: (74, 75, 12))\n",
      "image_2018-07-15.tiff (origin shape: (745, 748, 12) -> rescale: (74, 75, 12))\n",
      "image_2018-07-22.tiff (origin shape: (745, 748, 12) -> rescale: (74, 75, 12))\n",
      "image_2018-07-29.tiff (origin shape: (745, 748, 12) -> rescale: (74, 75, 12))\n",
      "image_2018-08-05.tiff (origin shape: (745, 748, 12) -> rescale: (74, 75, 12))\n",
      "image_2018-08-12.tiff (origin shape: (745, 748, 12) -> rescale: (74, 75, 12))\n",
      "image_2018-08-19.tiff (origin shape: (745, 748, 12) -> rescale: (74, 75, 12))\n",
      "image_2018-08-26.tiff (origin shape: (745, 748, 12) -> rescale: (74, 75, 12))\n",
      "image_2018-09-02.tiff (origin shape: (745, 748, 12) -> rescale: (74, 75, 12))\n",
      "image_2018-09-09.tiff (origin shape: (745, 748, 12) -> rescale: (74, 75, 12))\n",
      "image_2018-09-16.tiff (origin shape: (745, 748, 12) -> rescale: (74, 75, 12))\n",
      "image_2018-09-23.tiff (origin shape: (745, 748, 12) -> rescale: (74, 75, 12))\n",
      "image_2018-09-30.tiff (origin shape: (745, 748, 12) -> rescale: (74, 75, 12))\n",
      "image_2018-10-07.tiff (origin shape: (745, 748, 12) -> rescale: (74, 75, 12))\n",
      "image_2018-10-14.tiff (origin shape: (745, 748, 12) -> rescale: (74, 75, 12))\n",
      "image_2018-10-21.tiff (origin shape: (745, 748, 12) -> rescale: (74, 75, 12))\n",
      "image_2018-10-28.tiff (origin shape: (745, 748, 12) -> rescale: (74, 75, 12))\n",
      "image_2018-11-04.tiff (origin shape: (745, 748, 12) -> rescale: (74, 75, 12))\n",
      "image_2018-11-11.tiff (origin shape: (745, 748, 12) -> rescale: (74, 75, 12))\n",
      "image_2018-11-18.tiff (origin shape: (745, 748, 12) -> rescale: (74, 75, 12))\n",
      "image_2018-11-25.tiff (origin shape: (745, 748, 12) -> rescale: (74, 75, 12))\n",
      "image_2018-12-02.tiff (origin shape: (745, 748, 12) -> rescale: (74, 75, 12))\n",
      "image_2018-12-09.tiff (origin shape: (745, 748, 12) -> rescale: (74, 75, 12))\n",
      "image_2018-12-16.tiff (origin shape: (745, 748, 12) -> rescale: (74, 75, 12))\n",
      "image_2018-12-23.tiff (origin shape: (745, 748, 12) -> rescale: (74, 75, 12))\n",
      "164 164 164\n"
     ]
    }
   ],
   "source": [
    "#csv_folder # \"./data/merge_cases_temperature_WeeklyPrecipitation_timeseries.csv\"\n",
    "csv_folder = \"/home/sebasmos/Desktop/satellite.extractor/data/merge_cases_temperature_WeeklyPrecipitation_timeseries.csv\"\n",
    "#img_folder = \"/home/datascience/DATASET_5_best_cities/Medellín\"\n",
    "img_folder = \"/home/sebasmos/Desktop/DATASETS/DATASET_5_best_cities/Cali\"\n",
    "\n",
    "info_dict = loadData(csv_folder, img_folder, resize_ratio=(0.1, 0.1, 1))\n"
   ]
  },
  {
   "cell_type": "code",
   "execution_count": 3,
   "metadata": {
    "colab": {
     "base_uri": "https://localhost:8080/"
    },
    "id": "RIXcJ6dFDe7I",
    "outputId": "289e1b49-fb70-4a00-dc22-617e13b2ed6e"
   },
   "outputs": [
    {
     "name": "stdout",
     "output_type": "stream",
     "text": [
      "------------------------------------------------------------\n",
      "shape origin_dimension_X: (164, 74, 75, 12)\n",
      "labels (164,)\n"
     ]
    }
   ],
   "source": [
    "# Change list to array\n",
    "df_med = np.array(info_dict['Image'])\n",
    "labels = np.array(info_dict['cases_medellin'])\n",
    "img_names = np.array(info_dict['path_name'])\n",
    "\n",
    "print(''.center(60,'-'))\n",
    "print(f\"shape origin_dimension_X: {df_med.shape}\")\n",
    "print(f\"labels {labels.shape}\")\n",
    "#print(f\"labels {paths.shape}\")\n",
    "\n",
    "# Filter channels\n",
    "df_med_rgb = df_med[:,:,:,1:4]\n",
    "df_med_rgb = np.array(df_med_rgb)"
   ]
  },
  {
   "cell_type": "code",
   "execution_count": 4,
   "metadata": {
    "colab": {
     "base_uri": "https://localhost:8080/"
    },
    "id": "D7u2rmCuIRWy",
    "outputId": "60c1029f-bf39-4168-841d-f21a87706e05"
   },
   "outputs": [
    {
     "name": "stdout",
     "output_type": "stream",
     "text": [
      "(164, 74, 75, 3)\n",
      "(164,)\n"
     ]
    }
   ],
   "source": [
    "N_SIZE = len(img_names)\n",
    "df_test = df_med_rgb[:N_SIZE]\n",
    "path_test = img_names[:N_SIZE]\n",
    "print(df_test.shape)\n",
    "print(path_test.shape)"
   ]
  },
  {
   "cell_type": "markdown",
   "metadata": {
    "id": "Q8hMaluJGKkK"
   },
   "source": [
    "# Similarity analysis based on [hash imag](https://github.com/JohannesBuchner/imagehash)"
   ]
  },
  {
   "cell_type": "code",
   "execution_count": 5,
   "metadata": {
    "id": "J7SLIaDJFaN9"
   },
   "outputs": [],
   "source": [
    "#!pip install ImageHash\n",
    "#! pip install imutils\n",
    "import cv2 \n",
    "from PIL import Image\n",
    "#import imagehash\n",
    "from imutils import paths\n",
    "import argparse\n",
    "import time\n",
    "import sys\n",
    "import cv2\n",
    "import os\n",
    "%matplotlib inline"
   ]
  },
  {
   "cell_type": "code",
   "execution_count": 6,
   "metadata": {
    "colab": {
     "base_uri": "https://localhost:8080/"
    },
    "id": "ifuBpvVtH7k2",
    "outputId": "1b067d81-b103-4c0a-a90d-0daaa350e893"
   },
   "outputs": [],
   "source": [
    "def hash_difference(image, hashSize=8):\n",
    "\tresized = cv2.resize(image, (hashSize + 1, hashSize))\n",
    "\tdiff = resized[:, 1:] > resized[:, :-1]\n",
    "\treturn sum([2 ** i for (i, v) in enumerate(diff.flatten()) if v])"
   ]
  },
  {
   "cell_type": "code",
   "execution_count": 7,
   "metadata": {
    "id": "ZBLmumjoNng0"
   },
   "outputs": [],
   "source": [
    "dict_hash = []\n",
    "for img in df_test:\n",
    "  img_float32 = np.float32(img)\n",
    "  image = cv2.cvtColor(img_float32, cv2.COLOR_BGR2RGB)\n",
    "  imageHash = hash_difference(image)\n",
    "  dict_hash.append(imageHash)\n",
    "\n",
    "data = {\"img_hash\": dict_hash,\n",
    "        \"img_names\": path_test }\n",
    "df = pd.DataFrame(data = data)"
   ]
  },
  {
   "cell_type": "code",
   "execution_count": 11,
   "metadata": {
    "colab": {
     "base_uri": "https://localhost:8080/",
     "height": 363
    },
    "id": "oA3qtV9xUMN5",
    "outputId": "6d413616-b9f3-4521-ec8e-d148f11f316e"
   },
   "outputs": [
    {
     "data": {
      "text/html": [
       "<div>\n",
       "<style scoped>\n",
       "    .dataframe tbody tr th:only-of-type {\n",
       "        vertical-align: middle;\n",
       "    }\n",
       "\n",
       "    .dataframe tbody tr th {\n",
       "        vertical-align: top;\n",
       "    }\n",
       "\n",
       "    .dataframe thead th {\n",
       "        text-align: right;\n",
       "    }\n",
       "</style>\n",
       "<table border=\"1\" class=\"dataframe\">\n",
       "  <thead>\n",
       "    <tr style=\"text-align: right;\">\n",
       "      <th></th>\n",
       "      <th>img_hash</th>\n",
       "      <th>img_names</th>\n",
       "    </tr>\n",
       "  </thead>\n",
       "  <tbody>\n",
       "    <tr>\n",
       "      <th>0</th>\n",
       "      <td>1091607921471466197471320860624057188773004451...</td>\n",
       "      <td>image_2015-11-01.tiff</td>\n",
       "    </tr>\n",
       "    <tr>\n",
       "      <th>1</th>\n",
       "      <td>1091607921471466197471320860624057188773004451...</td>\n",
       "      <td>image_2015-11-08.tiff</td>\n",
       "    </tr>\n",
       "    <tr>\n",
       "      <th>2</th>\n",
       "      <td>1676167099316596445726177491484980871959795168...</td>\n",
       "      <td>image_2015-11-15.tiff</td>\n",
       "    </tr>\n",
       "    <tr>\n",
       "      <th>3</th>\n",
       "      <td>1676167099316596445726177491484980871959795168...</td>\n",
       "      <td>image_2015-11-22.tiff</td>\n",
       "    </tr>\n",
       "    <tr>\n",
       "      <th>4</th>\n",
       "      <td>7724013697536937987845616888277379788556029817...</td>\n",
       "      <td>image_2015-11-29.tiff</td>\n",
       "    </tr>\n",
       "    <tr>\n",
       "      <th>5</th>\n",
       "      <td>7724013697536937987845616888277379788556029817...</td>\n",
       "      <td>image_2015-12-06.tiff</td>\n",
       "    </tr>\n",
       "    <tr>\n",
       "      <th>6</th>\n",
       "      <td>5503212480303279559998871321964589179332529777...</td>\n",
       "      <td>image_2015-12-13.tiff</td>\n",
       "    </tr>\n",
       "    <tr>\n",
       "      <th>7</th>\n",
       "      <td>6189771569842886873967833953803454360415844098...</td>\n",
       "      <td>image_2015-12-20.tiff</td>\n",
       "    </tr>\n",
       "    <tr>\n",
       "      <th>8</th>\n",
       "      <td>6961574204851902771514121910895783633026366677...</td>\n",
       "      <td>image_2015-12-27.tiff</td>\n",
       "    </tr>\n",
       "    <tr>\n",
       "      <th>9</th>\n",
       "      <td>5002256674117198033944511626957774395952212073...</td>\n",
       "      <td>image_2016-01-03.tiff</td>\n",
       "    </tr>\n",
       "  </tbody>\n",
       "</table>\n",
       "</div>"
      ],
      "text/plain": [
       "                                            img_hash              img_names\n",
       "0  1091607921471466197471320860624057188773004451...  image_2015-11-01.tiff\n",
       "1  1091607921471466197471320860624057188773004451...  image_2015-11-08.tiff\n",
       "2  1676167099316596445726177491484980871959795168...  image_2015-11-15.tiff\n",
       "3  1676167099316596445726177491484980871959795168...  image_2015-11-22.tiff\n",
       "4  7724013697536937987845616888277379788556029817...  image_2015-11-29.tiff\n",
       "5  7724013697536937987845616888277379788556029817...  image_2015-12-06.tiff\n",
       "6  5503212480303279559998871321964589179332529777...  image_2015-12-13.tiff\n",
       "7  6189771569842886873967833953803454360415844098...  image_2015-12-20.tiff\n",
       "8  6961574204851902771514121910895783633026366677...  image_2015-12-27.tiff\n",
       "9  5002256674117198033944511626957774395952212073...  image_2016-01-03.tiff"
      ]
     },
     "execution_count": 11,
     "metadata": {},
     "output_type": "execute_result"
    }
   ],
   "source": [
    "df.head(10)"
   ]
  },
  {
   "cell_type": "code",
   "execution_count": 12,
   "metadata": {
    "colab": {
     "base_uri": "https://localhost:8080/",
     "height": 455
    },
    "id": "Mkzrb-n1QZEv",
    "outputId": "f843d154-9086-4151-c0b9-ce057b4fe61c"
   },
   "outputs": [
    {
     "data": {
      "text/html": [
       "<div>\n",
       "<style scoped>\n",
       "    .dataframe tbody tr th:only-of-type {\n",
       "        vertical-align: middle;\n",
       "    }\n",
       "\n",
       "    .dataframe tbody tr th {\n",
       "        vertical-align: top;\n",
       "    }\n",
       "\n",
       "    .dataframe thead th {\n",
       "        text-align: right;\n",
       "    }\n",
       "</style>\n",
       "<table border=\"1\" class=\"dataframe\">\n",
       "  <thead>\n",
       "    <tr style=\"text-align: right;\">\n",
       "      <th></th>\n",
       "      <th>img_names</th>\n",
       "    </tr>\n",
       "    <tr>\n",
       "      <th>img_hash</th>\n",
       "      <th></th>\n",
       "    </tr>\n",
       "  </thead>\n",
       "  <tbody>\n",
       "    <tr>\n",
       "      <th>1511215997078489628766310105917801773720416964787076664</th>\n",
       "      <td>4</td>\n",
       "    </tr>\n",
       "    <tr>\n",
       "      <th>1520854770397563050386043240890401162234513274286665791</th>\n",
       "      <td>2</td>\n",
       "    </tr>\n",
       "    <tr>\n",
       "      <th>10727801266265776719354609680168168338454167857194045380</th>\n",
       "      <td>1</td>\n",
       "    </tr>\n",
       "    <tr>\n",
       "      <th>10748789240474012982011772105264631513986788629002944575</th>\n",
       "      <td>1</td>\n",
       "    </tr>\n",
       "    <tr>\n",
       "      <th>10916078495537973027932069640448047990922841633635663872</th>\n",
       "      <td>2</td>\n",
       "    </tr>\n",
       "    <tr>\n",
       "      <th>...</th>\n",
       "      <td>...</td>\n",
       "    </tr>\n",
       "    <tr>\n",
       "      <th>6266350362369775518843310495745965591161921920124474912824</th>\n",
       "      <td>2</td>\n",
       "    </tr>\n",
       "    <tr>\n",
       "      <th>6271717422969419381372389995423558697724308186710597927423</th>\n",
       "      <td>9</td>\n",
       "    </tr>\n",
       "    <tr>\n",
       "      <th>6275571864622807388533218862811154864751461513534361309176</th>\n",
       "      <td>1</td>\n",
       "    </tr>\n",
       "    <tr>\n",
       "      <th>6275757853198700982763580531504385642126250143735452267000</th>\n",
       "      <td>1</td>\n",
       "    </tr>\n",
       "    <tr>\n",
       "      <th>6276910547587086737417697208996944622806373009552763515384</th>\n",
       "      <td>3</td>\n",
       "    </tr>\n",
       "  </tbody>\n",
       "</table>\n",
       "<p>91 rows × 1 columns</p>\n",
       "</div>"
      ],
      "text/plain": [
       "                                                    img_names\n",
       "img_hash                                                     \n",
       "15112159970784896287663101059178017737204169647...          4\n",
       "15208547703975630503860432408904011622345132742...          2\n",
       "10727801266265776719354609680168168338454167857...          1\n",
       "10748789240474012982011772105264631513986788629...          1\n",
       "10916078495537973027932069640448047990922841633...          2\n",
       "...                                                       ...\n",
       "62663503623697755188433104957459655911619219201...          2\n",
       "62717174229694193813723899954235586977243081867...          9\n",
       "62755718646228073885332188628111548647514615135...          1\n",
       "62757578531987009827635805315043856421262501437...          1\n",
       "62769105475870867374176972089969446228063730095...          3\n",
       "\n",
       "[91 rows x 1 columns]"
      ]
     },
     "execution_count": 12,
     "metadata": {},
     "output_type": "execute_result"
    }
   ],
   "source": [
    "df.groupby(\"img_hash\").count()"
   ]
  },
  {
   "cell_type": "code",
   "execution_count": 13,
   "metadata": {
    "colab": {
     "base_uri": "https://localhost:8080/",
     "height": 677
    },
    "id": "ASaj_1EQVcZn",
    "outputId": "78526b03-eb72-4c0f-beb7-e37d453e5b63"
   },
   "outputs": [
    {
     "data": {
      "text/html": [
       "<div>\n",
       "<style scoped>\n",
       "    .dataframe tbody tr th:only-of-type {\n",
       "        vertical-align: middle;\n",
       "    }\n",
       "\n",
       "    .dataframe tbody tr th {\n",
       "        vertical-align: top;\n",
       "    }\n",
       "\n",
       "    .dataframe thead th {\n",
       "        text-align: right;\n",
       "    }\n",
       "</style>\n",
       "<table border=\"1\" class=\"dataframe\">\n",
       "  <thead>\n",
       "    <tr style=\"text-align: right;\">\n",
       "      <th></th>\n",
       "      <th>img_hash</th>\n",
       "      <th>img_names</th>\n",
       "    </tr>\n",
       "  </thead>\n",
       "  <tbody>\n",
       "    <tr>\n",
       "      <th>0</th>\n",
       "      <td>6271717422969419381372389995423558697724308186...</td>\n",
       "      <td>9</td>\n",
       "    </tr>\n",
       "    <tr>\n",
       "      <th>1</th>\n",
       "      <td>1511215997078489628766310105917801773720416964...</td>\n",
       "      <td>4</td>\n",
       "    </tr>\n",
       "    <tr>\n",
       "      <th>2</th>\n",
       "      <td>9654984389596686701765423309280580319799290041...</td>\n",
       "      <td>4</td>\n",
       "    </tr>\n",
       "    <tr>\n",
       "      <th>3</th>\n",
       "      <td>9518496501045979567061098626550218369302993835...</td>\n",
       "      <td>4</td>\n",
       "    </tr>\n",
       "    <tr>\n",
       "      <th>4</th>\n",
       "      <td>7710338368852537362275078422939206409274601072...</td>\n",
       "      <td>4</td>\n",
       "    </tr>\n",
       "    <tr>\n",
       "      <th>5</th>\n",
       "      <td>1478855249898705826618394248165188935761841929...</td>\n",
       "      <td>3</td>\n",
       "    </tr>\n",
       "    <tr>\n",
       "      <th>6</th>\n",
       "      <td>7723780975120902776667310505274980179714418419...</td>\n",
       "      <td>3</td>\n",
       "    </tr>\n",
       "    <tr>\n",
       "      <th>7</th>\n",
       "      <td>7739099156344114614346913136308905042607309414...</td>\n",
       "      <td>3</td>\n",
       "    </tr>\n",
       "    <tr>\n",
       "      <th>8</th>\n",
       "      <td>8718971720150049768676085623930191356242947130...</td>\n",
       "      <td>3</td>\n",
       "    </tr>\n",
       "    <tr>\n",
       "      <th>9</th>\n",
       "      <td>8813735509949726774530903123273531825417570961...</td>\n",
       "      <td>3</td>\n",
       "    </tr>\n",
       "  </tbody>\n",
       "</table>\n",
       "</div>"
      ],
      "text/plain": [
       "                                            img_hash  img_names\n",
       "0  6271717422969419381372389995423558697724308186...          9\n",
       "1  1511215997078489628766310105917801773720416964...          4\n",
       "2  9654984389596686701765423309280580319799290041...          4\n",
       "3  9518496501045979567061098626550218369302993835...          4\n",
       "4  7710338368852537362275078422939206409274601072...          4\n",
       "5  1478855249898705826618394248165188935761841929...          3\n",
       "6  7723780975120902776667310505274980179714418419...          3\n",
       "7  7739099156344114614346913136308905042607309414...          3\n",
       "8  8718971720150049768676085623930191356242947130...          3\n",
       "9  8813735509949726774530903123273531825417570961...          3"
      ]
     },
     "metadata": {},
     "output_type": "display_data"
    },
    {
     "name": "stdout",
     "output_type": "stream",
     "text": [
      "164\n"
     ]
    },
    {
     "data": {
      "text/plain": [
       "Text(0.5, 1.0, 'hashes per img')"
      ]
     },
     "execution_count": 13,
     "metadata": {},
     "output_type": "execute_result"
    },
    {
     "data": {
      "image/png": "[encoded data removed]",
      "text/plain": [
       "<Figure size 640x480 with 1 Axes>"
      ]
     },
     "metadata": {},
     "output_type": "display_data"
    }
   ],
   "source": [
    "num_img_per_hash = df.groupby(\"img_hash\").size().sort_values(ascending = False).reset_index(name = \"img_names\")\n",
    "display(num_img_per_hash.head(10))\n",
    "print(sum(num_img_per_hash[\"img_names\"]))\n",
    "num_img_per_hash.hist(\"img_names\", bins = 20)\n",
    "plt.xlabel('# Repeated hashes')\n",
    "plt.title('hashes per img')"
   ]
  },
  {
   "cell_type": "code",
   "execution_count": 14,
   "metadata": {
    "colab": {
     "base_uri": "https://localhost:8080/"
    },
    "id": "dYDrGaxnWkvy",
    "outputId": "84ad5d79-e28b-48ec-de0e-1a4d1dd6f80d"
   },
   "outputs": [
    {
     "data": {
      "text/plain": [
       "img_hash     91\n",
       "img_names     5\n",
       "dtype: int64"
      ]
     },
     "execution_count": 14,
     "metadata": {},
     "output_type": "execute_result"
    }
   ],
   "source": [
    "num_img_per_hash.nunique()"
   ]
  },
  {
   "cell_type": "markdown",
   "metadata": {},
   "source": [
    "### Plotting Frequency vs # images"
   ]
  },
  {
   "cell_type": "code",
   "execution_count": 22,
   "metadata": {},
   "outputs": [
    {
     "data": {
      "text/html": [
       "<div>\n",
       "<style scoped>\n",
       "    .dataframe tbody tr th:only-of-type {\n",
       "        vertical-align: middle;\n",
       "    }\n",
       "\n",
       "    .dataframe tbody tr th {\n",
       "        vertical-align: top;\n",
       "    }\n",
       "\n",
       "    .dataframe thead th {\n",
       "        text-align: right;\n",
       "    }\n",
       "</style>\n",
       "<table border=\"1\" class=\"dataframe\">\n",
       "  <thead>\n",
       "    <tr style=\"text-align: right;\">\n",
       "      <th></th>\n",
       "      <th>img_hash</th>\n",
       "      <th>img_names</th>\n",
       "    </tr>\n",
       "  </thead>\n",
       "  <tbody>\n",
       "    <tr>\n",
       "      <th>0</th>\n",
       "      <td>6271717422969419381372389995423558697724308186...</td>\n",
       "      <td>9</td>\n",
       "    </tr>\n",
       "    <tr>\n",
       "      <th>1</th>\n",
       "      <td>1511215997078489628766310105917801773720416964...</td>\n",
       "      <td>4</td>\n",
       "    </tr>\n",
       "    <tr>\n",
       "      <th>2</th>\n",
       "      <td>9654984389596686701765423309280580319799290041...</td>\n",
       "      <td>4</td>\n",
       "    </tr>\n",
       "    <tr>\n",
       "      <th>3</th>\n",
       "      <td>9518496501045979567061098626550218369302993835...</td>\n",
       "      <td>4</td>\n",
       "    </tr>\n",
       "    <tr>\n",
       "      <th>4</th>\n",
       "      <td>7710338368852537362275078422939206409274601072...</td>\n",
       "      <td>4</td>\n",
       "    </tr>\n",
       "    <tr>\n",
       "      <th>5</th>\n",
       "      <td>1478855249898705826618394248165188935761841929...</td>\n",
       "      <td>3</td>\n",
       "    </tr>\n",
       "    <tr>\n",
       "      <th>6</th>\n",
       "      <td>7723780975120902776667310505274980179714418419...</td>\n",
       "      <td>3</td>\n",
       "    </tr>\n",
       "    <tr>\n",
       "      <th>7</th>\n",
       "      <td>7739099156344114614346913136308905042607309414...</td>\n",
       "      <td>3</td>\n",
       "    </tr>\n",
       "    <tr>\n",
       "      <th>8</th>\n",
       "      <td>8718971720150049768676085623930191356242947130...</td>\n",
       "      <td>3</td>\n",
       "    </tr>\n",
       "    <tr>\n",
       "      <th>9</th>\n",
       "      <td>8813735509949726774530903123273531825417570961...</td>\n",
       "      <td>3</td>\n",
       "    </tr>\n",
       "  </tbody>\n",
       "</table>\n",
       "</div>"
      ],
      "text/plain": [
       "                                            img_hash  img_names\n",
       "0  6271717422969419381372389995423558697724308186...          9\n",
       "1  1511215997078489628766310105917801773720416964...          4\n",
       "2  9654984389596686701765423309280580319799290041...          4\n",
       "3  9518496501045979567061098626550218369302993835...          4\n",
       "4  7710338368852537362275078422939206409274601072...          4\n",
       "5  1478855249898705826618394248165188935761841929...          3\n",
       "6  7723780975120902776667310505274980179714418419...          3\n",
       "7  7739099156344114614346913136308905042607309414...          3\n",
       "8  8718971720150049768676085623930191356242947130...          3\n",
       "9  8813735509949726774530903123273531825417570961...          3"
      ]
     },
     "metadata": {},
     "output_type": "display_data"
    },
    {
     "name": "stdout",
     "output_type": "stream",
     "text": [
      "164\n"
     ]
    },
    {
     "data": {
      "text/plain": [
       "<Figure size 640x480 with 0 Axes>"
      ]
     },
     "metadata": {},
     "output_type": "display_data"
    },
    {
     "data": {
      "image/png": "[encoded data removed]",
      "text/plain": [
       "<Figure size 640x480 with 1 Axes>"
      ]
     },
     "metadata": {},
     "output_type": "display_data"
    }
   ],
   "source": [
    "num_img_per_hash = df.groupby(\"img_hash\").size().sort_values(ascending = False).reset_index(name = \"img_names\")\n",
    "display(num_img_per_hash.head(10))\n",
    "print(sum(num_img_per_hash[\"img_names\"]))\n",
    "\n",
    "def bins_labels(bins, **kwargs):\n",
    "    bin_w = (max(bins) - min(bins)) / (len(bins) - 1)\n",
    "    plt.xticks(np.arange(min(bins)+bin_w/2, max(bins), bin_w), bins, **kwargs)\n",
    "    plt.xlim(bins[0], bins[-1])\n",
    "ax = plt.figure()\n",
    "num_img_per_hash.hist(\"img_names\", bins = 20, orientation = \"horizontal\",  color='#86bf91', edgecolor='black', linewidth=1.2,align='mid')\n",
    "\n",
    "plt.xlabel(\"Number of Encrypted images\")\n",
    "plt.ylabel(\"Relative Frequency\")\n",
    "plt.title('')\n",
    "plt.ylim(1, num_img_per_hash.img_names[0])\n",
    "plt.grid(False)\n",
    "\n",
    "# ------- \n",
    "# make the y ticks integers, not floats\n",
    "yint = []\n",
    "locs, labels = plt.yticks()\n",
    "for each in locs:\n",
    "    yint.append(int(each))\n",
    "plt.yticks(yint)\n",
    "# -------\n",
    "plt.savefig('plot2.png', transparent=True)\n"
   ]
  },
  {
   "cell_type": "code",
   "execution_count": 83,
   "metadata": {},
   "outputs": [
    {
     "data": {
      "text/html": [
       "<div>\n",
       "<style scoped>\n",
       "    .dataframe tbody tr th:only-of-type {\n",
       "        vertical-align: middle;\n",
       "    }\n",
       "\n",
       "    .dataframe tbody tr th {\n",
       "        vertical-align: top;\n",
       "    }\n",
       "\n",
       "    .dataframe thead th {\n",
       "        text-align: right;\n",
       "    }\n",
       "</style>\n",
       "<table border=\"1\" class=\"dataframe\">\n",
       "  <thead>\n",
       "    <tr style=\"text-align: right;\">\n",
       "      <th></th>\n",
       "      <th>img_hash</th>\n",
       "      <th>img_names</th>\n",
       "    </tr>\n",
       "  </thead>\n",
       "  <tbody>\n",
       "    <tr>\n",
       "      <th>0</th>\n",
       "      <td>6271717422969419381372389995423558697724308186...</td>\n",
       "      <td>9</td>\n",
       "    </tr>\n",
       "    <tr>\n",
       "      <th>1</th>\n",
       "      <td>1511215997078489628766310105917801773720416964...</td>\n",
       "      <td>4</td>\n",
       "    </tr>\n",
       "    <tr>\n",
       "      <th>2</th>\n",
       "      <td>9654984389596686701765423309280580319799290041...</td>\n",
       "      <td>4</td>\n",
       "    </tr>\n",
       "    <tr>\n",
       "      <th>3</th>\n",
       "      <td>9518496501045979567061098626550218369302993835...</td>\n",
       "      <td>4</td>\n",
       "    </tr>\n",
       "    <tr>\n",
       "      <th>4</th>\n",
       "      <td>7710338368852537362275078422939206409274601072...</td>\n",
       "      <td>4</td>\n",
       "    </tr>\n",
       "    <tr>\n",
       "      <th>5</th>\n",
       "      <td>1478855249898705826618394248165188935761841929...</td>\n",
       "      <td>3</td>\n",
       "    </tr>\n",
       "    <tr>\n",
       "      <th>6</th>\n",
       "      <td>7723780975120902776667310505274980179714418419...</td>\n",
       "      <td>3</td>\n",
       "    </tr>\n",
       "    <tr>\n",
       "      <th>7</th>\n",
       "      <td>7739099156344114614346913136308905042607309414...</td>\n",
       "      <td>3</td>\n",
       "    </tr>\n",
       "    <tr>\n",
       "      <th>8</th>\n",
       "      <td>8718971720150049768676085623930191356242947130...</td>\n",
       "      <td>3</td>\n",
       "    </tr>\n",
       "    <tr>\n",
       "      <th>9</th>\n",
       "      <td>8813735509949726774530903123273531825417570961...</td>\n",
       "      <td>3</td>\n",
       "    </tr>\n",
       "  </tbody>\n",
       "</table>\n",
       "</div>"
      ],
      "text/plain": [
       "                                            img_hash  img_names\n",
       "0  6271717422969419381372389995423558697724308186...          9\n",
       "1  1511215997078489628766310105917801773720416964...          4\n",
       "2  9654984389596686701765423309280580319799290041...          4\n",
       "3  9518496501045979567061098626550218369302993835...          4\n",
       "4  7710338368852537362275078422939206409274601072...          4\n",
       "5  1478855249898705826618394248165188935761841929...          3\n",
       "6  7723780975120902776667310505274980179714418419...          3\n",
       "7  7739099156344114614346913136308905042607309414...          3\n",
       "8  8718971720150049768676085623930191356242947130...          3\n",
       "9  8813735509949726774530903123273531825417570961...          3"
      ]
     },
     "metadata": {},
     "output_type": "display_data"
    },
    {
     "name": "stdout",
     "output_type": "stream",
     "text": [
      "164\n"
     ]
    },
    {
     "data": {
      "text/plain": [
       "<Figure size 640x480 with 0 Axes>"
      ]
     },
     "metadata": {},
     "output_type": "display_data"
    },
    {
     "data": {
      "image/png": "[encoded data removed]",
      "text/plain": [
       "<Figure size 640x480 with 1 Axes>"
      ]
     },
     "metadata": {},
     "output_type": "display_data"
    }
   ],
   "source": [
    "num_img_per_hash = df.groupby(\"img_hash\").size().sort_values(ascending = False).reset_index(name = \"img_names\")\n",
    "display(num_img_per_hash.head(10))\n",
    "print(sum(num_img_per_hash[\"img_names\"]))\n",
    "\n",
    "\n",
    "ax = plt.figure()\n",
    "num_img_per_hash.hist(\"img_names\", bins =range(20), orientation = \"vertical\",  color='#86bf91',  edgecolor='black', linewidth=1.2, align=\"left\")\n",
    "plt.xlabel(\"Number of times an image is repeated\")\n",
    "plt.ylabel(\"Number of Encrypted images\")\n",
    "plt.title('')\n",
    "plt.xlim(0, num_img_per_hash.img_names[0])\n",
    "plt.grid(False)\n",
    "\n",
    "# ------- \n",
    "# make the y ticks integers, not floats\n",
    "xint = []\n",
    "locs, labels = plt.xticks()\n",
    "for each in locs:\n",
    "    xint.append(int(each))\n",
    "plt.xticks(xint)\n",
    "# -------\n",
    "plt.savefig('plot2.png', transparent=True)\n"
   ]
  },
  {
   "cell_type": "code",
   "execution_count": 74,
   "metadata": {},
   "outputs": [
    {
     "data": {
      "image/png": "[encoded data removed]",
      "text/plain": [
       "<Figure size 640x480 with 1 Axes>"
      ]
     },
     "metadata": {},
     "output_type": "display_data"
    }
   ],
   "source": [
    "sns.histplot(data=num_img_per_hash,bins=n_bins, x=\"img_hash\")\n",
    "plt.xlabel(\"Number of times an image is repeated\")\n",
    "plt.ylabel(\"Number of Encrypted images\")\n",
    "plt.title('')\n",
    "plt.grid(False)"
   ]
  },
  {
   "cell_type": "markdown",
   "metadata": {
    "id": "lovUfk4YWfQq"
   },
   "source": [
    "* **Remarks on image hashing for high-cloud inteference**\n",
    "\n",
    "The data used corresponds to Dengue Satellite data of Colombia, extracted for MIT critical Data Colombia, in open-source collaboration with the University of Bordeaux, Autonomous University of Madrid, and Pázmány Péter Catholic University. \n",
    "\n",
    "[Satellite-collector](https://github.com/sebasmos/satellite.extractor/blob/main/linux/request_multiple_images_by_slots.py) algorithm selects the best image per week when there is an image with the least interference during the same week; if otherwise - when all images are totally occluded due to cloud interference, an extra day from the following week is added into the epiweek consecutively, until a better image than the ones within this pool is captured.\n",
    "\n",
    "Despite the mosaicking order is based on the LeastCC algorithm, the fact that there can be cloud-occluded images during months means that there can be images that can be repeated a certain number of times within the downloaded dataset (around a month would be reasonable in most places, but this would depend of the local ecosystems and satellite measurement conditions). As examplified by the worst-case scenario, when every day it is totally covered by clouds, we expect to encounter cases when a very same image (with the same hash) might be repeated several times, e.g. in the case of some tropical areas like Amazonas (one of the most tropical places on earth), it can be cloudy up to 4 consecutive months from December to April, meaning that an image could be repeated up to 16 times in a row. \n",
    "\n",
    "The most effective way to analyse this periodic behaviour is using hashes, which maps a data structure of arbitrary size to fixed-sized data. In our case, we use the hashes to create a hash-image dictionary and compare how often the images repeat over the entire dataset tagged by the name correspoding to the image. On the case above, we counted with the satellite data extracted from [satellite extractor](https://github.com/sebasmos/satellite.extractor), which contains 146 images from the city of Medellin and from which we observed that two images repeated a maximum number of three times, meaning that this city was totally occluded by clouds during a month. In order to download the images from sentinel-hub API, a script request is configured using the least amount of clouds per epi week where the satellite image with least amount of clouds is selected to create a curated dataset.  *However this is not common, as it can be seen that there are duplicated images for less than 18 images out of 146, whilst all the other images preserve a unique hash, meaning that each image is unique in resolution and is different from each other in 80 % of the time for the city of Medellin*. A similar analysis can be performed for any dataset, from any city and from any type of dataset.  \n",
    "\n",
    "\n",
    "From this analysis, we concluded that the images we downloaded are each unique and can be used for change-detection analysis and dengue forecasting, as there are geographical places where rainy days can last for months and therefore it is natural to encounter totally occluded images during certain months, however this can be represented in less than 15 % of the data, meaning that more pre-processing could be performed to deal with the cloud interference problem. Besides, vector-borne diseases are highly correlated with coulds as they relate to temperature, so there might be a relationship between mosquito migration sparsity and the 15% of cloud interference on this dataset.\n"
   ]
  }
 ],
 "metadata": {
  "colab": {
   "include_colab_link": true,
   "name": "satellite_images_hashing.ipynb",
   "provenance": []
  },
  "kernelspec": {
   "display_name": "Python 3.9.7 ('sebasmos')",
   "language": "python",
   "name": "python3"
  },
  "language_info": {
   "codemirror_mode": {
    "name": "ipython",
    "version": 3
   },
   "file_extension": ".py",
   "mimetype": "text/x-python",
   "name": "python",
   "nbconvert_exporter": "python",
   "pygments_lexer": "ipython3",
   "version": "3.9.13"
  },
  "vscode": {
   "interpreter": {
    "hash": "ad1edc83c8a3ba973d0a5ed89f8d56b42dac8fe366158fcfa7dfa82a998d469f"
   }
  }
 },
 "nbformat": 4,
 "nbformat_minor": 4
}
