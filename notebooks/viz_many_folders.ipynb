{
 "cells": [
  {
   "cell_type": "code",
   "execution_count": null,
   "metadata": {},
   "outputs": [],
   "source": [
    "import glob\n",
    "import os\n",
    "import matplotlib.pyplot as plt\n",
    "from skimage import io\n",
    "import skimage\n",
    "import numpy as np\n",
    "from matplotlib.backends.backend_pdf import PdfPages\n",
    "import random\n",
    "import sys\n",
    "sys.path.insert(0,'../') \n",
    "import satellite_extractor.utils as utils"
   ]
  },
  {
   "cell_type": "code",
   "execution_count": null,
   "metadata": {},
   "outputs": [],
   "source": [
    "#data = \"/Users/sebasmos/Downloads/unlabeled-5-top-cities-16-bit-depth\"\n",
    "data = \"/Users/sebasmos/Desktop/satellite.extractor/notebooks/DATASET_final\""
   ]
  },
  {
   "cell_type": "code",
   "execution_count": null,
   "metadata": {},
   "outputs": [],
   "source": [
    "folders = glob.glob(os.path.join(data, '*'))\n",
    "pdf_pages = PdfPages(\"output.pdf\")\n",
    "\n",
    "for i, folder in enumerate(folders):\n",
    "    tiff_files = glob.glob(os.path.join(folder, '*.tiff'))\n",
    "    random.shuffle(tiff_files)\n",
    "    selected_files = tiff_files[:10]\n",
    "\n",
    "    fig, axes = plt.subplots(2, 5, figsize=(12, 6))\n",
    "\n",
    "    for j, tiff_file in enumerate(selected_files):\n",
    "        image = utils.read_tiff(tiff_file)\n",
    "        image = np.array(image)\n",
    "        image = image[:, :, 1:4]\n",
    "        axes[j // 5, j % 5].imshow(image)\n",
    "\n",
    "        folder_name = os.path.basename(folder)\n",
    "        file_name = os.path.basename(tiff_file)\n",
    "        title = f\"{folder_name} \\n{file_name}\"\n",
    "        axes[j // 5, j % 5].set_title(title)\n",
    "        axes[j // 5, j % 5].axis('off')\n",
    "\n",
    "    pdf_pages.savefig(fig)\n",
    "    plt.close(fig)\n",
    "\n",
    "pdf_pages.close()"
   ]
  },
  {
   "cell_type": "code",
   "execution_count": null,
   "metadata": {},
   "outputs": [],
   "source": [
    "import glob\n",
    "import os\n",
    "import matplotlib.pyplot as plt\n",
    "from skimage import io, exposure\n",
    "import numpy as np\n",
    "from matplotlib.backends.backend_pdf import PdfPages\n",
    "import random\n",
    "folders = glob.glob(os.path.join(data, '*'))\n",
    "pdf_pages = PdfPages(\"output.pdf\")\n",
    "\n",
    "for i, folder in enumerate(folders):\n",
    "    selected_files = glob.glob(os.path.join(folder, '*.tiff'))\n",
    "\n",
    "    for j, tiff_file in enumerate(selected_files):\n",
    "        fig, axes = plt.subplots(1, 1, figsize=(6, 6))\n",
    "        \n",
    "        image = utils.read_tiff(tiff_file)\n",
    "        image = np.array(image)\n",
    "        image = image[:, :, 1:4]\n",
    "        axes.imshow(image)\n",
    "\n",
    "        folder_name = os.path.basename(folder)\n",
    "        file_name = os.path.basename(tiff_file)\n",
    "        title = f\"{folder_name} \\n{file_name}\"\n",
    "        axes.set_title(title)\n",
    "        axes.axis('off')\n",
    "\n",
    "        plt.show()"
   ]
  }
 ],
 "metadata": {
  "kernelspec": {
   "display_name": "sebasmos",
   "language": "python",
   "name": "python3"
  },
  "language_info": {
   "codemirror_mode": {
    "name": "ipython",
    "version": 3
   },
   "file_extension": ".py",
   "mimetype": "text/x-python",
   "name": "python",
   "nbconvert_exporter": "python",
   "pygments_lexer": "ipython3",
   "version": "3.9.17"
  },
  "orig_nbformat": 4
 },
 "nbformat": 4,
 "nbformat_minor": 2
}
