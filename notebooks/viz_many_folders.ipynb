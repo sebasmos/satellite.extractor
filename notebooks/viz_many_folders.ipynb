{
 "cells": [
  {
   "cell_type": "code",
   "execution_count": null,
   "metadata": {},
   "outputs": [],
   "source": [
    "import glob\n",
    "import os\n",
    "import matplotlib.pyplot as plt\n",
    "from skimage import io\n",
    "import skimage\n",
    "import numpy as np\n",
    "from matplotlib.backends.backend_pdf import PdfPages\n",
    "import random\n",
    "import sys\n",
    "sys.path.insert(0,'../') \n",
    "import satellite_extractor.utils as utils"
   ]
  },
  {
   "cell_type": "code",
   "execution_count": null,
   "metadata": {
    "tags": []
   },
   "outputs": [],
   "source": [
    "NUM = 30\n",
    "file_name = \"grid_final.pdf\"\n",
    "\n",
    "data = \"/media/enc/vera1/sebastian/codes/satellite.extractor/notebooks/DATASET_rio_de_janeiro/DATASET_rio_de_janeiro_fordward_backwardv2/\""
   ]
  },
  {
   "cell_type": "markdown",
   "metadata": {},
   "source": [
    "### Visualize `NUM` images"
   ]
  },
  {
   "cell_type": "code",
   "execution_count": null,
   "metadata": {
    "tags": []
   },
   "outputs": [],
   "source": [
    "# Define the number of images per page and number of columns\n",
    "NUM_IMAGES_PER_PAGE = 3\n",
    "NUM_COLS = 3\n",
    "\n",
    "folders = glob.glob(os.path.join(data, '*'))\n",
    "pdf_pages = PdfPages(file_name)\n",
    "\n",
    "for i, folder in enumerate(folders):\n",
    "    tiff_files = glob.glob(os.path.join(folder, '*.tiff'))\n",
    "    random.shuffle(tiff_files)\n",
    "\n",
    "    for idx in range(0, len(tiff_files), NUM_IMAGES_PER_PAGE):\n",
    "        fig, axes = plt.subplots(1, NUM_COLS, figsize=(16, 4))\n",
    "\n",
    "        for j, tiff_file in enumerate(tiff_files[idx:idx + NUM_IMAGES_PER_PAGE]):\n",
    "            col_idx = j % NUM_COLS\n",
    "            ax = axes[col_idx]\n",
    "\n",
    "            if j < len(tiff_files[idx:idx + NUM_IMAGES_PER_PAGE]):\n",
    "                image = utils.read_tiff(tiff_file)\n",
    "                image = np.array(image)\n",
    "                image = image[:, :, 1:4]\n",
    "                ax.imshow(image)\n",
    "\n",
    "                folder_name = os.path.basename(folder)\n",
    "                file_name = os.path.basename(tiff_file)\n",
    "                title = f\"{file_name}\"\n",
    "                ax.set_title(title)\n",
    "                ax.axis('off')\n",
    "            else:\n",
    "                ax.axis('off')\n",
    "\n",
    "        pdf_pages.savefig(fig)\n",
    "        plt.show()\n",
    "        plt.close(fig)\n",
    "\n",
    "pdf_pages.close()"
   ]
  },
  {
   "cell_type": "code",
   "execution_count": null,
   "metadata": {},
   "outputs": [],
   "source": [
    "folders = glob.glob(os.path.join(data, '*'))\n",
    "\n",
    "pdf_pages = PdfPages(file_name)\n",
    "\n",
    "for i, folder in enumerate(folders):\n",
    "    tiff_files = glob.glob(os.path.join(folder, '*.tiff'))\n",
    "    random.shuffle(tiff_files)\n",
    "    selected_files = tiff_files[:10]\n",
    "\n",
    "    fig, axes = plt.subplots(2, 5, figsize=(12, 6))\n",
    "\n",
    "    for j, tiff_file in enumerate(selected_files):\n",
    "        image = utils.read_tiff(tiff_file)\n",
    "        image = np.array(image)\n",
    "        image = image[:, :, 1:4]\n",
    "        axes[j // 5, j % 5].imshow(image)\n",
    "\n",
    "        folder_name = os.path.basename(folder)\n",
    "        file_name = os.path.basename(tiff_file)\n",
    "        title = f\"{folder_name} \\n{file_name}\"\n",
    "        axes[j // 5, j % 5].set_title(title)\n",
    "        axes[j // 5, j % 5].axis('off')\n",
    "\n",
    "    pdf_pages.savefig(fig)\n",
    "    plt.show()\n",
    "    plt.close(fig)\n",
    "\n",
    "pdf_pages.close()"
   ]
  },
  {
   "cell_type": "code",
   "execution_count": null,
   "metadata": {
    "tags": []
   },
   "outputs": [],
   "source": [
    "import glob\n",
    "import os\n",
    "import matplotlib.pyplot as plt\n",
    "from skimage import io, exposure\n",
    "import numpy as np\n",
    "from matplotlib.backends.backend_pdf import PdfPages\n",
    "import random\n",
    "# folders = glob.glob(os.path.join(data, '*'))\n",
    "# print(folders)\n",
    "pdf_pages = PdfPages(\"output.pdf\")\n",
    "\n",
    "for i, folder in enumerate(folders):\n",
    "    print(folder)\n",
    "    selected_files = glob.glob(os.path.join(folder, '*.tiff'))\n",
    "\n",
    "    for j, tiff_file in enumerate(selected_files):\n",
    "        fig, axes = plt.subplots(1, 1, figsize=(6, 6))\n",
    "        \n",
    "        image = utils.read_tiff(tiff_file)\n",
    "        print(image.shape, tiff_file)\n",
    "        image = np.array(image)\n",
    "        image = image[:, :, 1:4]\n",
    "        axes.imshow(image)\n",
    "\n",
    "        folder_name = os.path.basename(folder)\n",
    "        file_name = os.path.basename(tiff_file)\n",
    "        title = f\"{folder_name} \\n{file_name}\"\n",
    "        axes.set_title(title)\n",
    "        axes.axis('off')\n",
    "\n",
    "        plt.show()"
   ]
  }
 ],
 "metadata": {
  "kernelspec": {
   "display_name": "sebasmos",
   "language": "python",
   "name": "sebasmos"
  },
  "language_info": {
   "codemirror_mode": {
    "name": "ipython",
    "version": 3
   },
   "file_extension": ".py",
   "mimetype": "text/x-python",
   "name": "python",
   "nbconvert_exporter": "python",
   "pygments_lexer": "ipython3",
   "version": "3.10.0"
  }
 },
 "nbformat": 4,
 "nbformat_minor": 4
}
