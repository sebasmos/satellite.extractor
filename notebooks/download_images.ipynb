{
 "cells": [
  {
   "cell_type": "code",
   "execution_count": null,
   "metadata": {
    "tags": []
   },
   "outputs": [],
   "source": [
    "# !pip install sentinelhub epiweeks\n",
    "# ! pip install sentinelhub --upgrade"
   ]
  },
  {
   "cell_type": "code",
   "execution_count": null,
   "metadata": {
    "tags": []
   },
   "outputs": [],
   "source": [
    "import pandas as pd\n",
    "import glob\n",
    "import json\n",
    "import datetime as dt\n",
    "from urllib.parse import unquote\n",
    "import os\n",
    "import shutil\n",
    "from sentinelhub import SHConfig\n",
    "import datetime\n",
    "import numpy as np\n",
    "import matplotlib.pyplot as plt\n",
    "import sys\n",
    "from datetime import timedelta\n",
    "sys.path.insert(0,'../') \n",
    "from sentinelhub import MimeType, CRS, BBox, SentinelHubRequest, SentinelHubDownloadClient, DataCollection, bbox_to_dimensions, DownloadRequest\n",
    "from epiweeks import Week, Year\n",
    "from datetime import date\n",
    "import glob, shutil\n",
    "import argparse\n",
    "import pandas as pd\n",
    "import satellite_extractor.extractor as sat"
   ]
  },
  {
   "cell_type": "code",
   "execution_count": null,
   "metadata": {
    "tags": []
   },
   "outputs": [],
   "source": [
    "cred = pd.read_csv(\"./SentinelHub-credentials.csv\")\n",
    "CLIENT_ID = str(cred.iloc[0,:][0])\n",
    "CLIENT_SECRET = str(cred.iloc[1,:][0])\n",
    "TIMESTAPS = [2018,2024]\n",
    "# projection = CRS.WGS84\n",
    "IMAGE_FORMAT = \"tiff\"\n",
    "COORDINATES_PATH = \"coords_brasil.csv\"\n",
    "service_account = 'ee-account@mit-hst-dengue.iam.gserviceaccount.com'\n",
    "pd.read_csv(COORDINATES_PATH)"
   ]
  },
  {
   "cell_type": "code",
   "execution_count": null,
   "metadata": {
    "tags": []
   },
   "outputs": [],
   "source": [
    "sat.run(TIMESTAPS, CLIENT_ID, CLIENT_SECRET, IMAGE_FORMAT, COORDINATES_PATH )"
   ]
  }
 ],
 "metadata": {
  "kernelspec": {
   "display_name": "sebasmos",
   "language": "python",
   "name": "sebasmos"
  },
  "language_info": {
   "codemirror_mode": {
    "name": "ipython",
    "version": 3
   },
   "file_extension": ".py",
   "mimetype": "text/x-python",
   "name": "python",
   "nbconvert_exporter": "python",
   "pygments_lexer": "ipython3",
   "version": "3.10.0"
  }
 },
 "nbformat": 4,
 "nbformat_minor": 4
}
