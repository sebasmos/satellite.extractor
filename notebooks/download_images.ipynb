{
 "cells": [
  {
   "cell_type": "code",
   "execution_count": 1,
   "metadata": {},
   "outputs": [],
   "source": [
    "# !pip install sentinelhub\n",
    "# ! pip install sentinelhub --upgrade"
   ]
  },
  {
   "cell_type": "code",
   "execution_count": 5,
   "metadata": {},
   "outputs": [],
   "source": [
    "import pandas as pd\n",
    "import glob\n",
    "import json\n",
    "import datetime as dt\n",
    "from urllib.parse import unquote\n",
    "import os\n",
    "import shutil\n",
    "from sentinelhub import SHConfig\n",
    "import datetime\n",
    "import numpy as np\n",
    "import matplotlib.pyplot as plt\n",
    "import sys\n",
    "from datetime import timedelta\n",
    "sys.path.insert(0,'../') \n",
    "from sentinelhub import MimeType, CRS, BBox, SentinelHubRequest, SentinelHubDownloadClient, DataCollection, bbox_to_dimensions, DownloadRequest\n",
    "from epiweeks import Week, Year\n",
    "from datetime import date\n",
    "import glob, shutil\n",
    "import argparse\n",
    "import pandas as pd\n",
    "import satellite_extractor.extractor as sat"
   ]
  },
  {
   "cell_type": "code",
   "execution_count": 6,
   "metadata": {},
   "outputs": [
    {
     "data": {
      "text/html": [
       "<div>\n",
       "<style scoped>\n",
       "    .dataframe tbody tr th:only-of-type {\n",
       "        vertical-align: middle;\n",
       "    }\n",
       "\n",
       "    .dataframe tbody tr th {\n",
       "        vertical-align: top;\n",
       "    }\n",
       "\n",
       "    .dataframe thead th {\n",
       "        text-align: right;\n",
       "    }\n",
       "</style>\n",
       "<table border=\"1\" class=\"dataframe\">\n",
       "  <thead>\n",
       "    <tr style=\"text-align: right;\">\n",
       "      <th></th>\n",
       "      <th>municipalities</th>\n",
       "      <th>coordinates</th>\n",
       "    </tr>\n",
       "  </thead>\n",
       "  <tbody>\n",
       "    <tr>\n",
       "      <th>0</th>\n",
       "      <td>66001</td>\n",
       "      <td>[-75.72818936128422, 4.780567220265693, -75.66...</td>\n",
       "    </tr>\n",
       "    <tr>\n",
       "      <th>1</th>\n",
       "      <td>8758</td>\n",
       "      <td>[-74.80408782342725, 10.886267219435679, -74.7...</td>\n",
       "    </tr>\n",
       "    <tr>\n",
       "      <th>2</th>\n",
       "      <td>20001</td>\n",
       "      <td>[-73.29373625451078, 10.42656721949912, -73.22...</td>\n",
       "    </tr>\n",
       "    <tr>\n",
       "      <th>3</th>\n",
       "      <td>73411</td>\n",
       "      <td>[-75.09469466385747, 4.886867220251423, -75.02...</td>\n",
       "    </tr>\n",
       "    <tr>\n",
       "      <th>4</th>\n",
       "      <td>47001</td>\n",
       "      <td>[-74.23582465024067, 11.202367219391945, -74.1...</td>\n",
       "    </tr>\n",
       "    <tr>\n",
       "      <th>5</th>\n",
       "      <td>54874</td>\n",
       "      <td>[-72.50738614827465, 7.8015672198580575, -72.4...</td>\n",
       "    </tr>\n",
       "    <tr>\n",
       "      <th>6</th>\n",
       "      <td>25307</td>\n",
       "      <td>[-74.8374655192988, 4.269867220334185, -74.770...</td>\n",
       "    </tr>\n",
       "    <tr>\n",
       "      <th>7</th>\n",
       "      <td>50006</td>\n",
       "      <td>[-73.7982521711169, 3.955167220376346, -73.731...</td>\n",
       "    </tr>\n",
       "    <tr>\n",
       "      <th>8</th>\n",
       "      <td>70001</td>\n",
       "      <td>[-75.42971640590683, 9.265667219658512, -75.36...</td>\n",
       "    </tr>\n",
       "    <tr>\n",
       "      <th>9</th>\n",
       "      <td>85001</td>\n",
       "      <td>[-72.42421621593606, 5.296867220196344, -72.35...</td>\n",
       "    </tr>\n",
       "  </tbody>\n",
       "</table>\n",
       "</div>"
      ],
      "text/plain": [
       "   municipalities                                        coordinates\n",
       "0           66001  [-75.72818936128422, 4.780567220265693, -75.66...\n",
       "1            8758  [-74.80408782342725, 10.886267219435679, -74.7...\n",
       "2           20001  [-73.29373625451078, 10.42656721949912, -73.22...\n",
       "3           73411  [-75.09469466385747, 4.886867220251423, -75.02...\n",
       "4           47001  [-74.23582465024067, 11.202367219391945, -74.1...\n",
       "5           54874  [-72.50738614827465, 7.8015672198580575, -72.4...\n",
       "6           25307  [-74.8374655192988, 4.269867220334185, -74.770...\n",
       "7           50006  [-73.7982521711169, 3.955167220376346, -73.731...\n",
       "8           70001  [-75.42971640590683, 9.265667219658512, -75.36...\n",
       "9           85001  [-72.42421621593606, 5.296867220196344, -72.35..."
      ]
     },
     "execution_count": 6,
     "metadata": {},
     "output_type": "execute_result"
    }
   ],
   "source": [
    "cred = pd.read_csv(\"/Users/sebasmos/Desktop/satellite.extractor/satellite_extractor/satellite-extractor-dockerized/data_config/SentinelHub-credentials.csv\")\n",
    "CLIENT_ID = str(cred.iloc[0,:][0])\n",
    "CLIENT_SECRET = str(cred.iloc[1,:][0])\n",
    "TIMESTAPS = [2016,2018]\n",
    "# projection = CRS.WGS84\n",
    "IMAGE_FORMAT = \"tiff\"\n",
    "COORDINATES_PATH = \"/Users/sebasmos/Desktop/satellite.extractor/data/10_municipalities_full.csv\"\n",
    "service_account = 'ee-account@mit-hst-dengue.iam.gserviceaccount.com'\n",
    "pd.read_csv(COORDINATES_PATH)"
   ]
  },
  {
   "cell_type": "code",
   "execution_count": 7,
   "metadata": {},
   "outputs": [
    {
     "name": "stdout",
     "output_type": "stream",
     "text": [
      "City: 66001 - Coordinates: [-75.72818936128422, 4.780567220265693, -75.66090363403895, 4.848045747318066]\n",
      "Year: 2016\n",
      "Week: 1\n",
      "Requested week slot: 01/03/2016 - 01/10/2016 \n"
     ]
    },
    {
     "ename": "CustomOAuth2Error",
     "evalue": "({'status': 400, 'reason': 'Bad Request', 'message': 'Illegal client_id', 'code': 'OAUTH_ERROR'}) ",
     "output_type": "error",
     "traceback": [
      "\u001b[0;31m---------------------------------------------------------------------------\u001b[0m",
      "\u001b[0;31mCustomOAuth2Error\u001b[0m                         Traceback (most recent call last)",
      "\u001b[1;32m/Users/sebasmos/Desktop/satellite.extractor/notebooks/download_images.ipynb Cell 4\u001b[0m line \u001b[0;36m1\n\u001b[0;32m----> <a href='vscode-notebook-cell:/Users/sebasmos/Desktop/satellite.extractor/notebooks/download_images.ipynb#W3sZmlsZQ%3D%3D?line=0'>1</a>\u001b[0m sat\u001b[39m.\u001b[39;49mrun(TIMESTAPS, CLIENT_ID, CLIENT_SECRET, IMAGE_FORMAT, COORDINATES_PATH )\n",
      "File \u001b[0;32m~/Desktop/satellite.extractor/notebooks/../satellite_extractor/extractor.py:136\u001b[0m, in \u001b[0;36mrun\u001b[0;34m(TIMESTAPS, CLIENT_ID, CLIENT_SECRET, IMAGE_FORMAT, COORDINATES_PATH)\u001b[0m\n\u001b[1;32m    133\u001b[0m \u001b[39mprint\u001b[39m(\u001b[39mf\u001b[39m\u001b[39m\"\u001b[39m\u001b[39mCity: \u001b[39m\u001b[39m{\u001b[39;00mrow[\u001b[39m'\u001b[39m\u001b[39mmunicipalities\u001b[39m\u001b[39m'\u001b[39m]\u001b[39m}\u001b[39;00m\u001b[39m - Coordinates: \u001b[39m\u001b[39m{\u001b[39;00mrow[\u001b[39m'\u001b[39m\u001b[39mcoordinates\u001b[39m\u001b[39m'\u001b[39m]\u001b[39m}\u001b[39;00m\u001b[39m\"\u001b[39m)\n\u001b[1;32m    135\u001b[0m current_coor \u001b[39m=\u001b[39m [\u001b[39mfloat\u001b[39m(value) \u001b[39mfor\u001b[39;00m value \u001b[39min\u001b[39;00m row[\u001b[39m'\u001b[39m\u001b[39mcoordinates\u001b[39m\u001b[39m'\u001b[39m][\u001b[39m1\u001b[39m:\u001b[39m-\u001b[39m\u001b[39m1\u001b[39m]\u001b[39m.\u001b[39msplit(\u001b[39m'\u001b[39m\u001b[39m, \u001b[39m\u001b[39m'\u001b[39m)]\n\u001b[0;32m--> 136\u001b[0m get_images(coordinates\u001b[39m=\u001b[39;49mrow, city_str\u001b[39m=\u001b[39;49mcity_code, current_coor\u001b[39m=\u001b[39;49mcurrent_coor,\n\u001b[1;32m    137\u001b[0m            years\u001b[39m=\u001b[39;49myears, weeks\u001b[39m=\u001b[39;49mweeks, img_format\u001b[39m=\u001b[39;49mimg_format,\n\u001b[1;32m    138\u001b[0m            root_images\u001b[39m=\u001b[39;49mroot_images, CLIENT_ID\u001b[39m=\u001b[39;49mCLIENT_ID, CLIENT_SECRET\u001b[39m=\u001b[39;49mCLIENT_SECRET)\n\u001b[1;32m    140\u001b[0m \u001b[39m# Move to structured folder in DATASETS\u001b[39;00m\n\u001b[1;32m    141\u001b[0m root_images_store \u001b[39m=\u001b[39m \u001b[39m\"\u001b[39m\u001b[39m./data\u001b[39m\u001b[39m\"\u001b[39m\n",
      "File \u001b[0;32m~/Desktop/satellite.extractor/notebooks/../satellite_extractor/extractor.py:99\u001b[0m, in \u001b[0;36mget_images\u001b[0;34m(coordinates, city_str, current_coor, years, weeks, img_format, root_images, CLIENT_ID, CLIENT_SECRET)\u001b[0m\n\u001b[1;32m     97\u001b[0m \u001b[39mprint\u001b[39m(\u001b[39mf\u001b[39m\u001b[39m\"\u001b[39m\u001b[39mWeek: \u001b[39m\u001b[39m{\u001b[39;00mweek\u001b[39m}\u001b[39;00m\u001b[39m\"\u001b[39m)\n\u001b[1;32m     98\u001b[0m start \u001b[39m=\u001b[39m Week(year, week)\u001b[39m.\u001b[39mstartdate()\n\u001b[0;32m---> 99\u001b[0m download_multiple_images(current_coor, start, \u001b[39mstr\u001b[39;49m(year), CLIENT_ID, CLIENT_SECRET)\n\u001b[1;32m    100\u001b[0m \u001b[39m# download_image(current_coor, start, str(year), CLIENT_ID, CLIENT_SECRET)\u001b[39;00m\n\u001b[1;32m    101\u001b[0m folder_path \u001b[39m=\u001b[39m get_folder_ID_optimized(root_images)\n",
      "File \u001b[0;32m~/Desktop/satellite.extractor/notebooks/../satellite_extractor/algorithms.py:462\u001b[0m, in \u001b[0;36mdownload_multiple_images\u001b[0;34m(coordinates, start, year, CLIENT_ID, CLIENT_SECRET)\u001b[0m\n\u001b[1;32m    459\u001b[0m list_of_requests \u001b[39m=\u001b[39m [get_true_color_request(slot) \u001b[39mfor\u001b[39;00m slot \u001b[39min\u001b[39;00m slots]\n\u001b[1;32m    460\u001b[0m list_of_requests \u001b[39m=\u001b[39m [request\u001b[39m.\u001b[39mdownload_list[\u001b[39m0\u001b[39m] \u001b[39mfor\u001b[39;00m request \u001b[39min\u001b[39;00m list_of_requests]\n\u001b[0;32m--> 462\u001b[0m image \u001b[39m=\u001b[39m SentinelHubDownloadClient(config\u001b[39m=\u001b[39;49mconfig)\u001b[39m.\u001b[39;49mdownload(list_of_requests, max_threads\u001b[39m=\u001b[39;49m\u001b[39m5\u001b[39;49m)\n\u001b[1;32m    465\u001b[0m \u001b[39m# Verify if images are empty, if not, correct\u001b[39;00m\n\u001b[1;32m    466\u001b[0m img \u001b[39m=\u001b[39m np\u001b[39m.\u001b[39marray(image)\n",
      "File \u001b[0;32m~/opt/anaconda3/envs/astronomy/lib/python3.9/site-packages/sentinelhub/download/sentinelhub_client.py:65\u001b[0m, in \u001b[0;36mSentinelHubDownloadClient.download\u001b[0;34m(self, *args, **kwargs)\u001b[0m\n\u001b[1;32m     63\u001b[0m \u001b[39mself\u001b[39m\u001b[39m.\u001b[39mlock \u001b[39m=\u001b[39m Lock()\n\u001b[1;32m     64\u001b[0m \u001b[39mtry\u001b[39;00m:\n\u001b[0;32m---> 65\u001b[0m     \u001b[39mreturn\u001b[39;00m \u001b[39msuper\u001b[39;49m()\u001b[39m.\u001b[39;49mdownload(\u001b[39m*\u001b[39;49margs, \u001b[39m*\u001b[39;49m\u001b[39m*\u001b[39;49mkwargs)\n\u001b[1;32m     66\u001b[0m \u001b[39mfinally\u001b[39;00m:\n\u001b[1;32m     67\u001b[0m     \u001b[39mself\u001b[39m\u001b[39m.\u001b[39mlock \u001b[39m=\u001b[39m \u001b[39mNone\u001b[39;00m\n",
      "File \u001b[0;32m~/opt/anaconda3/envs/astronomy/lib/python3.9/site-packages/sentinelhub/download/client.py:100\u001b[0m, in \u001b[0;36mDownloadClient.download\u001b[0;34m(self, download_requests, max_threads, decode_data, show_progress)\u001b[0m\n\u001b[1;32m     98\u001b[0m \u001b[39mfor\u001b[39;00m future \u001b[39min\u001b[39;00m as_completed(download_list):\n\u001b[1;32m     99\u001b[0m     \u001b[39mtry\u001b[39;00m:\n\u001b[0;32m--> 100\u001b[0m         results[future_order[future]] \u001b[39m=\u001b[39m future\u001b[39m.\u001b[39;49mresult()\n\u001b[1;32m    101\u001b[0m     \u001b[39mexcept\u001b[39;00m DownloadFailedException \u001b[39mas\u001b[39;00m download_exception:\n\u001b[1;32m    102\u001b[0m         \u001b[39mif\u001b[39;00m \u001b[39mself\u001b[39m\u001b[39m.\u001b[39mraise_download_errors:\n",
      "File \u001b[0;32m~/opt/anaconda3/envs/astronomy/lib/python3.9/concurrent/futures/_base.py:439\u001b[0m, in \u001b[0;36mFuture.result\u001b[0;34m(self, timeout)\u001b[0m\n\u001b[1;32m    437\u001b[0m     \u001b[39mraise\u001b[39;00m CancelledError()\n\u001b[1;32m    438\u001b[0m \u001b[39melif\u001b[39;00m \u001b[39mself\u001b[39m\u001b[39m.\u001b[39m_state \u001b[39m==\u001b[39m FINISHED:\n\u001b[0;32m--> 439\u001b[0m     \u001b[39mreturn\u001b[39;00m \u001b[39mself\u001b[39;49m\u001b[39m.\u001b[39;49m__get_result()\n\u001b[1;32m    441\u001b[0m \u001b[39mself\u001b[39m\u001b[39m.\u001b[39m_condition\u001b[39m.\u001b[39mwait(timeout)\n\u001b[1;32m    443\u001b[0m \u001b[39mif\u001b[39;00m \u001b[39mself\u001b[39m\u001b[39m.\u001b[39m_state \u001b[39min\u001b[39;00m [CANCELLED, CANCELLED_AND_NOTIFIED]:\n",
      "File \u001b[0;32m~/opt/anaconda3/envs/astronomy/lib/python3.9/concurrent/futures/_base.py:391\u001b[0m, in \u001b[0;36mFuture.__get_result\u001b[0;34m(self)\u001b[0m\n\u001b[1;32m    389\u001b[0m \u001b[39mif\u001b[39;00m \u001b[39mself\u001b[39m\u001b[39m.\u001b[39m_exception:\n\u001b[1;32m    390\u001b[0m     \u001b[39mtry\u001b[39;00m:\n\u001b[0;32m--> 391\u001b[0m         \u001b[39mraise\u001b[39;00m \u001b[39mself\u001b[39m\u001b[39m.\u001b[39m_exception\n\u001b[1;32m    392\u001b[0m     \u001b[39mfinally\u001b[39;00m:\n\u001b[1;32m    393\u001b[0m         \u001b[39m# Break a reference cycle with the exception in self._exception\u001b[39;00m\n\u001b[1;32m    394\u001b[0m         \u001b[39mself\u001b[39m \u001b[39m=\u001b[39m \u001b[39mNone\u001b[39;00m\n",
      "File \u001b[0;32m~/opt/anaconda3/envs/astronomy/lib/python3.9/concurrent/futures/thread.py:58\u001b[0m, in \u001b[0;36m_WorkItem.run\u001b[0;34m(self)\u001b[0m\n\u001b[1;32m     55\u001b[0m     \u001b[39mreturn\u001b[39;00m\n\u001b[1;32m     57\u001b[0m \u001b[39mtry\u001b[39;00m:\n\u001b[0;32m---> 58\u001b[0m     result \u001b[39m=\u001b[39m \u001b[39mself\u001b[39;49m\u001b[39m.\u001b[39;49mfn(\u001b[39m*\u001b[39;49m\u001b[39mself\u001b[39;49m\u001b[39m.\u001b[39;49margs, \u001b[39m*\u001b[39;49m\u001b[39m*\u001b[39;49m\u001b[39mself\u001b[39;49m\u001b[39m.\u001b[39;49mkwargs)\n\u001b[1;32m     59\u001b[0m \u001b[39mexcept\u001b[39;00m \u001b[39mBaseException\u001b[39;00m \u001b[39mas\u001b[39;00m exc:\n\u001b[1;32m     60\u001b[0m     \u001b[39mself\u001b[39m\u001b[39m.\u001b[39mfuture\u001b[39m.\u001b[39mset_exception(exc)\n",
      "File \u001b[0;32m~/opt/anaconda3/envs/astronomy/lib/python3.9/site-packages/sentinelhub/download/client.py:116\u001b[0m, in \u001b[0;36mDownloadClient._single_download_decoded\u001b[0;34m(self, request)\u001b[0m\n\u001b[1;32m    114\u001b[0m \u001b[39mdef\u001b[39;00m \u001b[39m_single_download_decoded\u001b[39m(\u001b[39mself\u001b[39m, request: DownloadRequest) \u001b[39m-\u001b[39m\u001b[39m>\u001b[39m Any:\n\u001b[1;32m    115\u001b[0m \u001b[39m    \u001b[39m\u001b[39m\"\"\"Downloads a response and decodes it into data. By decoding a single response\"\"\"\u001b[39;00m\n\u001b[0;32m--> 116\u001b[0m     response \u001b[39m=\u001b[39m \u001b[39mself\u001b[39;49m\u001b[39m.\u001b[39;49m_single_download(request)\n\u001b[1;32m    117\u001b[0m     \u001b[39mreturn\u001b[39;00m \u001b[39mNone\u001b[39;00m \u001b[39mif\u001b[39;00m response \u001b[39mis\u001b[39;00m \u001b[39mNone\u001b[39;00m \u001b[39melse\u001b[39;00m response\u001b[39m.\u001b[39mdecode()\n",
      "File \u001b[0;32m~/opt/anaconda3/envs/astronomy/lib/python3.9/site-packages/sentinelhub/download/client.py:129\u001b[0m, in \u001b[0;36mDownloadClient._single_download\u001b[0;34m(self, request)\u001b[0m\n\u001b[1;32m    127\u001b[0m no_local_data \u001b[39m=\u001b[39m \u001b[39mself\u001b[39m\u001b[39m.\u001b[39mredownload \u001b[39mor\u001b[39;00m response_path \u001b[39mis\u001b[39;00m \u001b[39mNone\u001b[39;00m \u001b[39mor\u001b[39;00m \u001b[39mnot\u001b[39;00m os\u001b[39m.\u001b[39mpath\u001b[39m.\u001b[39mexists(response_path)\n\u001b[1;32m    128\u001b[0m \u001b[39mif\u001b[39;00m no_local_data:\n\u001b[0;32m--> 129\u001b[0m     response \u001b[39m=\u001b[39m \u001b[39mself\u001b[39;49m\u001b[39m.\u001b[39;49m_execute_download(request)\n\u001b[1;32m    130\u001b[0m \u001b[39melse\u001b[39;00m:\n\u001b[1;32m    131\u001b[0m     \u001b[39mif\u001b[39;00m \u001b[39mnot\u001b[39;00m request\u001b[39m.\u001b[39mreturn_data \u001b[39mor\u001b[39;00m response_path \u001b[39mis\u001b[39;00m \u001b[39mNone\u001b[39;00m:\n",
      "File \u001b[0;32m~/opt/anaconda3/envs/astronomy/lib/python3.9/site-packages/sentinelhub/download/handlers.py:67\u001b[0m, in \u001b[0;36mretry_temporary_errors.<locals>.new_download_func\u001b[0;34m(self, request)\u001b[0m\n\u001b[1;32m     65\u001b[0m \u001b[39mfor\u001b[39;00m attempt_idx \u001b[39min\u001b[39;00m \u001b[39mrange\u001b[39m(download_attempts):\n\u001b[1;32m     66\u001b[0m     \u001b[39mtry\u001b[39;00m:\n\u001b[0;32m---> 67\u001b[0m         \u001b[39mreturn\u001b[39;00m download_func(\u001b[39mself\u001b[39;49m, request)\n\u001b[1;32m     69\u001b[0m     \u001b[39mexcept\u001b[39;00m requests\u001b[39m.\u001b[39mRequestException \u001b[39mas\u001b[39;00m exception:  \u001b[39m# noqa: PERF203\u001b[39;00m\n\u001b[1;32m     70\u001b[0m         attempts_left \u001b[39m=\u001b[39m download_attempts \u001b[39m-\u001b[39m (attempt_idx \u001b[39m+\u001b[39m \u001b[39m1\u001b[39m)\n",
      "File \u001b[0;32m~/opt/anaconda3/envs/astronomy/lib/python3.9/site-packages/sentinelhub/download/handlers.py:40\u001b[0m, in \u001b[0;36mfail_user_errors.<locals>.new_download_func\u001b[0;34m(self, request)\u001b[0m\n\u001b[1;32m     37\u001b[0m \u001b[39m@functools\u001b[39m\u001b[39m.\u001b[39mwraps(download_func)\n\u001b[1;32m     38\u001b[0m \u001b[39mdef\u001b[39;00m \u001b[39mnew_download_func\u001b[39m(\u001b[39mself\u001b[39m: Self, request: DownloadRequest) \u001b[39m-\u001b[39m\u001b[39m>\u001b[39m T:\n\u001b[1;32m     39\u001b[0m     \u001b[39mtry\u001b[39;00m:\n\u001b[0;32m---> 40\u001b[0m         \u001b[39mreturn\u001b[39;00m download_func(\u001b[39mself\u001b[39;49m, request)\n\u001b[1;32m     41\u001b[0m     \u001b[39mexcept\u001b[39;00m requests\u001b[39m.\u001b[39mHTTPError \u001b[39mas\u001b[39;00m exception:\n\u001b[1;32m     42\u001b[0m         \u001b[39mif\u001b[39;00m (\n\u001b[1;32m     43\u001b[0m             exception\u001b[39m.\u001b[39mresponse\u001b[39m.\u001b[39mstatus_code \u001b[39m<\u001b[39m requests\u001b[39m.\u001b[39mstatus_codes\u001b[39m.\u001b[39mcodes\u001b[39m.\u001b[39mINTERNAL_SERVER_ERROR\n\u001b[1;32m     44\u001b[0m             \u001b[39mand\u001b[39;00m exception\u001b[39m.\u001b[39mresponse\u001b[39m.\u001b[39mstatus_code \u001b[39m!=\u001b[39m requests\u001b[39m.\u001b[39mstatus_codes\u001b[39m.\u001b[39mcodes\u001b[39m.\u001b[39mTOO_MANY_REQUESTS\n\u001b[1;32m     45\u001b[0m         ):\n",
      "File \u001b[0;32m~/opt/anaconda3/envs/astronomy/lib/python3.9/site-packages/sentinelhub/download/sentinelhub_client.py:85\u001b[0m, in \u001b[0;36mSentinelHubDownloadClient._execute_download\u001b[0;34m(self, request)\u001b[0m\n\u001b[1;32m     78\u001b[0m \u001b[39mif\u001b[39;00m sleep_time \u001b[39m==\u001b[39m \u001b[39m0\u001b[39m:\n\u001b[1;32m     79\u001b[0m     LOGGER\u001b[39m.\u001b[39mdebug(\n\u001b[1;32m     80\u001b[0m         \u001b[39m\"\u001b[39m\u001b[39mSending \u001b[39m\u001b[39m%s\u001b[39;00m\u001b[39m request to \u001b[39m\u001b[39m%s\u001b[39;00m\u001b[39m. Hash of sent request is \u001b[39m\u001b[39m%s\u001b[39;00m\u001b[39m\"\u001b[39m,\n\u001b[1;32m     81\u001b[0m         request\u001b[39m.\u001b[39mrequest_type\u001b[39m.\u001b[39mvalue,\n\u001b[1;32m     82\u001b[0m         request\u001b[39m.\u001b[39murl,\n\u001b[1;32m     83\u001b[0m         request\u001b[39m.\u001b[39mget_hashed_name(),\n\u001b[1;32m     84\u001b[0m     )\n\u001b[0;32m---> 85\u001b[0m     response \u001b[39m=\u001b[39m \u001b[39mself\u001b[39;49m\u001b[39m.\u001b[39;49m_do_download(request)\n\u001b[1;32m     87\u001b[0m     \u001b[39mself\u001b[39m\u001b[39m.\u001b[39m_execute_thread_safe(\u001b[39mself\u001b[39m\u001b[39m.\u001b[39mrate_limit\u001b[39m.\u001b[39mupdate, response\u001b[39m.\u001b[39mheaders)\n\u001b[1;32m     89\u001b[0m     \u001b[39mif\u001b[39;00m response\u001b[39m.\u001b[39mstatus_code \u001b[39m==\u001b[39m requests\u001b[39m.\u001b[39mstatus_codes\u001b[39m.\u001b[39mcodes\u001b[39m.\u001b[39mTOO_MANY_REQUESTS:\n",
      "File \u001b[0;32m~/opt/anaconda3/envs/astronomy/lib/python3.9/site-packages/sentinelhub/download/sentinelhub_client.py:118\u001b[0m, in \u001b[0;36mSentinelHubDownloadClient._do_download\u001b[0;34m(self, request)\u001b[0m\n\u001b[1;32m    111\u001b[0m \u001b[39mif\u001b[39;00m request\u001b[39m.\u001b[39murl \u001b[39mis\u001b[39;00m \u001b[39mNone\u001b[39;00m:\n\u001b[1;32m    112\u001b[0m     \u001b[39mraise\u001b[39;00m \u001b[39mValueError\u001b[39;00m(\u001b[39mf\u001b[39m\u001b[39m\"\u001b[39m\u001b[39mFaulty request \u001b[39m\u001b[39m{\u001b[39;00mrequest\u001b[39m}\u001b[39;00m\u001b[39m, no URL specified.\u001b[39m\u001b[39m\"\u001b[39m)\n\u001b[1;32m    114\u001b[0m \u001b[39mreturn\u001b[39;00m requests\u001b[39m.\u001b[39mrequest(\n\u001b[1;32m    115\u001b[0m     request\u001b[39m.\u001b[39mrequest_type\u001b[39m.\u001b[39mvalue,\n\u001b[1;32m    116\u001b[0m     url\u001b[39m=\u001b[39mrequest\u001b[39m.\u001b[39murl,\n\u001b[1;32m    117\u001b[0m     json\u001b[39m=\u001b[39mrequest\u001b[39m.\u001b[39mpost_values,\n\u001b[0;32m--> 118\u001b[0m     headers\u001b[39m=\u001b[39m\u001b[39mself\u001b[39;49m\u001b[39m.\u001b[39;49m_prepare_headers(request),\n\u001b[1;32m    119\u001b[0m     timeout\u001b[39m=\u001b[39m\u001b[39mself\u001b[39m\u001b[39m.\u001b[39mconfig\u001b[39m.\u001b[39mdownload_timeout_seconds,\n\u001b[1;32m    120\u001b[0m )\n",
      "File \u001b[0;32m~/opt/anaconda3/envs/astronomy/lib/python3.9/site-packages/sentinelhub/download/sentinelhub_client.py:129\u001b[0m, in \u001b[0;36mSentinelHubDownloadClient._prepare_headers\u001b[0;34m(self, request)\u001b[0m\n\u001b[1;32m    127\u001b[0m session_headers: JsonDict \u001b[39m=\u001b[39m {}\n\u001b[1;32m    128\u001b[0m \u001b[39mif\u001b[39;00m request\u001b[39m.\u001b[39muse_session:\n\u001b[0;32m--> 129\u001b[0m     session_headers \u001b[39m=\u001b[39m \u001b[39mself\u001b[39;49m\u001b[39m.\u001b[39;49m_execute_thread_safe(\u001b[39mself\u001b[39;49m\u001b[39m.\u001b[39;49m_get_session_headers)\n\u001b[1;32m    131\u001b[0m \u001b[39mreturn\u001b[39;00m {\u001b[39m*\u001b[39m\u001b[39m*\u001b[39mSHConstants\u001b[39m.\u001b[39mHEADERS, \u001b[39m*\u001b[39m\u001b[39m*\u001b[39msession_headers, \u001b[39m*\u001b[39m\u001b[39m*\u001b[39mrequest\u001b[39m.\u001b[39mheaders}\n",
      "File \u001b[0;32m~/opt/anaconda3/envs/astronomy/lib/python3.9/site-packages/sentinelhub/download/sentinelhub_client.py:107\u001b[0m, in \u001b[0;36mSentinelHubDownloadClient._execute_thread_safe\u001b[0;34m(self, thread_unsafe_function, *args, **kwargs)\u001b[0m\n\u001b[1;32m    104\u001b[0m     \u001b[39mreturn\u001b[39;00m thread_unsafe_function(\u001b[39m*\u001b[39margs, \u001b[39m*\u001b[39m\u001b[39m*\u001b[39mkwargs)\n\u001b[1;32m    106\u001b[0m \u001b[39mwith\u001b[39;00m \u001b[39mself\u001b[39m\u001b[39m.\u001b[39mlock:\n\u001b[0;32m--> 107\u001b[0m     \u001b[39mreturn\u001b[39;00m thread_unsafe_function(\u001b[39m*\u001b[39;49margs, \u001b[39m*\u001b[39;49m\u001b[39m*\u001b[39;49mkwargs)\n",
      "File \u001b[0;32m~/opt/anaconda3/envs/astronomy/lib/python3.9/site-packages/sentinelhub/download/sentinelhub_client.py:139\u001b[0m, in \u001b[0;36mSentinelHubDownloadClient._get_session_headers\u001b[0;34m(self)\u001b[0m\n\u001b[1;32m    133\u001b[0m \u001b[39mdef\u001b[39;00m \u001b[39m_get_session_headers\u001b[39m(\u001b[39mself\u001b[39m) \u001b[39m-\u001b[39m\u001b[39m>\u001b[39m JsonDict:\n\u001b[1;32m    134\u001b[0m \u001b[39m    \u001b[39m\u001b[39m\"\"\"Provides up-to-date session headers\u001b[39;00m\n\u001b[1;32m    135\u001b[0m \n\u001b[1;32m    136\u001b[0m \u001b[39m    Note that calling session_headers property triggers update if session has expired therefore this has to be\u001b[39;00m\n\u001b[1;32m    137\u001b[0m \u001b[39m    called in a thread-safe way\u001b[39;00m\n\u001b[1;32m    138\u001b[0m \u001b[39m    \"\"\"\u001b[39;00m\n\u001b[0;32m--> 139\u001b[0m     \u001b[39mreturn\u001b[39;00m \u001b[39mself\u001b[39;49m\u001b[39m.\u001b[39;49mget_session()\u001b[39m.\u001b[39msession_headers\n",
      "File \u001b[0;32m~/opt/anaconda3/envs/astronomy/lib/python3.9/site-packages/sentinelhub/download/sentinelhub_client.py:155\u001b[0m, in \u001b[0;36mSentinelHubDownloadClient.get_session\u001b[0;34m(self)\u001b[0m\n\u001b[1;32m    153\u001b[0m     session \u001b[39m=\u001b[39m SentinelHubDownloadClient\u001b[39m.\u001b[39m_CACHED_SESSIONS[SentinelHubDownloadClient\u001b[39m.\u001b[39m_UNIVERSAL_CACHE_KEY]\n\u001b[1;32m    154\u001b[0m \u001b[39melse\u001b[39;00m:\n\u001b[0;32m--> 155\u001b[0m     session \u001b[39m=\u001b[39m SentinelHubSession(config\u001b[39m=\u001b[39;49m\u001b[39mself\u001b[39;49m\u001b[39m.\u001b[39;49mconfig)\n\u001b[1;32m    156\u001b[0m     SentinelHubDownloadClient\u001b[39m.\u001b[39m_CACHED_SESSIONS[cache_key] \u001b[39m=\u001b[39m session\n\u001b[1;32m    158\u001b[0m \u001b[39mreturn\u001b[39;00m session\n",
      "File \u001b[0;32m~/opt/anaconda3/envs/astronomy/lib/python3.9/site-packages/sentinelhub/download/session.py:73\u001b[0m, in \u001b[0;36mSentinelHubSession.__init__\u001b[0;34m(self, config, refresh_before_expiry, _token)\u001b[0m\n\u001b[1;32m     66\u001b[0m \u001b[39mif\u001b[39;00m token_fetching_required \u001b[39mand\u001b[39;00m \u001b[39mnot\u001b[39;00m (\u001b[39mself\u001b[39m\u001b[39m.\u001b[39mconfig\u001b[39m.\u001b[39msh_client_id \u001b[39mand\u001b[39;00m \u001b[39mself\u001b[39m\u001b[39m.\u001b[39mconfig\u001b[39m.\u001b[39msh_client_secret):\n\u001b[1;32m     67\u001b[0m     \u001b[39mraise\u001b[39;00m \u001b[39mValueError\u001b[39;00m(\n\u001b[1;32m     68\u001b[0m         \u001b[39m\"\u001b[39m\u001b[39mConfiguration parameters \u001b[39m\u001b[39m'\u001b[39m\u001b[39msh_client_id\u001b[39m\u001b[39m'\u001b[39m\u001b[39m and \u001b[39m\u001b[39m'\u001b[39m\u001b[39msh_client_secret\u001b[39m\u001b[39m'\u001b[39m\u001b[39m have to be set in order \u001b[39m\u001b[39m\"\u001b[39m\n\u001b[1;32m     69\u001b[0m         \u001b[39m\"\u001b[39m\u001b[39mto authenticate with Sentinel Hub service. Check \u001b[39m\u001b[39m\"\u001b[39m\n\u001b[1;32m     70\u001b[0m         \u001b[39m\"\u001b[39m\u001b[39mhttps://sentinelhub-py.readthedocs.io/en/latest/configure.html for more info.\u001b[39m\u001b[39m\"\u001b[39m\n\u001b[1;32m     71\u001b[0m     )\n\u001b[0;32m---> 73\u001b[0m \u001b[39mself\u001b[39m\u001b[39m.\u001b[39m_token \u001b[39m=\u001b[39m \u001b[39mself\u001b[39;49m\u001b[39m.\u001b[39;49m_collect_new_token() \u001b[39mif\u001b[39;00m _token \u001b[39mis\u001b[39;00m \u001b[39mNone\u001b[39;00m \u001b[39melse\u001b[39;00m _token\n",
      "File \u001b[0;32m~/opt/anaconda3/envs/astronomy/lib/python3.9/site-packages/sentinelhub/download/session.py:127\u001b[0m, in \u001b[0;36mSentinelHubSession._collect_new_token\u001b[0;34m(self)\u001b[0m\n\u001b[1;32m    121\u001b[0m \u001b[39m\u001b[39m\u001b[39m\"\"\"Creates a download request and fetches a token from the service.\u001b[39;00m\n\u001b[1;32m    122\u001b[0m \n\u001b[1;32m    123\u001b[0m \u001b[39mNote that the `DownloadRequest` object is created only because retry decorators of `_fetch_token` method\u001b[39;00m\n\u001b[1;32m    124\u001b[0m \u001b[39mrequire it.\u001b[39;00m\n\u001b[1;32m    125\u001b[0m \u001b[39m\"\"\"\u001b[39;00m\n\u001b[1;32m    126\u001b[0m request \u001b[39m=\u001b[39m DownloadRequest(url\u001b[39m=\u001b[39m\u001b[39mf\u001b[39m\u001b[39m\"\u001b[39m\u001b[39m{\u001b[39;00m\u001b[39mself\u001b[39m\u001b[39m.\u001b[39mconfig\u001b[39m.\u001b[39msh_token_url\u001b[39m}\u001b[39;00m\u001b[39m\"\u001b[39m)\n\u001b[0;32m--> 127\u001b[0m \u001b[39mreturn\u001b[39;00m \u001b[39mself\u001b[39;49m\u001b[39m.\u001b[39;49m_fetch_token(request)\n",
      "File \u001b[0;32m~/opt/anaconda3/envs/astronomy/lib/python3.9/site-packages/sentinelhub/download/handlers.py:67\u001b[0m, in \u001b[0;36mretry_temporary_errors.<locals>.new_download_func\u001b[0;34m(self, request)\u001b[0m\n\u001b[1;32m     65\u001b[0m \u001b[39mfor\u001b[39;00m attempt_idx \u001b[39min\u001b[39;00m \u001b[39mrange\u001b[39m(download_attempts):\n\u001b[1;32m     66\u001b[0m     \u001b[39mtry\u001b[39;00m:\n\u001b[0;32m---> 67\u001b[0m         \u001b[39mreturn\u001b[39;00m download_func(\u001b[39mself\u001b[39;49m, request)\n\u001b[1;32m     69\u001b[0m     \u001b[39mexcept\u001b[39;00m requests\u001b[39m.\u001b[39mRequestException \u001b[39mas\u001b[39;00m exception:  \u001b[39m# noqa: PERF203\u001b[39;00m\n\u001b[1;32m     70\u001b[0m         attempts_left \u001b[39m=\u001b[39m download_attempts \u001b[39m-\u001b[39m (attempt_idx \u001b[39m+\u001b[39m \u001b[39m1\u001b[39m)\n",
      "File \u001b[0;32m~/opt/anaconda3/envs/astronomy/lib/python3.9/site-packages/sentinelhub/download/handlers.py:40\u001b[0m, in \u001b[0;36mfail_user_errors.<locals>.new_download_func\u001b[0;34m(self, request)\u001b[0m\n\u001b[1;32m     37\u001b[0m \u001b[39m@functools\u001b[39m\u001b[39m.\u001b[39mwraps(download_func)\n\u001b[1;32m     38\u001b[0m \u001b[39mdef\u001b[39;00m \u001b[39mnew_download_func\u001b[39m(\u001b[39mself\u001b[39m: Self, request: DownloadRequest) \u001b[39m-\u001b[39m\u001b[39m>\u001b[39m T:\n\u001b[1;32m     39\u001b[0m     \u001b[39mtry\u001b[39;00m:\n\u001b[0;32m---> 40\u001b[0m         \u001b[39mreturn\u001b[39;00m download_func(\u001b[39mself\u001b[39;49m, request)\n\u001b[1;32m     41\u001b[0m     \u001b[39mexcept\u001b[39;00m requests\u001b[39m.\u001b[39mHTTPError \u001b[39mas\u001b[39;00m exception:\n\u001b[1;32m     42\u001b[0m         \u001b[39mif\u001b[39;00m (\n\u001b[1;32m     43\u001b[0m             exception\u001b[39m.\u001b[39mresponse\u001b[39m.\u001b[39mstatus_code \u001b[39m<\u001b[39m requests\u001b[39m.\u001b[39mstatus_codes\u001b[39m.\u001b[39mcodes\u001b[39m.\u001b[39mINTERNAL_SERVER_ERROR\n\u001b[1;32m     44\u001b[0m             \u001b[39mand\u001b[39;00m exception\u001b[39m.\u001b[39mresponse\u001b[39m.\u001b[39mstatus_code \u001b[39m!=\u001b[39m requests\u001b[39m.\u001b[39mstatus_codes\u001b[39m.\u001b[39mcodes\u001b[39m.\u001b[39mTOO_MANY_REQUESTS\n\u001b[1;32m     45\u001b[0m         ):\n",
      "File \u001b[0;32m~/opt/anaconda3/envs/astronomy/lib/python3.9/site-packages/sentinelhub/download/session.py:139\u001b[0m, in \u001b[0;36mSentinelHubSession._fetch_token\u001b[0;34m(self, request)\u001b[0m\n\u001b[1;32m    136\u001b[0m \u001b[39mwith\u001b[39;00m OAuth2Session(client\u001b[39m=\u001b[39moauth_client) \u001b[39mas\u001b[39;00m oauth_session:\n\u001b[1;32m    137\u001b[0m     oauth_session\u001b[39m.\u001b[39mregister_compliance_hook(\u001b[39m\"\u001b[39m\u001b[39maccess_token_response\u001b[39m\u001b[39m\"\u001b[39m, \u001b[39mself\u001b[39m\u001b[39m.\u001b[39m_compliance_hook)\n\u001b[0;32m--> 139\u001b[0m     \u001b[39mreturn\u001b[39;00m oauth_session\u001b[39m.\u001b[39;49mfetch_token(\n\u001b[1;32m    140\u001b[0m         token_url\u001b[39m=\u001b[39;49mrequest\u001b[39m.\u001b[39;49murl,\n\u001b[1;32m    141\u001b[0m         client_id\u001b[39m=\u001b[39;49m\u001b[39mself\u001b[39;49m\u001b[39m.\u001b[39;49mconfig\u001b[39m.\u001b[39;49msh_client_id,\n\u001b[1;32m    142\u001b[0m         client_secret\u001b[39m=\u001b[39;49m\u001b[39mself\u001b[39;49m\u001b[39m.\u001b[39;49mconfig\u001b[39m.\u001b[39;49msh_client_secret,\n\u001b[1;32m    143\u001b[0m         headers\u001b[39m=\u001b[39;49m{\u001b[39m*\u001b[39;49m\u001b[39m*\u001b[39;49m\u001b[39mself\u001b[39;49m\u001b[39m.\u001b[39;49mDEFAULT_HEADERS, \u001b[39m*\u001b[39;49m\u001b[39m*\u001b[39;49mSHConstants\u001b[39m.\u001b[39;49mHEADERS},\n\u001b[1;32m    144\u001b[0m         include_client_id\u001b[39m=\u001b[39;49m\u001b[39mTrue\u001b[39;49;00m,\n\u001b[1;32m    145\u001b[0m     )\n",
      "File \u001b[0;32m~/opt/anaconda3/envs/astronomy/lib/python3.9/site-packages/requests_oauthlib/oauth2_session.py:366\u001b[0m, in \u001b[0;36mOAuth2Session.fetch_token\u001b[0;34m(self, token_url, code, authorization_response, body, auth, username, password, method, force_querystring, timeout, headers, verify, proxies, include_client_id, client_secret, cert, **kwargs)\u001b[0m\n\u001b[1;32m    363\u001b[0m     log\u001b[39m.\u001b[39mdebug(\u001b[39m\"\u001b[39m\u001b[39mInvoking hook \u001b[39m\u001b[39m%s\u001b[39;00m\u001b[39m.\u001b[39m\u001b[39m\"\u001b[39m, hook)\n\u001b[1;32m    364\u001b[0m     r \u001b[39m=\u001b[39m hook(r)\n\u001b[0;32m--> 366\u001b[0m \u001b[39mself\u001b[39;49m\u001b[39m.\u001b[39;49m_client\u001b[39m.\u001b[39;49mparse_request_body_response(r\u001b[39m.\u001b[39;49mtext, scope\u001b[39m=\u001b[39;49m\u001b[39mself\u001b[39;49m\u001b[39m.\u001b[39;49mscope)\n\u001b[1;32m    367\u001b[0m \u001b[39mself\u001b[39m\u001b[39m.\u001b[39mtoken \u001b[39m=\u001b[39m \u001b[39mself\u001b[39m\u001b[39m.\u001b[39m_client\u001b[39m.\u001b[39mtoken\n\u001b[1;32m    368\u001b[0m log\u001b[39m.\u001b[39mdebug(\u001b[39m\"\u001b[39m\u001b[39mObtained token \u001b[39m\u001b[39m%s\u001b[39;00m\u001b[39m.\u001b[39m\u001b[39m\"\u001b[39m, \u001b[39mself\u001b[39m\u001b[39m.\u001b[39mtoken)\n",
      "File \u001b[0;32m~/opt/anaconda3/envs/astronomy/lib/python3.9/site-packages/oauthlib/oauth2/rfc6749/clients/base.py:427\u001b[0m, in \u001b[0;36mClient.parse_request_body_response\u001b[0;34m(self, body, scope, **kwargs)\u001b[0m\n\u001b[1;32m    379\u001b[0m \u001b[39m\u001b[39m\u001b[39m\"\"\"Parse the JSON response body.\u001b[39;00m\n\u001b[1;32m    380\u001b[0m \n\u001b[1;32m    381\u001b[0m \u001b[39mIf the access token request is valid and authorized, the\u001b[39;00m\n\u001b[0;32m   (...)\u001b[0m\n\u001b[1;32m    424\u001b[0m \u001b[39m.. _`Section 7.1`: https://tools.ietf.org/html/rfc6749#section-7.1\u001b[39;00m\n\u001b[1;32m    425\u001b[0m \u001b[39m\"\"\"\u001b[39;00m\n\u001b[1;32m    426\u001b[0m scope \u001b[39m=\u001b[39m \u001b[39mself\u001b[39m\u001b[39m.\u001b[39mscope \u001b[39mif\u001b[39;00m scope \u001b[39mis\u001b[39;00m \u001b[39mNone\u001b[39;00m \u001b[39melse\u001b[39;00m scope\n\u001b[0;32m--> 427\u001b[0m \u001b[39mself\u001b[39m\u001b[39m.\u001b[39mtoken \u001b[39m=\u001b[39m parse_token_response(body, scope\u001b[39m=\u001b[39;49mscope)\n\u001b[1;32m    428\u001b[0m \u001b[39mself\u001b[39m\u001b[39m.\u001b[39mpopulate_token_attributes(\u001b[39mself\u001b[39m\u001b[39m.\u001b[39mtoken)\n\u001b[1;32m    429\u001b[0m \u001b[39mreturn\u001b[39;00m \u001b[39mself\u001b[39m\u001b[39m.\u001b[39mtoken\n",
      "File \u001b[0;32m~/opt/anaconda3/envs/astronomy/lib/python3.9/site-packages/oauthlib/oauth2/rfc6749/parameters.py:441\u001b[0m, in \u001b[0;36mparse_token_response\u001b[0;34m(body, scope)\u001b[0m\n\u001b[1;32m    438\u001b[0m         params[\u001b[39m'\u001b[39m\u001b[39mexpires_at\u001b[39m\u001b[39m'\u001b[39m] \u001b[39m=\u001b[39m time\u001b[39m.\u001b[39mtime() \u001b[39m+\u001b[39m \u001b[39mint\u001b[39m(params[\u001b[39m'\u001b[39m\u001b[39mexpires_in\u001b[39m\u001b[39m'\u001b[39m])\n\u001b[1;32m    440\u001b[0m params \u001b[39m=\u001b[39m OAuth2Token(params, old_scope\u001b[39m=\u001b[39mscope)\n\u001b[0;32m--> 441\u001b[0m validate_token_parameters(params)\n\u001b[1;32m    442\u001b[0m \u001b[39mreturn\u001b[39;00m params\n",
      "File \u001b[0;32m~/opt/anaconda3/envs/astronomy/lib/python3.9/site-packages/oauthlib/oauth2/rfc6749/parameters.py:448\u001b[0m, in \u001b[0;36mvalidate_token_parameters\u001b[0;34m(params)\u001b[0m\n\u001b[1;32m    446\u001b[0m \u001b[39m\u001b[39m\u001b[39m\"\"\"Ensures token presence, token type, expiration and scope in params.\"\"\"\u001b[39;00m\n\u001b[1;32m    447\u001b[0m \u001b[39mif\u001b[39;00m \u001b[39m'\u001b[39m\u001b[39merror\u001b[39m\u001b[39m'\u001b[39m \u001b[39min\u001b[39;00m params:\n\u001b[0;32m--> 448\u001b[0m     raise_from_error(params\u001b[39m.\u001b[39;49mget(\u001b[39m'\u001b[39;49m\u001b[39merror\u001b[39;49m\u001b[39m'\u001b[39;49m), params)\n\u001b[1;32m    450\u001b[0m \u001b[39mif\u001b[39;00m \u001b[39mnot\u001b[39;00m \u001b[39m'\u001b[39m\u001b[39maccess_token\u001b[39m\u001b[39m'\u001b[39m \u001b[39min\u001b[39;00m params:\n\u001b[1;32m    451\u001b[0m     \u001b[39mraise\u001b[39;00m MissingTokenError(description\u001b[39m=\u001b[39m\u001b[39m\"\u001b[39m\u001b[39mMissing access token parameter.\u001b[39m\u001b[39m\"\u001b[39m)\n",
      "File \u001b[0;32m~/opt/anaconda3/envs/astronomy/lib/python3.9/site-packages/oauthlib/oauth2/rfc6749/errors.py:400\u001b[0m, in \u001b[0;36mraise_from_error\u001b[0;34m(error, params)\u001b[0m\n\u001b[1;32m    398\u001b[0m     \u001b[39mif\u001b[39;00m \u001b[39mcls\u001b[39m\u001b[39m.\u001b[39merror \u001b[39m==\u001b[39m error:\n\u001b[1;32m    399\u001b[0m         \u001b[39mraise\u001b[39;00m \u001b[39mcls\u001b[39m(\u001b[39m*\u001b[39m\u001b[39m*\u001b[39mkwargs)\n\u001b[0;32m--> 400\u001b[0m \u001b[39mraise\u001b[39;00m CustomOAuth2Error(error\u001b[39m=\u001b[39merror, \u001b[39m*\u001b[39m\u001b[39m*\u001b[39mkwargs)\n",
      "\u001b[0;31mCustomOAuth2Error\u001b[0m: ({'status': 400, 'reason': 'Bad Request', 'message': 'Illegal client_id', 'code': 'OAUTH_ERROR'}) "
     ]
    }
   ],
   "source": [
    "sat.run(TIMESTAPS, CLIENT_ID, CLIENT_SECRET, IMAGE_FORMAT, COORDINATES_PATH )"
   ]
  }
 ],
 "metadata": {
  "kernelspec": {
   "display_name": "sebasmos",
   "language": "python",
   "name": "python3"
  },
  "language_info": {
   "codemirror_mode": {
    "name": "ipython",
    "version": 3
   },
   "file_extension": ".py",
   "mimetype": "text/x-python",
   "name": "python",
   "nbconvert_exporter": "python",
   "pygments_lexer": "ipython3",
   "version": "3.9.17"
  }
 },
 "nbformat": 4,
 "nbformat_minor": 2
}
