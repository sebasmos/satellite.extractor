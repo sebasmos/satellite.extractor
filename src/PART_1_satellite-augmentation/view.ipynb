{
 "cells": [
  {
   "cell_type": "code",
   "execution_count": null,
   "metadata": {},
   "outputs": [],
   "source": [
    "!python augment_general.py"
   ]
  },
  {
   "cell_type": "code",
   "execution_count": null,
   "metadata": {},
   "outputs": [],
   "source": [
    "import matplotlib.pyplot as plt\n",
    "%matplotlib inline\n",
    "\n",
    "\n",
    "def plot_imgs(imgs, titles):\n",
    "    \"\"\"\n",
    "    Generate visualization of list of arrays\n",
    "    :param imgs: list of arrays, each numpy array is an image of size (width, height)\n",
    "    :param titles: list of titles [string]\n",
    "    \"\"\"\n",
    "    # create figure\n",
    "    fig = plt.figure(figsize=(50, 50))\n",
    "    # loop over images\n",
    "    for i in range(len(imgs)):\n",
    "        fig.add_subplot(4, 4, i + 1)\n",
    "        print(\"plotter: \", imgs[i].shape)\n",
    "        plt.imshow(imgs[i])\n",
    "        plt.title(str(titles[i]))\n",
    "        plt.axis(\"off\")"
   ]
  },
  {
   "cell_type": "code",
   "execution_count": null,
   "metadata": {},
   "outputs": [],
   "source": [
    "import config\n",
    "import glob\n",
    "import os\n",
    "import utils as util\n",
    "resize_ratio = config.resize_ratio\n",
    "resizing = config.resizing\n",
    "normalize = config.normalize\n",
    "printing= config.printing\n",
    "baseline = config.baseline\n",
    "images = sorted(glob.glob(os.path.join(baseline)+\"/*.tiff\")) # use sorted to align images temporally back-forwards\n",
    "print(f\"Total # images before augmentation: \", len(images))\n"
   ]
  },
  {
   "cell_type": "code",
   "execution_count": null,
   "metadata": {},
   "outputs": [],
   "source": [
    "for idx, path in enumerate(images):\n",
    "        image_name = os.path.join(path.split(\"/\")[-2:][0], path.split(\"/\")[-2:][1])\n",
    "        img = util.read_tiff(path, config.image_size, resize_ratio= resize_ratio, resizing = resizing, normalize=normalize, printing=printing)\n",
    "        #print(img.shape)\n",
    "        plt.figure(figsize=(9, 9))\n",
    "        print(img[:,:,1:4].shape)\n",
    "        plt.imshow(img[:,:,1:4])\n",
    "        if idx==10:\n",
    "            break"
   ]
  }
 ],
 "metadata": {
  "kernelspec": {
   "display_name": "Python 3.9.7 ('sebasmos')",
   "language": "python",
   "name": "python3"
  },
  "language_info": {
   "codemirror_mode": {
    "name": "ipython",
    "version": 3
   },
   "file_extension": ".py",
   "mimetype": "text/x-python",
   "name": "python",
   "nbconvert_exporter": "python",
   "pygments_lexer": "ipython3",
   "version": "3.9.7"
  },
  "vscode": {
   "interpreter": {
    "hash": "ad1edc83c8a3ba973d0a5ed89f8d56b42dac8fe366158fcfa7dfa82a998d469f"
   }
  }
 },
 "nbformat": 4,
 "nbformat_minor": 2
}
