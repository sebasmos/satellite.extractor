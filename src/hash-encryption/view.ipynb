{
 "cells": [
  {
   "cell_type": "code",
   "execution_count": null,
   "metadata": {},
   "outputs": [],
   "source": [
    "!python hash_horizontal.py"
   ]
  },
  {
   "cell_type": "code",
   "execution_count": null,
   "metadata": {},
   "outputs": [],
   "source": [
    "import os\n",
    "import config\n",
    "from skimage import io\n",
    "import matplotlib.pyplot as plt\n",
    "%matplotlib inline\n",
    "ROOT_DIR = \"/home/sebasmos/Desktop/satellite.extractor/src/Hash-encryption/\" \n",
    "viz = os.path.join(ROOT_DIR, config.visualization)\n",
    "root = config.DATASET\n",
    "\n",
    "for city in os.listdir(root):\n",
    "    img = io.imread(f'{viz}/{city}.png')\n",
    "    print(f'The shape of the image is: {img.shape}')\n",
    "    plt.figure(figsize=(6, 6))\n",
    "    plt.imshow(img)\n",
    "    plt.show()"
   ]
  }
 ],
 "metadata": {
  "kernelspec": {
   "display_name": "Python 3.9.13 ('sebasmos')",
   "language": "python",
   "name": "python3"
  },
  "language_info": {
   "codemirror_mode": {
    "name": "ipython",
    "version": 3
   },
   "file_extension": ".py",
   "mimetype": "text/x-python",
   "name": "python",
   "nbconvert_exporter": "python",
   "pygments_lexer": "ipython3",
   "version": "3.9.13"
  },
  "vscode": {
   "interpreter": {
    "hash": "ad1edc83c8a3ba973d0a5ed89f8d56b42dac8fe366158fcfa7dfa82a998d469f"
   }
  }
 },
 "nbformat": 4,
 "nbformat_minor": 4
}
