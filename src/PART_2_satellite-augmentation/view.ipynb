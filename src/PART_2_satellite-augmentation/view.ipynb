{
 "cells": [
  {
   "cell_type": "code",
   "execution_count": null,
   "metadata": {},
   "outputs": [],
   "source": [
    "!python augment_general.py"
   ]
  },
  {
   "cell_type": "code",
   "execution_count": null,
   "metadata": {},
   "outputs": [],
   "source": [
    "import albumentations as A\n",
    "from albumentations.pytorch import ToTensorV2\n",
    "import glob\n",
    "import os\n",
    "import copy\n",
    "import shutil\n",
    "import random\n",
    "from skimage import io\n",
    "from skimage.transform import rescale, resize\n",
    "import skimage.exposure\n",
    "import matplotlib.pyplot as plt\n",
    "import numpy as np\n",
    "from PIL import Image\n",
    "import random\n",
    "import config\n",
    "import config\n",
    "import glob\n",
    "import os\n",
    "import utils as util\n",
    "import matplotlib.pyplot as plt\n",
    "%matplotlib inline\n",
    "\n",
    "\n",
    "def plot_imgs(imgs, titles):\n",
    "    \"\"\"\n",
    "    Generate visualization of list of arrays\n",
    "    :param imgs: list of arrays, each numpy array is an image of size (width, height)\n",
    "    :param titles: list of titles [string]\n",
    "    \"\"\"\n",
    "    # create figure\n",
    "    fig = plt.figure(figsize=(50, 50))\n",
    "    # loop over images\n",
    "    for i in range(len(imgs)):\n",
    "        fig.add_subplot(4, 4, i + 1)\n",
    "        print(\"plotter: \", imgs[i].shape)\n",
    "        plt.imshow(imgs[i])\n",
    "        plt.title(str(titles[i]))\n",
    "        plt.axis(\"off\")\n",
    "\n",
    "\n",
    "def read_tiff(img_path, image_size = config.image_size, resize_ratio=None, resizing = True, normalize=True, printing=True):\n",
    "  img = io.imread(img_path)\n",
    "  img_F =img.copy()\n",
    "  if resize_ratio:\n",
    "    img_F = rescale(img, resize_ratio, anti_aliasing=True)\n",
    "  if resizing:\n",
    "    img_F = resize(img_F, (image_size, image_size), anti_aliasing=True)\n",
    "  \n",
    "  path_img = os.path.basename(img_path)\n",
    "  if normalize:\n",
    "    CHANNELS = range(12)\n",
    "    img_F = np.dstack([\n",
    "        skimage.exposure.rescale_intensity(img_F[:,:,c], out_range=(0, 1)) \n",
    "        for c in CHANNELS])\n",
    "  if printing:\n",
    "    print(f\"(origin shape: {path_img}: {img.shape} -> rescale: {str(img_F.shape)}) - Range -> [{img_F.min(), img_F.max()}]\")\n",
    "  return img_F\n"
   ]
  },
  {
   "cell_type": "code",
   "execution_count": null,
   "metadata": {},
   "outputs": [],
   "source": [
    "\n",
    "resize_ratio = config.resize_ratio\n",
    "resizing = config.resizing\n",
    "normalize = config.normalize\n",
    "printing= config.printing\n",
    "baseline = config.aug_root\n",
    "images = sorted(glob.glob(os.path.join(baseline)+\"/*/*.tiff\")) # use sorted to align images temporally back-forwards\n",
    "print(f\"Total # images before augmentation: \", len(images))\n",
    "for idx, path in enumerate(images):\n",
    "        image_name = os.path.join(path.split(\"/\")[-2:][0], path.split(\"/\")[-2:][1])\n",
    "        img = util.read_tiff(path, config.image_size, resize_ratio= resize_ratio, resizing = resizing, normalize=normalize, printing=printing)\n",
    "        #print(img.shape)\n",
    "\n",
    "        plt.figure(figsize=(9, 9))\n",
    "        print(img[:,:,1:4].shape)\n",
    "        plt.imshow(img[:,:,1:4])\n",
    "        if idx==3:\n",
    "            break\n"
   ]
  },
  {
   "cell_type": "code",
   "execution_count": null,
   "metadata": {},
   "outputs": [],
   "source": [
    "t = \"/home/sebasmos/Desktop/DATASETS/DATASET_augmented_v2_gaussian_blur/images\"\n",
    "images = sorted(glob.glob(os.path.join(t)+\"/*/*.tiff\")) # use sorted to align images temporally back-forwards\n",
    "\n",
    "fig = plt.figure(figsize=(50, 50))\n",
    "for i, path in enumerate(images[:16]):\n",
    "            fig.add_subplot(4, 4, i + 1)\n",
    "            image_name = os.path.join(path.split(\"/\")[-2:][0], path.split(\"/\")[-2:][1])\n",
    "            img = read_tiff(path, config.image_size, resize_ratio= resize_ratio, resizing = resizing, normalize=normalize, printing=printing)\n",
    "            print(img.shape)\n",
    "            plt.imshow(img[:,:,1:4])\n",
    "            plt.title(str(image_name))\n",
    "            plt.axis(\"off\")"
   ]
  }
 ],
 "metadata": {
  "kernelspec": {
   "display_name": "Python 3.9.7 ('sebasmos')",
   "language": "python",
   "name": "python3"
  },
  "language_info": {
   "codemirror_mode": {
    "name": "ipython",
    "version": 3
   },
   "file_extension": ".py",
   "mimetype": "text/x-python",
   "name": "python",
   "nbconvert_exporter": "python",
   "pygments_lexer": "ipython3",
   "version": "3.9.13"
  },
  "vscode": {
   "interpreter": {
    "hash": "ad1edc83c8a3ba973d0a5ed89f8d56b42dac8fe366158fcfa7dfa82a998d469f"
   }
  }
 },
 "nbformat": 4,
 "nbformat_minor": 2
}
