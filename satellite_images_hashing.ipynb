{
  "nbformat": 4,
  "nbformat_minor": 0,
  "metadata": {
    "colab": {
      "name": "satellite_images_hashing.ipynb",
      "provenance": [],
      "include_colab_link": true
    },
    "kernelspec": {
      "name": "python3",
      "display_name": "Python 3"
    },
    "language_info": {
      "name": "python"
    }
  },
  "cells": [
    {
      "cell_type": "markdown",
      "metadata": {
        "id": "view-in-github",
        "colab_type": "text"
      },
      "source": [
        "<a href=\"https://colab.research.google.com/github/sebasmos/satellite.extractor/blob/main/satellite_images_hashing.ipynb\" target=\"_parent\"><img src=\"https://colab.research.google.com/assets/colab-badge.svg\" alt=\"Open In Colab\"/></a>"
      ]
    },
    {
      "cell_type": "markdown",
      "source": [
        "# Cloud similarity analysis "
      ],
      "metadata": {
        "id": "w73sDJbsTfxw"
      }
    },
    {
      "cell_type": "code",
      "execution_count": 2,
      "metadata": {
        "colab": {
          "base_uri": "https://localhost:8080/"
        },
        "id": "EmdJgUdoTiuk",
        "outputId": "f69dc8e7-6e8c-4e6b-b5bf-aabe637ce391"
      },
      "outputs": [
        {
          "output_type": "stream",
          "name": "stdout",
          "text": [
            "Requirement already satisfied: epiweeks in /usr/local/lib/python3.7/dist-packages (2.1.4)\n"
          ]
        }
      ],
      "source": [
        "!pip install epiweeks"
      ]
    },
    {
      "cell_type": "markdown",
      "source": [
        ""
      ],
      "metadata": {
        "id": "PdWtXRe_TfnK"
      }
    },
    {
      "cell_type": "code",
      "source": [
        "def readImg(img_path, resize_ratio=None):\n",
        "  img = io.imread(img_path)\n",
        "\n",
        "  if resize_ratio:\n",
        "    img_rescale = rescale(img, resize_ratio, anti_aliasing=True)\n",
        "  \n",
        "  path_img = os.path.basename(img_path)\n",
        "\n",
        "  print(path_img, '(origin shape:', img.shape, '-> rescale:', str(img_rescale.shape) + ')')\n",
        "  return img_rescale, path_img\n",
        "\n",
        "\n",
        "# Load data from one of the source\n",
        "def loadData(csv_folder, img_folder, option=None, resize_ratio=None):\n",
        "  if option is None:\n",
        "    # Get data by combining from csv and images\n",
        "    df = loadStructuredData(csv_folder)\n",
        "    info_dict = combineData(img_folder, df, resize_ratio)\n",
        "    \n",
        "    print(len(info_dict['LastDayWeek']), len(info_dict['Image']), len(info_dict['cases_medellin']))\n",
        "\n",
        "  else:\n",
        "    # Load data from previous pickle file\n",
        "    info_dict = 1#loadDataFromPickle(option)\n",
        "  return info_dict\n",
        "  \n",
        "\n",
        "def loadStructuredData(csv_path):\n",
        "  df = pd.DataFrame()\n",
        "  if os.path.isdir(csv_path):\n",
        "    for filename in os.listdir(csv_path):\n",
        "      file_path = os.path.join(csv_path, filename)\n",
        "      df = df.append(pd.read_csv(file_path))\n",
        "  elif os.path.isfile(csv_path):\n",
        "    df = pd.read_csv(csv_path)\n",
        "  else:\n",
        "    print('Error: Not folder or file')\n",
        "  return df\n",
        "  \n",
        "def getEpiWeek(origin_str):\n",
        "  \"\"\"Get epi week from string\n",
        "  \"\"\"\n",
        "  date_ls = origin_str.split('-')\n",
        "  return Week.fromdate(date(int(date_ls[0]), int(date_ls[1]), int(date_ls[2])))\n",
        "  \n",
        "def combineData(img_folder, df, resize_ratio=None):\n",
        "  info_dict = {'LastDayWeek':[], 'cases_medellin':[], 'Image':[], 'epi_week':[], 'path_name':[]}\n",
        "  img_list = os.listdir(img_folder)\n",
        "\n",
        "  for index, row in df.iterrows():\n",
        "    name = row['LastDayWeek']\n",
        "    week_df = str(getEpiWeek(name))\n",
        "    case = row['cases_medellin']\n",
        "    for img_name in img_list:\n",
        "      \n",
        "      # If image name is image_2017-12-24.tiff -> get 2017-12-24\n",
        "      # Reference Links: https://www.w3schools.com/python/ref_string_join.asp, \n",
        "      #                  https://stackoverflow.com/questions/13174468/how-do-you-join-all-items-in-a-list/13175535\n",
        "      new_img_name = ''.join(i for i in img_name if i.isdigit() or i == '-')      \n",
        "\n",
        "      week_img = str(getEpiWeek(new_img_name))\n",
        "      #print(f\"{week_df} = {week_img}\")\n",
        "      if week_df == week_img:\n",
        "        #print(\"ENTRO\")\n",
        "        img_path = os.path.join(img_folder, img_name)\n",
        "        img, img_path = readImg(img_path, resize_ratio)\n",
        "\n",
        "        info_dict['Image'].append(img)\n",
        "        info_dict['LastDayWeek'].append(name)\n",
        "        info_dict['cases_medellin'].append(case)\n",
        "        info_dict['epi_week'].append(week_df)\n",
        "        info_dict['path_name'].append(img_path)\n",
        "        break\n",
        "\n",
        "  return info_dict\n",
        "\n",
        "def splitTrainTestSet(ratio):\n",
        "  # Split the data into training (ratio) and testing (1 - ratio)\n",
        "  train_val_ratio = ratio\n",
        "  train_num = int(len(info_dict['Image']) * train_val_ratio)\n",
        "\n",
        "  # Change list to array\n",
        "  origin_dimension_X = np.array(info_dict['Image'])\n",
        "  labels = np.array(info_dict['cases_medellin'])\n",
        "\n",
        "  print(''.center(60,'-'))\n",
        "\n",
        "  origin_X_train = origin_dimension_X[:train_num,:,:,:]\n",
        "  y_train = labels[:train_num]\n",
        "  origin_X_test = origin_dimension_X[train_num:,:,:,:]\n",
        "  y_test = labels[train_num:]\n",
        "\n",
        "  # print('Total number of weeks:'.ljust(30), len(origin_dimension_X), 'weeks')\n",
        "  # print('Training input:'.ljust(30), origin_X_train.shape)\n",
        "  # print('Training output:'.ljust(30), y_train.shape)\n",
        "  # print('Testing input:'.ljust(30), origin_X_test.shape)\n",
        "  # print('Testing output:'.ljust(30), y_test.shape) \n",
        "\n",
        "  # return origin_X_train, y_train, origin_X_test, y_test"
      ],
      "metadata": {
        "id": "vfQroQbldi2j"
      },
      "execution_count": 3,
      "outputs": []
    },
    {
      "cell_type": "code",
      "source": [
        "import numpy as np \n",
        "import matplotlib.pyplot as plt\n",
        "import pandas as pd\n",
        "import seaborn as sns\n",
        "import math\n",
        "import os\n",
        "import time\n",
        "import sys\n",
        "sys.path.insert(0,'..')\n",
        "\n",
        "from sklearn.preprocessing import MinMaxScaler\n",
        "from sklearn.metrics import mean_squared_error\n",
        "from sklearn.metrics import mean_absolute_percentage_error\n",
        "from sklearn.metrics import  mean_absolute_error\n",
        "from matplotlib import pyplot as plt\n",
        "from sklearn.preprocessing import StandardScaler\n",
        "from sklearn.svm import SVR\n",
        "from sklearn.metrics import r2_score\n",
        "import seaborn as sns\n",
        "from scipy import signal\n",
        "import pickle\n",
        "\n",
        "from sklearn.decomposition import PCA\n",
        "\n",
        "from epiweeks import Week, Year\n",
        "from datetime import date\n",
        "\n",
        "from datetime import date\n",
        "\n",
        "from random import randint, randrange\n",
        "from skimage import io\n",
        "from skimage.transform import rescale, resize, downscale_local_mean\n",
        "\n",
        "import skimage\n",
        "import cv2\n",
        "import os\n",
        "import pandas as pd\n",
        "import numpy as np\n",
        "import pickle\n",
        "import plotly.express as px\n",
        "import matplotlib.pyplot as plt"
      ],
      "metadata": {
        "id": "91lGjT5peHLf"
      },
      "execution_count": 4,
      "outputs": []
    },
    {
      "cell_type": "markdown",
      "source": [
        "# Download metadata:\n",
        "url = \"https://drive.google.com/u/0/uc?id=1RGrXHgvn60L4pHA40M0R0scszHLno5fD&export=download\"\n",
        "\n",
        "url = \"https://drive.google.com/file/d/1RGrXHgvn60L4pHA40M0R0scszHLno5fD/view?usp=sharing\""
      ],
      "metadata": {
        "id": "IYqtUujJuBcS"
      }
    },
    {
      "cell_type": "code",
      "source": [
        "!gdown --id 1RGrXHgvn60L4pHA40M0R0scszHLno5fD\n",
        "!unzip \"dengue.zip\" -d .\n",
        "!rm -f dengue.zip"
      ],
      "metadata": {
        "id": "-mjWzOdNtEzE",
        "colab": {
          "base_uri": "https://localhost:8080/"
        },
        "outputId": "50bc1836-5b5a-4e63-d3c3-d6b0daa88aa6"
      },
      "execution_count": 5,
      "outputs": [
        {
          "output_type": "stream",
          "name": "stdout",
          "text": [
            "Downloading...\n",
            "From: https://drive.google.com/uc?id=1RGrXHgvn60L4pHA40M0R0scszHLno5fD\n",
            "To: /content/dengue.zip\n",
            "\r  0% 0.00/28.7k [00:00<?, ?B/s]\r100% 28.7k/28.7k [00:00<00:00, 32.1MB/s]\n",
            "Archive:  dengue.zip\n",
            "replace ./dengue/merge_cases_temperature_WeeklyPrecipitation_timeseries.csv? [y]es, [n]o, [A]ll, [N]one, [r]ename: y\n",
            "  inflating: ./dengue/merge_cases_temperature_WeeklyPrecipitation_timeseries.csv  \n"
          ]
        }
      ]
    },
    {
      "cell_type": "markdown",
      "source": [
        "## Mount GCP bucket "
      ],
      "metadata": {
        "id": "QU0NOUHgxEpw"
      }
    },
    {
      "cell_type": "code",
      "source": [
        "# authenticate\n",
        "from google.colab import auth\n",
        "auth.authenticate_user()\n",
        "\n",
        "# set your gcp project\n",
        "!gcloud config set project mit-hst-dengue\n",
        "\n",
        "!gsutil -q -m cp -r gs://colombia_sebasmos/DATASET_5_best_cities .\n",
        "\n",
        "!ls DATASET_5_best_cities/"
      ],
      "metadata": {
        "id": "D78h8EZ2UFF-",
        "colab": {
          "base_uri": "https://localhost:8080/"
        },
        "outputId": "1f43baa3-c8ec-42ee-e091-02e0bfa3f783"
      },
      "execution_count": 6,
      "outputs": [
        {
          "output_type": "stream",
          "name": "stdout",
          "text": [
            "Updated property [core/project].\n",
            "Cali  Cúcuta  Ibagué  Medellín\tVillavicencio\n"
          ]
        }
      ]
    },
    {
      "cell_type": "markdown",
      "source": [
        "## Load dataset "
      ],
      "metadata": {
        "id": "UXVpXCH2xPLc"
      }
    },
    {
      "cell_type": "code",
      "source": [
        "csv_folder = \"/content/dengue/merge_cases_temperature_WeeklyPrecipitation_timeseries.csv\"\n",
        "\n",
        "img_folder = \"/content/DATASET_5_best_cities/Medellín\"\n",
        "\n",
        "info_dict = loadData(csv_folder, img_folder, resize_ratio=(0.7, 0.7, 1))#gpeg"
      ],
      "metadata": {
        "id": "heWGi3bads5S",
        "colab": {
          "base_uri": "https://localhost:8080/"
        },
        "outputId": "4473a821-d9f5-470a-c591-67e410f0fe00"
      },
      "execution_count": 7,
      "outputs": [
        {
          "output_type": "stream",
          "name": "stdout",
          "text": [
            "image_2015-11-01.tiff (origin shape: (745, 747, 12) -> rescale: (522, 523, 12))\n",
            "image_2015-11-08.tiff (origin shape: (745, 747, 12) -> rescale: (522, 523, 12))\n",
            "image_2015-11-15.tiff (origin shape: (745, 747, 12) -> rescale: (522, 523, 12))\n",
            "image_2015-11-22.tiff (origin shape: (745, 747, 12) -> rescale: (522, 523, 12))\n",
            "image_2015-11-29.tiff (origin shape: (745, 747, 12) -> rescale: (522, 523, 12))\n",
            "image_2015-12-06.tiff (origin shape: (745, 747, 12) -> rescale: (522, 523, 12))\n",
            "image_2015-12-13.tiff (origin shape: (745, 747, 12) -> rescale: (522, 523, 12))\n",
            "image_2015-12-20.tiff (origin shape: (745, 747, 12) -> rescale: (522, 523, 12))\n",
            "image_2015-12-27.tiff (origin shape: (745, 747, 12) -> rescale: (522, 523, 12))\n",
            "image_2016-01-03.tiff (origin shape: (745, 747, 12) -> rescale: (522, 523, 12))\n",
            "image_2016-01-10.tiff (origin shape: (745, 747, 12) -> rescale: (522, 523, 12))\n",
            "image_2016-01-17.tiff (origin shape: (745, 747, 12) -> rescale: (522, 523, 12))\n",
            "image_2016-01-24.tiff (origin shape: (745, 747, 12) -> rescale: (522, 523, 12))\n",
            "image_2016-01-31.tiff (origin shape: (745, 747, 12) -> rescale: (522, 523, 12))\n",
            "image_2016-02-07.tiff (origin shape: (745, 747, 12) -> rescale: (522, 523, 12))\n",
            "image_2016-02-14.tiff (origin shape: (745, 747, 12) -> rescale: (522, 523, 12))\n",
            "image_2016-02-21.tiff (origin shape: (745, 747, 12) -> rescale: (522, 523, 12))\n",
            "image_2016-02-28.tiff (origin shape: (745, 747, 12) -> rescale: (522, 523, 12))\n",
            "image_2016-03-06.tiff (origin shape: (745, 747, 12) -> rescale: (522, 523, 12))\n",
            "image_2016-03-13.tiff (origin shape: (745, 747, 12) -> rescale: (522, 523, 12))\n",
            "image_2016-03-20.tiff (origin shape: (745, 747, 12) -> rescale: (522, 523, 12))\n",
            "image_2016-03-27.tiff (origin shape: (745, 747, 12) -> rescale: (522, 523, 12))\n",
            "image_2016-04-03.tiff (origin shape: (745, 747, 12) -> rescale: (522, 523, 12))\n",
            "image_2016-04-10.tiff (origin shape: (745, 747, 12) -> rescale: (522, 523, 12))\n",
            "image_2016-04-17.tiff (origin shape: (745, 747, 12) -> rescale: (522, 523, 12))\n",
            "image_2016-04-24.tiff (origin shape: (745, 747, 12) -> rescale: (522, 523, 12))\n",
            "image_2016-05-01.tiff (origin shape: (745, 747, 12) -> rescale: (522, 523, 12))\n",
            "image_2016-05-08.tiff (origin shape: (745, 747, 12) -> rescale: (522, 523, 12))\n",
            "image_2016-05-15.tiff (origin shape: (745, 747, 12) -> rescale: (522, 523, 12))\n",
            "image_2016-05-22.tiff (origin shape: (745, 747, 12) -> rescale: (522, 523, 12))\n",
            "image_2016-05-29.tiff (origin shape: (745, 747, 12) -> rescale: (522, 523, 12))\n",
            "image_2016-06-05.tiff (origin shape: (745, 747, 12) -> rescale: (522, 523, 12))\n",
            "image_2016-06-12.tiff (origin shape: (745, 747, 12) -> rescale: (522, 523, 12))\n",
            "image_2016-06-19.tiff (origin shape: (745, 747, 12) -> rescale: (522, 523, 12))\n",
            "image_2016-06-26.tiff (origin shape: (745, 747, 12) -> rescale: (522, 523, 12))\n",
            "image_2016-07-03.tiff (origin shape: (745, 747, 12) -> rescale: (522, 523, 12))\n",
            "image_2016-07-10.tiff (origin shape: (745, 747, 12) -> rescale: (522, 523, 12))\n",
            "image_2016-07-17.tiff (origin shape: (745, 747, 12) -> rescale: (522, 523, 12))\n",
            "image_2016-07-24.tiff (origin shape: (745, 747, 12) -> rescale: (522, 523, 12))\n",
            "image_2016-07-31.tiff (origin shape: (745, 747, 12) -> rescale: (522, 523, 12))\n",
            "image_2016-08-07.tiff (origin shape: (745, 747, 12) -> rescale: (522, 523, 12))\n",
            "image_2016-08-14.tiff (origin shape: (745, 747, 12) -> rescale: (522, 523, 12))\n",
            "image_2016-08-21.tiff (origin shape: (745, 747, 12) -> rescale: (522, 523, 12))\n",
            "image_2016-08-28.tiff (origin shape: (745, 747, 12) -> rescale: (522, 523, 12))\n",
            "image_2016-09-04.tiff (origin shape: (745, 747, 12) -> rescale: (522, 523, 12))\n",
            "image_2016-09-11.tiff (origin shape: (745, 747, 12) -> rescale: (522, 523, 12))\n",
            "image_2016-09-18.tiff (origin shape: (745, 747, 12) -> rescale: (522, 523, 12))\n",
            "image_2016-09-25.tiff (origin shape: (745, 747, 12) -> rescale: (522, 523, 12))\n",
            "image_2016-10-02.tiff (origin shape: (745, 747, 12) -> rescale: (522, 523, 12))\n",
            "image_2016-10-09.tiff (origin shape: (745, 747, 12) -> rescale: (522, 523, 12))\n",
            "image_2016-10-16.tiff (origin shape: (745, 747, 12) -> rescale: (522, 523, 12))\n",
            "image_2016-10-23.tiff (origin shape: (745, 747, 12) -> rescale: (522, 523, 12))\n",
            "image_2016-10-30.tiff (origin shape: (745, 747, 12) -> rescale: (522, 523, 12))\n",
            "image_2016-11-06.tiff (origin shape: (745, 747, 12) -> rescale: (522, 523, 12))\n",
            "image_2016-11-13.tiff (origin shape: (745, 747, 12) -> rescale: (522, 523, 12))\n",
            "image_2016-11-20.tiff (origin shape: (745, 747, 12) -> rescale: (522, 523, 12))\n",
            "image_2016-11-27.tiff (origin shape: (745, 747, 12) -> rescale: (522, 523, 12))\n",
            "image_2016-12-04.tiff (origin shape: (745, 747, 12) -> rescale: (522, 523, 12))\n",
            "image_2016-12-11.tiff (origin shape: (745, 747, 12) -> rescale: (522, 523, 12))\n",
            "image_2016-12-18.tiff (origin shape: (745, 747, 12) -> rescale: (522, 523, 12))\n",
            "image_2017-01-01.tiff (origin shape: (745, 747, 12) -> rescale: (522, 523, 12))\n",
            "image_2017-01-01.tiff (origin shape: (745, 747, 12) -> rescale: (522, 523, 12))\n",
            "image_2017-01-08.tiff (origin shape: (745, 747, 12) -> rescale: (522, 523, 12))\n",
            "image_2017-01-15.tiff (origin shape: (745, 747, 12) -> rescale: (522, 523, 12))\n",
            "image_2017-01-22.tiff (origin shape: (745, 747, 12) -> rescale: (522, 523, 12))\n",
            "image_2017-01-29.tiff (origin shape: (745, 747, 12) -> rescale: (522, 523, 12))\n",
            "image_2017-02-05.tiff (origin shape: (745, 747, 12) -> rescale: (522, 523, 12))\n",
            "image_2017-02-12.tiff (origin shape: (745, 747, 12) -> rescale: (522, 523, 12))\n",
            "image_2017-02-19.tiff (origin shape: (745, 747, 12) -> rescale: (522, 523, 12))\n",
            "image_2017-02-26.tiff (origin shape: (745, 747, 12) -> rescale: (522, 523, 12))\n",
            "image_2017-03-05.tiff (origin shape: (745, 747, 12) -> rescale: (522, 523, 12))\n",
            "image_2017-03-12.tiff (origin shape: (745, 747, 12) -> rescale: (522, 523, 12))\n",
            "image_2017-03-19.tiff (origin shape: (745, 747, 12) -> rescale: (522, 523, 12))\n",
            "image_2017-03-26.tiff (origin shape: (745, 747, 12) -> rescale: (522, 523, 12))\n",
            "image_2017-04-02.tiff (origin shape: (745, 747, 12) -> rescale: (522, 523, 12))\n",
            "image_2017-04-09.tiff (origin shape: (745, 747, 12) -> rescale: (522, 523, 12))\n",
            "image_2017-04-16.tiff (origin shape: (745, 747, 12) -> rescale: (522, 523, 12))\n",
            "image_2017-04-23.tiff (origin shape: (745, 747, 12) -> rescale: (522, 523, 12))\n",
            "image_2017-04-30.tiff (origin shape: (745, 747, 12) -> rescale: (522, 523, 12))\n",
            "image_2017-05-07.tiff (origin shape: (745, 747, 12) -> rescale: (522, 523, 12))\n",
            "image_2017-05-14.tiff (origin shape: (745, 747, 12) -> rescale: (522, 523, 12))\n",
            "image_2017-05-21.tiff (origin shape: (745, 747, 12) -> rescale: (522, 523, 12))\n",
            "image_2017-05-28.tiff (origin shape: (745, 747, 12) -> rescale: (522, 523, 12))\n",
            "image_2017-06-04.tiff (origin shape: (745, 747, 12) -> rescale: (522, 523, 12))\n",
            "image_2017-06-11.tiff (origin shape: (745, 747, 12) -> rescale: (522, 523, 12))\n",
            "image_2017-06-18.tiff (origin shape: (745, 747, 12) -> rescale: (522, 523, 12))\n",
            "image_2017-06-25.tiff (origin shape: (745, 747, 12) -> rescale: (522, 523, 12))\n",
            "image_2017-07-02.tiff (origin shape: (745, 747, 12) -> rescale: (522, 523, 12))\n",
            "image_2017-07-09.tiff (origin shape: (745, 747, 12) -> rescale: (522, 523, 12))\n",
            "image_2017-07-16.tiff (origin shape: (745, 747, 12) -> rescale: (522, 523, 12))\n",
            "image_2017-07-23.tiff (origin shape: (745, 747, 12) -> rescale: (522, 523, 12))\n",
            "image_2017-07-30.tiff (origin shape: (745, 747, 12) -> rescale: (522, 523, 12))\n",
            "image_2017-08-06.tiff (origin shape: (745, 747, 12) -> rescale: (522, 523, 12))\n",
            "image_2017-08-13.tiff (origin shape: (745, 747, 12) -> rescale: (522, 523, 12))\n",
            "image_2017-08-20.tiff (origin shape: (745, 747, 12) -> rescale: (522, 523, 12))\n",
            "image_2017-08-27.tiff (origin shape: (745, 747, 12) -> rescale: (522, 523, 12))\n",
            "image_2017-09-03.tiff (origin shape: (745, 747, 12) -> rescale: (522, 523, 12))\n",
            "image_2017-09-10.tiff (origin shape: (745, 747, 12) -> rescale: (522, 523, 12))\n",
            "image_2017-09-17.tiff (origin shape: (745, 747, 12) -> rescale: (522, 523, 12))\n",
            "image_2017-09-24.tiff (origin shape: (745, 747, 12) -> rescale: (522, 523, 12))\n",
            "image_2017-10-01.tiff (origin shape: (745, 747, 12) -> rescale: (522, 523, 12))\n",
            "image_2017-10-08.tiff (origin shape: (745, 747, 12) -> rescale: (522, 523, 12))\n",
            "image_2017-10-15.tiff (origin shape: (745, 747, 12) -> rescale: (522, 523, 12))\n",
            "image_2017-10-22.tiff (origin shape: (745, 747, 12) -> rescale: (522, 523, 12))\n",
            "image_2017-10-29.tiff (origin shape: (745, 747, 12) -> rescale: (522, 523, 12))\n",
            "image_2017-11-05.tiff (origin shape: (745, 747, 12) -> rescale: (522, 523, 12))\n",
            "image_2017-11-12.tiff (origin shape: (745, 747, 12) -> rescale: (522, 523, 12))\n",
            "image_2017-11-19.tiff (origin shape: (745, 747, 12) -> rescale: (522, 523, 12))\n",
            "image_2017-11-26.tiff (origin shape: (745, 747, 12) -> rescale: (522, 523, 12))\n",
            "image_2017-12-03.tiff (origin shape: (745, 747, 12) -> rescale: (522, 523, 12))\n",
            "image_2017-12-10.tiff (origin shape: (745, 747, 12) -> rescale: (522, 523, 12))\n",
            "image_2017-12-17.tiff (origin shape: (745, 747, 12) -> rescale: (522, 523, 12))\n",
            "image_2017-12-31.tiff (origin shape: (745, 747, 12) -> rescale: (522, 523, 12))\n",
            "image_2018-01-07.tiff (origin shape: (745, 747, 12) -> rescale: (522, 523, 12))\n",
            "image_2018-01-14.tiff (origin shape: (745, 747, 12) -> rescale: (522, 523, 12))\n",
            "image_2018-01-21.tiff (origin shape: (745, 747, 12) -> rescale: (522, 523, 12))\n",
            "image_2018-01-28.tiff (origin shape: (745, 747, 12) -> rescale: (522, 523, 12))\n",
            "image_2018-02-04.tiff (origin shape: (745, 747, 12) -> rescale: (522, 523, 12))\n",
            "image_2018-02-11.tiff (origin shape: (745, 747, 12) -> rescale: (522, 523, 12))\n",
            "image_2018-02-18.tiff (origin shape: (745, 747, 12) -> rescale: (522, 523, 12))\n",
            "image_2018-02-25.tiff (origin shape: (745, 747, 12) -> rescale: (522, 523, 12))\n",
            "image_2018-03-04.tiff (origin shape: (745, 747, 12) -> rescale: (522, 523, 12))\n",
            "image_2018-03-11.tiff (origin shape: (745, 747, 12) -> rescale: (522, 523, 12))\n",
            "image_2018-03-18.tiff (origin shape: (745, 747, 12) -> rescale: (522, 523, 12))\n",
            "image_2018-03-25.tiff (origin shape: (745, 747, 12) -> rescale: (522, 523, 12))\n",
            "image_2018-04-01.tiff (origin shape: (745, 747, 12) -> rescale: (522, 523, 12))\n",
            "image_2018-04-08.tiff (origin shape: (745, 747, 12) -> rescale: (522, 523, 12))\n",
            "image_2018-04-15.tiff (origin shape: (745, 747, 12) -> rescale: (522, 523, 12))\n",
            "image_2018-04-22.tiff (origin shape: (745, 747, 12) -> rescale: (522, 523, 12))\n",
            "image_2018-04-29.tiff (origin shape: (745, 747, 12) -> rescale: (522, 523, 12))\n",
            "image_2018-05-06.tiff (origin shape: (745, 747, 12) -> rescale: (522, 523, 12))\n",
            "image_2018-05-13.tiff (origin shape: (745, 747, 12) -> rescale: (522, 523, 12))\n",
            "image_2018-05-20.tiff (origin shape: (745, 747, 12) -> rescale: (522, 523, 12))\n",
            "image_2018-05-27.tiff (origin shape: (745, 747, 12) -> rescale: (522, 523, 12))\n",
            "image_2018-06-03.tiff (origin shape: (745, 747, 12) -> rescale: (522, 523, 12))\n",
            "image_2018-06-10.tiff (origin shape: (745, 747, 12) -> rescale: (522, 523, 12))\n",
            "image_2018-06-17.tiff (origin shape: (745, 747, 12) -> rescale: (522, 523, 12))\n",
            "image_2018-06-24.tiff (origin shape: (745, 747, 12) -> rescale: (522, 523, 12))\n",
            "image_2018-07-01.tiff (origin shape: (745, 747, 12) -> rescale: (522, 523, 12))\n",
            "image_2018-07-08.tiff (origin shape: (745, 747, 12) -> rescale: (522, 523, 12))\n",
            "image_2018-07-15.tiff (origin shape: (745, 747, 12) -> rescale: (522, 523, 12))\n",
            "image_2018-07-22.tiff (origin shape: (745, 747, 12) -> rescale: (522, 523, 12))\n",
            "image_2018-07-29.tiff (origin shape: (745, 747, 12) -> rescale: (522, 523, 12))\n",
            "image_2018-08-05.tiff (origin shape: (745, 747, 12) -> rescale: (522, 523, 12))\n",
            "image_2018-08-12.tiff (origin shape: (745, 747, 12) -> rescale: (522, 523, 12))\n",
            "image_2018-08-19.tiff (origin shape: (745, 747, 12) -> rescale: (522, 523, 12))\n",
            "image_2018-08-26.tiff (origin shape: (745, 747, 12) -> rescale: (522, 523, 12))\n",
            "image_2018-09-02.tiff (origin shape: (745, 747, 12) -> rescale: (522, 523, 12))\n",
            "image_2018-09-09.tiff (origin shape: (745, 747, 12) -> rescale: (522, 523, 12))\n",
            "image_2018-09-16.tiff (origin shape: (745, 747, 12) -> rescale: (522, 523, 12))\n",
            "image_2018-09-23.tiff (origin shape: (745, 747, 12) -> rescale: (522, 523, 12))\n",
            "image_2018-09-30.tiff (origin shape: (745, 747, 12) -> rescale: (522, 523, 12))\n",
            "image_2018-10-07.tiff (origin shape: (745, 747, 12) -> rescale: (522, 523, 12))\n",
            "image_2018-10-14.tiff (origin shape: (745, 747, 12) -> rescale: (522, 523, 12))\n",
            "image_2018-10-21.tiff (origin shape: (745, 747, 12) -> rescale: (522, 523, 12))\n",
            "image_2018-10-28.tiff (origin shape: (745, 747, 12) -> rescale: (522, 523, 12))\n",
            "image_2018-11-04.tiff (origin shape: (745, 747, 12) -> rescale: (522, 523, 12))\n",
            "image_2018-11-11.tiff (origin shape: (745, 747, 12) -> rescale: (522, 523, 12))\n",
            "image_2018-11-18.tiff (origin shape: (745, 747, 12) -> rescale: (522, 523, 12))\n",
            "image_2018-11-25.tiff (origin shape: (745, 747, 12) -> rescale: (522, 523, 12))\n",
            "image_2018-12-02.tiff (origin shape: (745, 747, 12) -> rescale: (522, 523, 12))\n",
            "image_2018-12-09.tiff (origin shape: (745, 747, 12) -> rescale: (522, 523, 12))\n",
            "image_2018-12-16.tiff (origin shape: (745, 747, 12) -> rescale: (522, 523, 12))\n",
            "image_2018-12-23.tiff (origin shape: (745, 747, 12) -> rescale: (522, 523, 12))\n",
            "164 164 164\n"
          ]
        }
      ]
    },
    {
      "cell_type": "code",
      "source": [
        "  # Change list to array\n",
        "df_med = np.array(info_dict['Image'])\n",
        "labels = np.array(info_dict['cases_medellin'])\n",
        "img_names = np.array(info_dict['path_name'])\n",
        "\n",
        "print(''.center(60,'-'))\n",
        "print(f\"shape origin_dimension_X: {df_med.shape}\")\n",
        "print(f\"labels {labels.shape}\")\n",
        "print(f\"labels {paths.shape}\")\n",
        "\n",
        "# Filter channels\n",
        "df_med_rgb = df_med[:,:,:,1:4]\n",
        "df_med_rgb = np.array(df_med_rgb)"
      ],
      "metadata": {
        "colab": {
          "base_uri": "https://localhost:8080/"
        },
        "id": "RIXcJ6dFDe7I",
        "outputId": "289e1b49-fb70-4a00-dc22-617e13b2ed6e"
      },
      "execution_count": 8,
      "outputs": [
        {
          "output_type": "stream",
          "name": "stdout",
          "text": [
            "------------------------------------------------------------\n",
            "shape origin_dimension_X: (164, 522, 523, 12)\n",
            "labels (164,)\n",
            "labels (164,)\n"
          ]
        }
      ]
    },
    {
      "cell_type": "code",
      "source": [
        "N_SIZE = len(img_names)\n",
        "df_test = df_med_rgb[:N_SIZE]\n",
        "path_test = img_names[:N_SIZE]\n",
        "print(df_test.shape)\n",
        "print(path_test.shape)"
      ],
      "metadata": {
        "colab": {
          "base_uri": "https://localhost:8080/"
        },
        "id": "D7u2rmCuIRWy",
        "outputId": "60c1029f-bf39-4168-841d-f21a87706e05"
      },
      "execution_count": 43,
      "outputs": [
        {
          "output_type": "stream",
          "name": "stdout",
          "text": [
            "(164, 522, 523, 3)\n",
            "(164,)\n"
          ]
        }
      ]
    },
    {
      "cell_type": "markdown",
      "source": [
        "# Similarity analysis based on [hash imag](https://github.com/JohannesBuchner/imagehash)"
      ],
      "metadata": {
        "id": "Q8hMaluJGKkK"
      }
    },
    {
      "cell_type": "code",
      "source": [
        "!pip install ImageHash\n",
        "! pip install imutils\n",
        "import cv2 \n",
        "from PIL import Image\n",
        "import imagehash\n",
        "from imutils import paths\n",
        "import argparse\n",
        "import time\n",
        "import sys\n",
        "import cv2\n",
        "import os"
      ],
      "metadata": {
        "id": "J7SLIaDJFaN9"
      },
      "execution_count": 29,
      "outputs": []
    },
    {
      "cell_type": "code",
      "source": [
        "def hash_difference(image, hashSize=8):\n",
        "\tresized = cv2.resize(image, (hashSize + 1, hashSize))\n",
        "\tdiff = resized[:, 1:] > resized[:, :-1]\n",
        "\treturn sum([2 ** i for (i, v) in enumerate(diff.flatten()) if v])"
      ],
      "metadata": {
        "colab": {
          "base_uri": "https://localhost:8080/"
        },
        "id": "ifuBpvVtH7k2",
        "outputId": "1b067d81-b103-4c0a-a90d-0daaa350e893"
      },
      "execution_count": 30,
      "outputs": [
        {
          "output_type": "stream",
          "name": "stdout",
          "text": [
            "Requirement already satisfied: imutils in /usr/local/lib/python3.7/dist-packages (0.5.4)\n"
          ]
        }
      ]
    },
    {
      "cell_type": "code",
      "source": [
        "dict_hash = []\n",
        "for img in df_test:\n",
        "  img_float32 = np.float32(img)\n",
        "  image = cv2.cvtColor(img_float32, cv2.COLOR_BGR2RGB)\n",
        "  imageHash = hash_difference(image)\n",
        "  dict_hash.append(imageHash)\n",
        "\n",
        "data = {\"img_hash\": dict_hash,\n",
        "        \"img_names\": path_test }\n",
        "df = pd.DataFrame(data = data)"
      ],
      "metadata": {
        "id": "ZBLmumjoNng0"
      },
      "execution_count": 44,
      "outputs": []
    },
    {
      "cell_type": "code",
      "source": [
        "df.head(10)"
      ],
      "metadata": {
        "colab": {
          "base_uri": "https://localhost:8080/",
          "height": 363
        },
        "id": "oA3qtV9xUMN5",
        "outputId": "6d413616-b9f3-4521-ec8e-d148f11f316e"
      },
      "execution_count": 47,
      "outputs": [
        {
          "output_type": "execute_result",
          "data": {
            "text/plain": [
              "                                            img_hash              img_names\n",
              "0  1082029825054682594177703657417264921327714136...  image_2015-11-01.tiff\n",
              "1  1082029825054682594177703657417264921327714136...  image_2015-11-08.tiff\n",
              "2  3591786525397209849705251677280222948750308852...  image_2015-11-15.tiff\n",
              "3  3591786525397209849705251677280222948750308852...  image_2015-11-22.tiff\n",
              "4  7723991248757702845991348667220473825396663840...  image_2015-11-29.tiff\n",
              "5  7723991248757702845991348667220473825396663840...  image_2015-12-06.tiff\n",
              "6  5503212482461189564776023212534235735174831981...  image_2015-12-13.tiff\n",
              "7  6189770821554048558513150227407084088689581231...  image_2015-12-20.tiff\n",
              "8  6880878732760416652950870064280036308209758219...  image_2015-12-27.tiff\n",
              "9  5492652629644850009002618031581405156732231351...  image_2016-01-03.tiff"
            ],
            "text/html": [
              "\n",
              "  <div id=\"df-843736ec-13b7-42a3-a36c-5c1e5bcd0cc5\">\n",
              "    <div class=\"colab-df-container\">\n",
              "      <div>\n",
              "<style scoped>\n",
              "    .dataframe tbody tr th:only-of-type {\n",
              "        vertical-align: middle;\n",
              "    }\n",
              "\n",
              "    .dataframe tbody tr th {\n",
              "        vertical-align: top;\n",
              "    }\n",
              "\n",
              "    .dataframe thead th {\n",
              "        text-align: right;\n",
              "    }\n",
              "</style>\n",
              "<table border=\"1\" class=\"dataframe\">\n",
              "  <thead>\n",
              "    <tr style=\"text-align: right;\">\n",
              "      <th></th>\n",
              "      <th>img_hash</th>\n",
              "      <th>img_names</th>\n",
              "    </tr>\n",
              "  </thead>\n",
              "  <tbody>\n",
              "    <tr>\n",
              "      <th>0</th>\n",
              "      <td>1082029825054682594177703657417264921327714136...</td>\n",
              "      <td>image_2015-11-01.tiff</td>\n",
              "    </tr>\n",
              "    <tr>\n",
              "      <th>1</th>\n",
              "      <td>1082029825054682594177703657417264921327714136...</td>\n",
              "      <td>image_2015-11-08.tiff</td>\n",
              "    </tr>\n",
              "    <tr>\n",
              "      <th>2</th>\n",
              "      <td>3591786525397209849705251677280222948750308852...</td>\n",
              "      <td>image_2015-11-15.tiff</td>\n",
              "    </tr>\n",
              "    <tr>\n",
              "      <th>3</th>\n",
              "      <td>3591786525397209849705251677280222948750308852...</td>\n",
              "      <td>image_2015-11-22.tiff</td>\n",
              "    </tr>\n",
              "    <tr>\n",
              "      <th>4</th>\n",
              "      <td>7723991248757702845991348667220473825396663840...</td>\n",
              "      <td>image_2015-11-29.tiff</td>\n",
              "    </tr>\n",
              "    <tr>\n",
              "      <th>5</th>\n",
              "      <td>7723991248757702845991348667220473825396663840...</td>\n",
              "      <td>image_2015-12-06.tiff</td>\n",
              "    </tr>\n",
              "    <tr>\n",
              "      <th>6</th>\n",
              "      <td>5503212482461189564776023212534235735174831981...</td>\n",
              "      <td>image_2015-12-13.tiff</td>\n",
              "    </tr>\n",
              "    <tr>\n",
              "      <th>7</th>\n",
              "      <td>6189770821554048558513150227407084088689581231...</td>\n",
              "      <td>image_2015-12-20.tiff</td>\n",
              "    </tr>\n",
              "    <tr>\n",
              "      <th>8</th>\n",
              "      <td>6880878732760416652950870064280036308209758219...</td>\n",
              "      <td>image_2015-12-27.tiff</td>\n",
              "    </tr>\n",
              "    <tr>\n",
              "      <th>9</th>\n",
              "      <td>5492652629644850009002618031581405156732231351...</td>\n",
              "      <td>image_2016-01-03.tiff</td>\n",
              "    </tr>\n",
              "  </tbody>\n",
              "</table>\n",
              "</div>\n",
              "      <button class=\"colab-df-convert\" onclick=\"convertToInteractive('df-843736ec-13b7-42a3-a36c-5c1e5bcd0cc5')\"\n",
              "              title=\"Convert this dataframe to an interactive table.\"\n",
              "              style=\"display:none;\">\n",
              "        \n",
              "  <svg xmlns=\"http://www.w3.org/2000/svg\" height=\"24px\"viewBox=\"0 0 24 24\"\n",
              "       width=\"24px\">\n",
              "    <path d=\"M0 0h24v24H0V0z\" fill=\"none\"/>\n",
              "    <path d=\"M18.56 5.44l.94 2.06.94-2.06 2.06-.94-2.06-.94-.94-2.06-.94 2.06-2.06.94zm-11 1L8.5 8.5l.94-2.06 2.06-.94-2.06-.94L8.5 2.5l-.94 2.06-2.06.94zm10 10l.94 2.06.94-2.06 2.06-.94-2.06-.94-.94-2.06-.94 2.06-2.06.94z\"/><path d=\"M17.41 7.96l-1.37-1.37c-.4-.4-.92-.59-1.43-.59-.52 0-1.04.2-1.43.59L10.3 9.45l-7.72 7.72c-.78.78-.78 2.05 0 2.83L4 21.41c.39.39.9.59 1.41.59.51 0 1.02-.2 1.41-.59l7.78-7.78 2.81-2.81c.8-.78.8-2.07 0-2.86zM5.41 20L4 18.59l7.72-7.72 1.47 1.35L5.41 20z\"/>\n",
              "  </svg>\n",
              "      </button>\n",
              "      \n",
              "  <style>\n",
              "    .colab-df-container {\n",
              "      display:flex;\n",
              "      flex-wrap:wrap;\n",
              "      gap: 12px;\n",
              "    }\n",
              "\n",
              "    .colab-df-convert {\n",
              "      background-color: #E8F0FE;\n",
              "      border: none;\n",
              "      border-radius: 50%;\n",
              "      cursor: pointer;\n",
              "      display: none;\n",
              "      fill: #1967D2;\n",
              "      height: 32px;\n",
              "      padding: 0 0 0 0;\n",
              "      width: 32px;\n",
              "    }\n",
              "\n",
              "    .colab-df-convert:hover {\n",
              "      background-color: #E2EBFA;\n",
              "      box-shadow: 0px 1px 2px rgba(60, 64, 67, 0.3), 0px 1px 3px 1px rgba(60, 64, 67, 0.15);\n",
              "      fill: #174EA6;\n",
              "    }\n",
              "\n",
              "    [theme=dark] .colab-df-convert {\n",
              "      background-color: #3B4455;\n",
              "      fill: #D2E3FC;\n",
              "    }\n",
              "\n",
              "    [theme=dark] .colab-df-convert:hover {\n",
              "      background-color: #434B5C;\n",
              "      box-shadow: 0px 1px 3px 1px rgba(0, 0, 0, 0.15);\n",
              "      filter: drop-shadow(0px 1px 2px rgba(0, 0, 0, 0.3));\n",
              "      fill: #FFFFFF;\n",
              "    }\n",
              "  </style>\n",
              "\n",
              "      <script>\n",
              "        const buttonEl =\n",
              "          document.querySelector('#df-843736ec-13b7-42a3-a36c-5c1e5bcd0cc5 button.colab-df-convert');\n",
              "        buttonEl.style.display =\n",
              "          google.colab.kernel.accessAllowed ? 'block' : 'none';\n",
              "\n",
              "        async function convertToInteractive(key) {\n",
              "          const element = document.querySelector('#df-843736ec-13b7-42a3-a36c-5c1e5bcd0cc5');\n",
              "          const dataTable =\n",
              "            await google.colab.kernel.invokeFunction('convertToInteractive',\n",
              "                                                     [key], {});\n",
              "          if (!dataTable) return;\n",
              "\n",
              "          const docLinkHtml = 'Like what you see? Visit the ' +\n",
              "            '<a target=\"_blank\" href=https://colab.research.google.com/notebooks/data_table.ipynb>data table notebook</a>'\n",
              "            + ' to learn more about interactive tables.';\n",
              "          element.innerHTML = '';\n",
              "          dataTable['output_type'] = 'display_data';\n",
              "          await google.colab.output.renderOutput(dataTable, element);\n",
              "          const docLink = document.createElement('div');\n",
              "          docLink.innerHTML = docLinkHtml;\n",
              "          element.appendChild(docLink);\n",
              "        }\n",
              "      </script>\n",
              "    </div>\n",
              "  </div>\n",
              "  "
            ]
          },
          "metadata": {},
          "execution_count": 47
        }
      ]
    },
    {
      "cell_type": "code",
      "source": [
        "df.groupby(\"img_hash\").count()"
      ],
      "metadata": {
        "colab": {
          "base_uri": "https://localhost:8080/",
          "height": 455
        },
        "id": "Mkzrb-n1QZEv",
        "outputId": "f843d154-9086-4151-c0b9-ce057b4fe61c"
      },
      "execution_count": 46,
      "outputs": [
        {
          "output_type": "execute_result",
          "data": {
            "text/plain": [
              "                                                    img_names\n",
              "img_hash                                                     \n",
              "17218272793594940962402240                                  2\n",
              "35917865253972098497052516772802229487503088522...          2\n",
              "40407598283639752277837729406783945979946626255...          1\n",
              "13618856958775943954624219335241306001690814396...          1\n",
              "13618857301315390205508461726132750937374055561...          1\n",
              "...                                                       ...\n",
              "62648447180964546948721291339713341906654972703...          1\n",
              "62650305320445757900461678973403817903363036052...          1\n",
              "62662040301693215159200678562976070265918991352...          1\n",
              "62757579949846308329582980342400608554088578359...          1\n",
              "62770837764533123618499913710884309480737980928...          2\n",
              "\n",
              "[146 rows x 1 columns]"
            ],
            "text/html": [
              "\n",
              "  <div id=\"df-94746748-60c2-4957-8454-47550aacb000\">\n",
              "    <div class=\"colab-df-container\">\n",
              "      <div>\n",
              "<style scoped>\n",
              "    .dataframe tbody tr th:only-of-type {\n",
              "        vertical-align: middle;\n",
              "    }\n",
              "\n",
              "    .dataframe tbody tr th {\n",
              "        vertical-align: top;\n",
              "    }\n",
              "\n",
              "    .dataframe thead th {\n",
              "        text-align: right;\n",
              "    }\n",
              "</style>\n",
              "<table border=\"1\" class=\"dataframe\">\n",
              "  <thead>\n",
              "    <tr style=\"text-align: right;\">\n",
              "      <th></th>\n",
              "      <th>img_names</th>\n",
              "    </tr>\n",
              "    <tr>\n",
              "      <th>img_hash</th>\n",
              "      <th></th>\n",
              "    </tr>\n",
              "  </thead>\n",
              "  <tbody>\n",
              "    <tr>\n",
              "      <th>17218272793594940962402240</th>\n",
              "      <td>2</td>\n",
              "    </tr>\n",
              "    <tr>\n",
              "      <th>359178652539720984970525167728022294875030885226020800</th>\n",
              "      <td>2</td>\n",
              "    </tr>\n",
              "    <tr>\n",
              "      <th>404075982836397522778377294067839459799466262553956288</th>\n",
              "      <td>1</td>\n",
              "    </tr>\n",
              "    <tr>\n",
              "      <th>1361885695877594395462421933524130600169081439633833920</th>\n",
              "      <td>1</td>\n",
              "    </tr>\n",
              "    <tr>\n",
              "      <th>1361885730131539020550846172613275093737405556149194688</th>\n",
              "      <td>1</td>\n",
              "    </tr>\n",
              "    <tr>\n",
              "      <th>...</th>\n",
              "      <td>...</td>\n",
              "    </tr>\n",
              "    <tr>\n",
              "      <th>6264844718096454694872129133971334190665497270332879245248</th>\n",
              "      <td>1</td>\n",
              "    </tr>\n",
              "    <tr>\n",
              "      <th>6265030532044575790046167897340381790336303605295764737792</th>\n",
              "      <td>1</td>\n",
              "    </tr>\n",
              "    <tr>\n",
              "      <th>6266204030169321515920067856297607026591899135220331286072</th>\n",
              "      <td>1</td>\n",
              "    </tr>\n",
              "    <tr>\n",
              "      <th>6275757994984630832958298034240060855408857835908517327296</th>\n",
              "      <td>1</td>\n",
              "    </tr>\n",
              "    <tr>\n",
              "      <th>6277083776453312361849991371088430948073798092828121759743</th>\n",
              "      <td>2</td>\n",
              "    </tr>\n",
              "  </tbody>\n",
              "</table>\n",
              "<p>146 rows × 1 columns</p>\n",
              "</div>\n",
              "      <button class=\"colab-df-convert\" onclick=\"convertToInteractive('df-94746748-60c2-4957-8454-47550aacb000')\"\n",
              "              title=\"Convert this dataframe to an interactive table.\"\n",
              "              style=\"display:none;\">\n",
              "        \n",
              "  <svg xmlns=\"http://www.w3.org/2000/svg\" height=\"24px\"viewBox=\"0 0 24 24\"\n",
              "       width=\"24px\">\n",
              "    <path d=\"M0 0h24v24H0V0z\" fill=\"none\"/>\n",
              "    <path d=\"M18.56 5.44l.94 2.06.94-2.06 2.06-.94-2.06-.94-.94-2.06-.94 2.06-2.06.94zm-11 1L8.5 8.5l.94-2.06 2.06-.94-2.06-.94L8.5 2.5l-.94 2.06-2.06.94zm10 10l.94 2.06.94-2.06 2.06-.94-2.06-.94-.94-2.06-.94 2.06-2.06.94z\"/><path d=\"M17.41 7.96l-1.37-1.37c-.4-.4-.92-.59-1.43-.59-.52 0-1.04.2-1.43.59L10.3 9.45l-7.72 7.72c-.78.78-.78 2.05 0 2.83L4 21.41c.39.39.9.59 1.41.59.51 0 1.02-.2 1.41-.59l7.78-7.78 2.81-2.81c.8-.78.8-2.07 0-2.86zM5.41 20L4 18.59l7.72-7.72 1.47 1.35L5.41 20z\"/>\n",
              "  </svg>\n",
              "      </button>\n",
              "      \n",
              "  <style>\n",
              "    .colab-df-container {\n",
              "      display:flex;\n",
              "      flex-wrap:wrap;\n",
              "      gap: 12px;\n",
              "    }\n",
              "\n",
              "    .colab-df-convert {\n",
              "      background-color: #E8F0FE;\n",
              "      border: none;\n",
              "      border-radius: 50%;\n",
              "      cursor: pointer;\n",
              "      display: none;\n",
              "      fill: #1967D2;\n",
              "      height: 32px;\n",
              "      padding: 0 0 0 0;\n",
              "      width: 32px;\n",
              "    }\n",
              "\n",
              "    .colab-df-convert:hover {\n",
              "      background-color: #E2EBFA;\n",
              "      box-shadow: 0px 1px 2px rgba(60, 64, 67, 0.3), 0px 1px 3px 1px rgba(60, 64, 67, 0.15);\n",
              "      fill: #174EA6;\n",
              "    }\n",
              "\n",
              "    [theme=dark] .colab-df-convert {\n",
              "      background-color: #3B4455;\n",
              "      fill: #D2E3FC;\n",
              "    }\n",
              "\n",
              "    [theme=dark] .colab-df-convert:hover {\n",
              "      background-color: #434B5C;\n",
              "      box-shadow: 0px 1px 3px 1px rgba(0, 0, 0, 0.15);\n",
              "      filter: drop-shadow(0px 1px 2px rgba(0, 0, 0, 0.3));\n",
              "      fill: #FFFFFF;\n",
              "    }\n",
              "  </style>\n",
              "\n",
              "      <script>\n",
              "        const buttonEl =\n",
              "          document.querySelector('#df-94746748-60c2-4957-8454-47550aacb000 button.colab-df-convert');\n",
              "        buttonEl.style.display =\n",
              "          google.colab.kernel.accessAllowed ? 'block' : 'none';\n",
              "\n",
              "        async function convertToInteractive(key) {\n",
              "          const element = document.querySelector('#df-94746748-60c2-4957-8454-47550aacb000');\n",
              "          const dataTable =\n",
              "            await google.colab.kernel.invokeFunction('convertToInteractive',\n",
              "                                                     [key], {});\n",
              "          if (!dataTable) return;\n",
              "\n",
              "          const docLinkHtml = 'Like what you see? Visit the ' +\n",
              "            '<a target=\"_blank\" href=https://colab.research.google.com/notebooks/data_table.ipynb>data table notebook</a>'\n",
              "            + ' to learn more about interactive tables.';\n",
              "          element.innerHTML = '';\n",
              "          dataTable['output_type'] = 'display_data';\n",
              "          await google.colab.output.renderOutput(dataTable, element);\n",
              "          const docLink = document.createElement('div');\n",
              "          docLink.innerHTML = docLinkHtml;\n",
              "          element.appendChild(docLink);\n",
              "        }\n",
              "      </script>\n",
              "    </div>\n",
              "  </div>\n",
              "  "
            ]
          },
          "metadata": {},
          "execution_count": 46
        }
      ]
    },
    {
      "cell_type": "code",
      "source": [
        "num_img_per_hash = df.groupby(\"img_hash\").size().sort_values(ascending = False).reset_index(name = \"img_names\")\n",
        "display(num_img_per_hash.head(10))\n",
        "print(sum(num_img_per_hash[\"img_names\"]))\n",
        "num_img_per_hash.hist(\"img_names\", bins = 20)\n",
        "plt.xlabel('# Repeated hashes')\n",
        "plt.title('hashes per img')"
      ],
      "metadata": {
        "colab": {
          "base_uri": "https://localhost:8080/",
          "height": 677
        },
        "id": "ASaj_1EQVcZn",
        "outputId": "78526b03-eb72-4c0f-beb7-e37d453e5b63"
      },
      "execution_count": 49,
      "outputs": [
        {
          "output_type": "display_data",
          "data": {
            "text/plain": [
              "                                            img_hash  img_names\n",
              "0  3923953698991339694463946046711026117082168134...          3\n",
              "1  9798094121843714923273770252341072339986264116...          3\n",
              "2                         17218272793594940962402240          2\n",
              "3  9216225168736309299904616141037865016657132898...          2\n",
              "4  6189770482576853967595530273092802082623908087...          2\n",
              "5  6188219984522862916163975973992932353726351425...          2\n",
              "6  5492676889109993216450142191827314626410290937...          2\n",
              "7  5492652629644850009002618031581405156732231351...          2\n",
              "8  5492485011483033081477295638288722722474838635...          2\n",
              "9  3591786525397209849705251677280222948750308852...          2"
            ],
            "text/html": [
              "\n",
              "  <div id=\"df-fa32e245-537a-4362-927b-947a11e3092b\">\n",
              "    <div class=\"colab-df-container\">\n",
              "      <div>\n",
              "<style scoped>\n",
              "    .dataframe tbody tr th:only-of-type {\n",
              "        vertical-align: middle;\n",
              "    }\n",
              "\n",
              "    .dataframe tbody tr th {\n",
              "        vertical-align: top;\n",
              "    }\n",
              "\n",
              "    .dataframe thead th {\n",
              "        text-align: right;\n",
              "    }\n",
              "</style>\n",
              "<table border=\"1\" class=\"dataframe\">\n",
              "  <thead>\n",
              "    <tr style=\"text-align: right;\">\n",
              "      <th></th>\n",
              "      <th>img_hash</th>\n",
              "      <th>img_names</th>\n",
              "    </tr>\n",
              "  </thead>\n",
              "  <tbody>\n",
              "    <tr>\n",
              "      <th>0</th>\n",
              "      <td>3923953698991339694463946046711026117082168134...</td>\n",
              "      <td>3</td>\n",
              "    </tr>\n",
              "    <tr>\n",
              "      <th>1</th>\n",
              "      <td>9798094121843714923273770252341072339986264116...</td>\n",
              "      <td>3</td>\n",
              "    </tr>\n",
              "    <tr>\n",
              "      <th>2</th>\n",
              "      <td>17218272793594940962402240</td>\n",
              "      <td>2</td>\n",
              "    </tr>\n",
              "    <tr>\n",
              "      <th>3</th>\n",
              "      <td>9216225168736309299904616141037865016657132898...</td>\n",
              "      <td>2</td>\n",
              "    </tr>\n",
              "    <tr>\n",
              "      <th>4</th>\n",
              "      <td>6189770482576853967595530273092802082623908087...</td>\n",
              "      <td>2</td>\n",
              "    </tr>\n",
              "    <tr>\n",
              "      <th>5</th>\n",
              "      <td>6188219984522862916163975973992932353726351425...</td>\n",
              "      <td>2</td>\n",
              "    </tr>\n",
              "    <tr>\n",
              "      <th>6</th>\n",
              "      <td>5492676889109993216450142191827314626410290937...</td>\n",
              "      <td>2</td>\n",
              "    </tr>\n",
              "    <tr>\n",
              "      <th>7</th>\n",
              "      <td>5492652629644850009002618031581405156732231351...</td>\n",
              "      <td>2</td>\n",
              "    </tr>\n",
              "    <tr>\n",
              "      <th>8</th>\n",
              "      <td>5492485011483033081477295638288722722474838635...</td>\n",
              "      <td>2</td>\n",
              "    </tr>\n",
              "    <tr>\n",
              "      <th>9</th>\n",
              "      <td>3591786525397209849705251677280222948750308852...</td>\n",
              "      <td>2</td>\n",
              "    </tr>\n",
              "  </tbody>\n",
              "</table>\n",
              "</div>\n",
              "      <button class=\"colab-df-convert\" onclick=\"convertToInteractive('df-fa32e245-537a-4362-927b-947a11e3092b')\"\n",
              "              title=\"Convert this dataframe to an interactive table.\"\n",
              "              style=\"display:none;\">\n",
              "        \n",
              "  <svg xmlns=\"http://www.w3.org/2000/svg\" height=\"24px\"viewBox=\"0 0 24 24\"\n",
              "       width=\"24px\">\n",
              "    <path d=\"M0 0h24v24H0V0z\" fill=\"none\"/>\n",
              "    <path d=\"M18.56 5.44l.94 2.06.94-2.06 2.06-.94-2.06-.94-.94-2.06-.94 2.06-2.06.94zm-11 1L8.5 8.5l.94-2.06 2.06-.94-2.06-.94L8.5 2.5l-.94 2.06-2.06.94zm10 10l.94 2.06.94-2.06 2.06-.94-2.06-.94-.94-2.06-.94 2.06-2.06.94z\"/><path d=\"M17.41 7.96l-1.37-1.37c-.4-.4-.92-.59-1.43-.59-.52 0-1.04.2-1.43.59L10.3 9.45l-7.72 7.72c-.78.78-.78 2.05 0 2.83L4 21.41c.39.39.9.59 1.41.59.51 0 1.02-.2 1.41-.59l7.78-7.78 2.81-2.81c.8-.78.8-2.07 0-2.86zM5.41 20L4 18.59l7.72-7.72 1.47 1.35L5.41 20z\"/>\n",
              "  </svg>\n",
              "      </button>\n",
              "      \n",
              "  <style>\n",
              "    .colab-df-container {\n",
              "      display:flex;\n",
              "      flex-wrap:wrap;\n",
              "      gap: 12px;\n",
              "    }\n",
              "\n",
              "    .colab-df-convert {\n",
              "      background-color: #E8F0FE;\n",
              "      border: none;\n",
              "      border-radius: 50%;\n",
              "      cursor: pointer;\n",
              "      display: none;\n",
              "      fill: #1967D2;\n",
              "      height: 32px;\n",
              "      padding: 0 0 0 0;\n",
              "      width: 32px;\n",
              "    }\n",
              "\n",
              "    .colab-df-convert:hover {\n",
              "      background-color: #E2EBFA;\n",
              "      box-shadow: 0px 1px 2px rgba(60, 64, 67, 0.3), 0px 1px 3px 1px rgba(60, 64, 67, 0.15);\n",
              "      fill: #174EA6;\n",
              "    }\n",
              "\n",
              "    [theme=dark] .colab-df-convert {\n",
              "      background-color: #3B4455;\n",
              "      fill: #D2E3FC;\n",
              "    }\n",
              "\n",
              "    [theme=dark] .colab-df-convert:hover {\n",
              "      background-color: #434B5C;\n",
              "      box-shadow: 0px 1px 3px 1px rgba(0, 0, 0, 0.15);\n",
              "      filter: drop-shadow(0px 1px 2px rgba(0, 0, 0, 0.3));\n",
              "      fill: #FFFFFF;\n",
              "    }\n",
              "  </style>\n",
              "\n",
              "      <script>\n",
              "        const buttonEl =\n",
              "          document.querySelector('#df-fa32e245-537a-4362-927b-947a11e3092b button.colab-df-convert');\n",
              "        buttonEl.style.display =\n",
              "          google.colab.kernel.accessAllowed ? 'block' : 'none';\n",
              "\n",
              "        async function convertToInteractive(key) {\n",
              "          const element = document.querySelector('#df-fa32e245-537a-4362-927b-947a11e3092b');\n",
              "          const dataTable =\n",
              "            await google.colab.kernel.invokeFunction('convertToInteractive',\n",
              "                                                     [key], {});\n",
              "          if (!dataTable) return;\n",
              "\n",
              "          const docLinkHtml = 'Like what you see? Visit the ' +\n",
              "            '<a target=\"_blank\" href=https://colab.research.google.com/notebooks/data_table.ipynb>data table notebook</a>'\n",
              "            + ' to learn more about interactive tables.';\n",
              "          element.innerHTML = '';\n",
              "          dataTable['output_type'] = 'display_data';\n",
              "          await google.colab.output.renderOutput(dataTable, element);\n",
              "          const docLink = document.createElement('div');\n",
              "          docLink.innerHTML = docLinkHtml;\n",
              "          element.appendChild(docLink);\n",
              "        }\n",
              "      </script>\n",
              "    </div>\n",
              "  </div>\n",
              "  "
            ]
          },
          "metadata": {}
        },
        {
          "output_type": "stream",
          "name": "stdout",
          "text": [
            "164\n"
          ]
        },
        {
          "output_type": "execute_result",
          "data": {
            "text/plain": [
              "Text(0.5, 1.0, 'hashes per img')"
            ]
          },
          "metadata": {},
          "execution_count": 49
        },
        {
          "output_type": "display_data",
          "data": {
            "text/plain": [
              "<Figure size 432x288 with 1 Axes>"
            ],
            "image/png": "[encoded data removed]"
          },
          "metadata": {
            "needs_background": "light"
          }
        }
      ]
    },
    {
      "cell_type": "code",
      "source": [
        "num_img_per_hash.nunique()"
      ],
      "metadata": {
        "colab": {
          "base_uri": "https://localhost:8080/"
        },
        "id": "dYDrGaxnWkvy",
        "outputId": "84ad5d79-e28b-48ec-de0e-1a4d1dd6f80d"
      },
      "execution_count": 50,
      "outputs": [
        {
          "output_type": "execute_result",
          "data": {
            "text/plain": [
              "img_hash     146\n",
              "img_names      3\n",
              "dtype: int64"
            ]
          },
          "metadata": {},
          "execution_count": 50
        }
      ]
    },
    {
      "cell_type": "markdown",
      "source": [
        "* **Remarks**\n",
        "\n",
        "In order to download the images from sentinel-hub API, a script request is configured using the least amount of clouds per epi week from which the satellite image with least amount of clouds is selected to create a cleaner dataset. \n",
        "\n",
        "More in depth, the algorithm selects the best image per week when there is an image with the least interference during the same week; if otherwise - when all images are totally occluded due to cloud interference, an extra day from the following week is added into the epiweek consecutively, until a better image than the ones within this pool is captured - see [code](https://github.com/sebasmos/satellite.extractor/blob/main/linux/request_multiple_images_by_slots.py). \n",
        "\n",
        "Despite the mosaicking order is based on the LeastCC algorithm, the fact that there can be cloud-occlouded images during months means that there can be images tha can be repeated a certain number of times within the downloaded dataset (around a month would be reasonable in most places, but this would depend of the local ecosystems and satellite taking the picture). As examplified by the worst case scenario, when every day totally covered by clouds, we expect to encounter cases when a very same image (with the same hash) might be repeated several times, e.g. in the case of some tropical areas like Amazonas, it can be cloudy up to 4 consecutive months from December to April, meaning that an image could be repeated up to 16 times - clearly, in one of the most tropical places on earth. \n",
        "\n",
        "The most effective way to analyse the repeatitiveness of this behaviour is using hashes, which maps a data structure of arbitrary size to fixed-sized data. In our case, we use the hashes to create a hash-image dictionary and compare how recurrently the repeat over the entire dataset. On the case above, we counted with the satellite data extracted from [satellite extractor](https://github.com/sebasmos/satellite.extractor), which contains 146 images from the city of Medellin and from which we observed that two images repeated a maximum number of three times, meaning that this city was totally occluded by clouds during a month. *However this is not common, as it can be seen that there are dupplicated images for less than 18 images out of 146 whilst all the other images preserve a unique hash, meaning that each image is unique in resolution and is different from each other in 80 % of the time for the city of Medellin*. A similar analysis can be performed for any dataset, from any city and from any type of dataset.  "
      ],
      "metadata": {
        "id": "lovUfk4YWfQq"
      }
    }
  ]
}